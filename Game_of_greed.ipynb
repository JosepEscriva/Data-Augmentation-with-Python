{
  "nbformat": 4,
  "nbformat_minor": 0,
  "metadata": {
    "colab": {
      "provenance": [],
      "toc_visible": true,
      "machine_shape": "hm",
      "gpuType": "V100",
      "authorship_tag": "ABX9TyOIjd+0uJoNPBJ45v09RW4h",
      "include_colab_link": true
    },
    "kernelspec": {
      "name": "python3",
      "display_name": "Python 3"
    },
    "language_info": {
      "name": "python"
    },
    "accelerator": "GPU"
  },
  "cells": [
    {
      "cell_type": "markdown",
      "metadata": {
        "id": "view-in-github",
        "colab_type": "text"
      },
      "source": [
        "<a href=\"https://colab.research.google.com/github/duchaba/Data-Augmentation-with-Python/blob/main/Game_of_greed.ipynb\" target=\"_parent\"><img src=\"https://colab.research.google.com/assets/colab-badge.svg\" alt=\"Open In Colab\"/></a>"
      ]
    },
    {
      "cell_type": "markdown",
      "source": [
        "# 🌻 Welcome to Game of God/Domination\n",
        "\n",
        "- It is based on the classifical game theory, the \"Prisoner's dilemma\"\n",
        "  - Wiki URL: https://en.wikipedia.org/wiki/Prisoner%27s_dilemma\n"
      ],
      "metadata": {
        "id": "-v-Fk2iode-n"
      }
    },
    {
      "cell_type": "markdown",
      "source": [
        "## 🤖 Goal:\n",
        "\n",
        "1. Get as many gold coins as possible.\n",
        "\n",
        "2. You can:\n",
        "  - **Share** (share, play fair, good) or\n",
        "  - **Steal** (cheat, bad)\n",
        "2. You start with \"X\" gold coins\n",
        "  - a\n",
        "2. The game is between you and one other opponent.\n",
        "3. The pot is set at random from 2, 3, 5, 8, 13, and 21 gold coins.\n",
        "\n",
        "4. If both Cooperate then each will have 50% of the pot of gold.\n",
        "  - Plus a random chance (1 of 21) of winning a coin from the world pot\n",
        "    - Only if the world pot has money\n",
        "\n",
        "5. If both Steel then:\n",
        "  - both get nothing (zero gold coins), and\n",
        "  - random chance (1 out of 8) of loosing a gold coins (minus one gold coin) or\n",
        "  - smaller random chance (1 out of 13) of loosing the same number of coins in the gold pot\n",
        "    - these lost coins are going to the world coin pot\n",
        "\n",
        "6. If one Cooperate and one Steel then:\n",
        "  - The one who steel get all the gold coins in the gold pot.\n",
        "  - The one who cooperate get nothing (zero coin)\n",
        "    - Plus a random change (1 of 13) of loosing a coin\n",
        "\n",
        "6. The one with the most coins win.\n",
        "\n",
        "7. If your gold coins is zero or less then zero then you die.\n",
        "\n",
        "7. There is two phase to exchange.\n",
        "  - Negociate\n",
        "    - You received\n",
        "      - An array of opponant previous move\n",
        "      - The size of the pot, gold coins up for winning\n",
        "      - oponent id\n",
        "    - You supply\n",
        "      - Your name (or block/unknow)\n",
        "      - Your promise move\n",
        "\n",
        "  - Action\n",
        "    - You receive\n",
        "      - oponent id\n",
        "      - your opment propose choice\n",
        "      - your oponment name\n",
        "      - your propose choice\n",
        "    - You supply\n",
        "        - the final choice of share or steel.\n",
        "\n",
        "8. Base player\n",
        "  - Tid or Tat\n",
        "  -"
      ],
      "metadata": {
        "id": "EirvVmY6eb0l"
      }
    },
    {
      "cell_type": "markdown",
      "source": [
        "## 👑 Note:\n",
        "\n",
        "1. Try to use Foxy buildin function, if not found then create new functions for Foxy.\n",
        "\n",
        "2. The goal is at least 50% of the code should be done by GenAI (Cody, or Gemini or GPT4)\n",
        "  - Code cell with **#prompt** is written by GenAI\n",
        "\n",
        "3. Scratch section is for experiemental. They should be clean up before release.\n",
        "\n",
        "4. Lastly, you **MUST** 🤠 have fun doing this. 🍄"
      ],
      "metadata": {
        "id": "Jf7sHpYJhV0B"
      }
    },
    {
      "cell_type": "markdown",
      "source": [
        "## 🙈 Legal:\n",
        "\n",
        "- This Python Jupyter Notebook is for sharing with **Friends**.\n",
        "\n",
        "- If you are **NOT** my friend, and I see you. In the best spirit of the **science community**, you may read this Notebook, but be aware that I see you.\n",
        "\n",
        "- Copyrights 2023: [GNU GENERAL PUBLIC LICENSE 3.0](https://www.gnu.org/licenses/gpl-3.0.en.html#license-text)"
      ],
      "metadata": {
        "id": "IB2vD0VMiQxB"
      }
    },
    {
      "cell_type": "markdown",
      "source": [
        "# 🦊 Instatiate Pluto, Foxy version\n",
        "\n",
        "- Github: 'https://github.com/duchaba/pluto_happy'"
      ],
      "metadata": {
        "id": "BUogjldqkhPn"
      }
    },
    {
      "cell_type": "code",
      "execution_count": 1,
      "metadata": {
        "colab": {
          "base_uri": "https://localhost:8080/"
        },
        "id": "vKL-A7ysdYn_",
        "outputId": "468fde9e-1fce-436a-8cbc-d283d6582108"
      },
      "outputs": [
        {
          "output_type": "stream",
          "name": "stdout",
          "text": [
            "git version 2.34.1\n"
          ]
        }
      ],
      "source": [
        "# check Git version, atleast version 2.34.1\n",
        "!git --version"
      ]
    },
    {
      "cell_type": "code",
      "source": [
        "# large files\n",
        "!pip install lfs\n",
        "!git-lfs track *.pkl"
      ],
      "metadata": {
        "colab": {
          "base_uri": "https://localhost:8080/"
        },
        "id": "_hsJlfdd6YT5",
        "outputId": "418907e2-8ed8-4be7-be86-8c498df2987f"
      },
      "execution_count": 2,
      "outputs": [
        {
          "output_type": "stream",
          "name": "stdout",
          "text": [
            "Collecting lfs\n",
            "  Downloading lfs-0.2-py3-none-any.whl (15 kB)\n",
            "Installing collected packages: lfs\n",
            "Successfully installed lfs-0.2\n",
            "Not in a git repository.\n"
          ]
        }
      ]
    },
    {
      "cell_type": "code",
      "source": [
        "# !jupyter nbextension enable hinterland/hinterland"
      ],
      "metadata": {
        "id": "ZFhqm_V3LK0w"
      },
      "execution_count": 3,
      "outputs": []
    },
    {
      "cell_type": "code",
      "source": [
        "# fetch pluto, foxy version\n",
        "fname = 'https://github.com/duchaba/pluto_happy'\n",
        "!git clone {fname}"
      ],
      "metadata": {
        "colab": {
          "base_uri": "https://localhost:8080/"
        },
        "id": "lopo_0f6nUxH",
        "outputId": "e1e0aefc-2019-4a78-d74c-d46d0a7a00b1"
      },
      "execution_count": 4,
      "outputs": [
        {
          "output_type": "stream",
          "name": "stdout",
          "text": [
            "Cloning into 'pluto_happy'...\n",
            "remote: Enumerating objects: 154, done.\u001b[K\n",
            "remote: Counting objects: 100% (154/154), done.\u001b[K\n",
            "remote: Compressing objects: 100% (121/121), done.\u001b[K\n",
            "remote: Total 154 (delta 88), reused 66 (delta 31), pack-reused 0\u001b[K\n",
            "Receiving objects: 100% (154/154), 29.92 MiB | 11.02 MiB/s, done.\n",
            "Resolving deltas: 100% (88/88), done.\n"
          ]
        }
      ]
    },
    {
      "cell_type": "code",
      "source": [
        "# Fetch game of greed\n",
        "fname = 'https://duchaba:@github.com/duchaba/game_of_greed'\n",
        "!git clone {fname}"
      ],
      "metadata": {
        "colab": {
          "base_uri": "https://localhost:8080/"
        },
        "id": "lE8FbXhX9V_E",
        "outputId": "f59502e4-97b8-470b-85b5-845f883eb68b"
      },
      "execution_count": 5,
      "outputs": [
        {
          "output_type": "stream",
          "name": "stdout",
          "text": [
            "Cloning into 'game_of_greed'...\n",
            "remote: Invalid username or password.\n",
            "fatal: Authentication failed for 'https://github.com/duchaba/game_of_greed/'\n"
          ]
        }
      ]
    },
    {
      "cell_type": "code",
      "source": [
        "# prompt: embed local image to jupyter notebook\n",
        "\n",
        "import IPython\n",
        "import IPython.display\n",
        "fname = \"/content/game_of_greed/IMG_8110.jpg\"\n",
        "IPython.display.Image(fname)\n"
      ],
      "metadata": {
        "colab": {
          "base_uri": "https://localhost:8080/",
          "height": 906
        },
        "id": "HsoWgLnAFwEj",
        "outputId": "b2a45408-6a25-4ace-ad5c-0c57cb959466"
      },
      "execution_count": 6,
      "outputs": [
        {
          "output_type": "error",
          "ename": "FileNotFoundError",
          "evalue": "No such file or directory: '/content/game_of_greed/IMG_8110.jpg'",
          "traceback": [
            "\u001b[0;31m---------------------------------------------------------------------------\u001b[0m",
            "\u001b[0;31mTypeError\u001b[0m                                 Traceback (most recent call last)",
            "\u001b[0;32m/usr/local/lib/python3.10/dist-packages/IPython/core/display.py\u001b[0m in \u001b[0;36m_data_and_metadata\u001b[0;34m(self, always_both)\u001b[0m\n\u001b[1;32m   1299\u001b[0m         \u001b[0;32mtry\u001b[0m\u001b[0;34m:\u001b[0m\u001b[0;34m\u001b[0m\u001b[0;34m\u001b[0m\u001b[0m\n\u001b[0;32m-> 1300\u001b[0;31m             \u001b[0mb64_data\u001b[0m \u001b[0;34m=\u001b[0m \u001b[0mb2a_base64\u001b[0m\u001b[0;34m(\u001b[0m\u001b[0mself\u001b[0m\u001b[0;34m.\u001b[0m\u001b[0mdata\u001b[0m\u001b[0;34m)\u001b[0m\u001b[0;34m.\u001b[0m\u001b[0mdecode\u001b[0m\u001b[0;34m(\u001b[0m\u001b[0;34m'ascii'\u001b[0m\u001b[0;34m)\u001b[0m\u001b[0;34m\u001b[0m\u001b[0;34m\u001b[0m\u001b[0m\n\u001b[0m\u001b[1;32m   1301\u001b[0m         \u001b[0;32mexcept\u001b[0m \u001b[0mTypeError\u001b[0m\u001b[0;34m:\u001b[0m\u001b[0;34m\u001b[0m\u001b[0;34m\u001b[0m\u001b[0m\n",
            "\u001b[0;31mTypeError\u001b[0m: a bytes-like object is required, not 'str'",
            "\nDuring handling of the above exception, another exception occurred:\n",
            "\u001b[0;31mFileNotFoundError\u001b[0m                         Traceback (most recent call last)",
            "\u001b[0;32m/usr/local/lib/python3.10/dist-packages/IPython/core/formatters.py\u001b[0m in \u001b[0;36m__call__\u001b[0;34m(self, obj, include, exclude)\u001b[0m\n\u001b[1;32m    968\u001b[0m \u001b[0;34m\u001b[0m\u001b[0m\n\u001b[1;32m    969\u001b[0m             \u001b[0;32mif\u001b[0m \u001b[0mmethod\u001b[0m \u001b[0;32mis\u001b[0m \u001b[0;32mnot\u001b[0m \u001b[0;32mNone\u001b[0m\u001b[0;34m:\u001b[0m\u001b[0;34m\u001b[0m\u001b[0;34m\u001b[0m\u001b[0m\n\u001b[0;32m--> 970\u001b[0;31m                 \u001b[0;32mreturn\u001b[0m \u001b[0mmethod\u001b[0m\u001b[0;34m(\u001b[0m\u001b[0minclude\u001b[0m\u001b[0;34m=\u001b[0m\u001b[0minclude\u001b[0m\u001b[0;34m,\u001b[0m \u001b[0mexclude\u001b[0m\u001b[0;34m=\u001b[0m\u001b[0mexclude\u001b[0m\u001b[0;34m)\u001b[0m\u001b[0;34m\u001b[0m\u001b[0;34m\u001b[0m\u001b[0m\n\u001b[0m\u001b[1;32m    971\u001b[0m             \u001b[0;32mreturn\u001b[0m \u001b[0;32mNone\u001b[0m\u001b[0;34m\u001b[0m\u001b[0;34m\u001b[0m\u001b[0m\n\u001b[1;32m    972\u001b[0m         \u001b[0;32melse\u001b[0m\u001b[0;34m:\u001b[0m\u001b[0;34m\u001b[0m\u001b[0;34m\u001b[0m\u001b[0m\n",
            "\u001b[0;32m/usr/local/lib/python3.10/dist-packages/IPython/core/display.py\u001b[0m in \u001b[0;36m_repr_mimebundle_\u001b[0;34m(self, include, exclude)\u001b[0m\n\u001b[1;32m   1288\u001b[0m         \u001b[0;32mif\u001b[0m \u001b[0mself\u001b[0m\u001b[0;34m.\u001b[0m\u001b[0membed\u001b[0m\u001b[0;34m:\u001b[0m\u001b[0;34m\u001b[0m\u001b[0;34m\u001b[0m\u001b[0m\n\u001b[1;32m   1289\u001b[0m             \u001b[0mmimetype\u001b[0m \u001b[0;34m=\u001b[0m \u001b[0mself\u001b[0m\u001b[0;34m.\u001b[0m\u001b[0m_mimetype\u001b[0m\u001b[0;34m\u001b[0m\u001b[0;34m\u001b[0m\u001b[0m\n\u001b[0;32m-> 1290\u001b[0;31m             \u001b[0mdata\u001b[0m\u001b[0;34m,\u001b[0m \u001b[0mmetadata\u001b[0m \u001b[0;34m=\u001b[0m \u001b[0mself\u001b[0m\u001b[0;34m.\u001b[0m\u001b[0m_data_and_metadata\u001b[0m\u001b[0;34m(\u001b[0m\u001b[0malways_both\u001b[0m\u001b[0;34m=\u001b[0m\u001b[0;32mTrue\u001b[0m\u001b[0;34m)\u001b[0m\u001b[0;34m\u001b[0m\u001b[0;34m\u001b[0m\u001b[0m\n\u001b[0m\u001b[1;32m   1291\u001b[0m             \u001b[0;32mif\u001b[0m \u001b[0mmetadata\u001b[0m\u001b[0;34m:\u001b[0m\u001b[0;34m\u001b[0m\u001b[0;34m\u001b[0m\u001b[0m\n\u001b[1;32m   1292\u001b[0m                 \u001b[0mmetadata\u001b[0m \u001b[0;34m=\u001b[0m \u001b[0;34m{\u001b[0m\u001b[0mmimetype\u001b[0m\u001b[0;34m:\u001b[0m \u001b[0mmetadata\u001b[0m\u001b[0;34m}\u001b[0m\u001b[0;34m\u001b[0m\u001b[0;34m\u001b[0m\u001b[0m\n",
            "\u001b[0;32m/usr/local/lib/python3.10/dist-packages/IPython/core/display.py\u001b[0m in \u001b[0;36m_data_and_metadata\u001b[0;34m(self, always_both)\u001b[0m\n\u001b[1;32m   1300\u001b[0m             \u001b[0mb64_data\u001b[0m \u001b[0;34m=\u001b[0m \u001b[0mb2a_base64\u001b[0m\u001b[0;34m(\u001b[0m\u001b[0mself\u001b[0m\u001b[0;34m.\u001b[0m\u001b[0mdata\u001b[0m\u001b[0;34m)\u001b[0m\u001b[0;34m.\u001b[0m\u001b[0mdecode\u001b[0m\u001b[0;34m(\u001b[0m\u001b[0;34m'ascii'\u001b[0m\u001b[0;34m)\u001b[0m\u001b[0;34m\u001b[0m\u001b[0;34m\u001b[0m\u001b[0m\n\u001b[1;32m   1301\u001b[0m         \u001b[0;32mexcept\u001b[0m \u001b[0mTypeError\u001b[0m\u001b[0;34m:\u001b[0m\u001b[0;34m\u001b[0m\u001b[0;34m\u001b[0m\u001b[0m\n\u001b[0;32m-> 1302\u001b[0;31m             raise FileNotFoundError(\n\u001b[0m\u001b[1;32m   1303\u001b[0m                 \"No such file or directory: '%s'\" % (self.data))\n\u001b[1;32m   1304\u001b[0m         \u001b[0mmd\u001b[0m \u001b[0;34m=\u001b[0m \u001b[0;34m{\u001b[0m\u001b[0;34m}\u001b[0m\u001b[0;34m\u001b[0m\u001b[0;34m\u001b[0m\u001b[0m\n",
            "\u001b[0;31mFileNotFoundError\u001b[0m: No such file or directory: '/content/game_of_greed/IMG_8110.jpg'"
          ]
        },
        {
          "output_type": "error",
          "ename": "FileNotFoundError",
          "evalue": "No such file or directory: '/content/game_of_greed/IMG_8110.jpg'",
          "traceback": [
            "\u001b[0;31m---------------------------------------------------------------------------\u001b[0m",
            "\u001b[0;31mTypeError\u001b[0m                                 Traceback (most recent call last)",
            "\u001b[0;32m/usr/local/lib/python3.10/dist-packages/IPython/core/display.py\u001b[0m in \u001b[0;36m_data_and_metadata\u001b[0;34m(self, always_both)\u001b[0m\n\u001b[1;32m   1299\u001b[0m         \u001b[0;32mtry\u001b[0m\u001b[0;34m:\u001b[0m\u001b[0;34m\u001b[0m\u001b[0;34m\u001b[0m\u001b[0m\n\u001b[0;32m-> 1300\u001b[0;31m             \u001b[0mb64_data\u001b[0m \u001b[0;34m=\u001b[0m \u001b[0mb2a_base64\u001b[0m\u001b[0;34m(\u001b[0m\u001b[0mself\u001b[0m\u001b[0;34m.\u001b[0m\u001b[0mdata\u001b[0m\u001b[0;34m)\u001b[0m\u001b[0;34m.\u001b[0m\u001b[0mdecode\u001b[0m\u001b[0;34m(\u001b[0m\u001b[0;34m'ascii'\u001b[0m\u001b[0;34m)\u001b[0m\u001b[0;34m\u001b[0m\u001b[0;34m\u001b[0m\u001b[0m\n\u001b[0m\u001b[1;32m   1301\u001b[0m         \u001b[0;32mexcept\u001b[0m \u001b[0mTypeError\u001b[0m\u001b[0;34m:\u001b[0m\u001b[0;34m\u001b[0m\u001b[0;34m\u001b[0m\u001b[0m\n",
            "\u001b[0;31mTypeError\u001b[0m: a bytes-like object is required, not 'str'",
            "\nDuring handling of the above exception, another exception occurred:\n",
            "\u001b[0;31mFileNotFoundError\u001b[0m                         Traceback (most recent call last)",
            "\u001b[0;32m/usr/local/lib/python3.10/dist-packages/IPython/core/formatters.py\u001b[0m in \u001b[0;36m__call__\u001b[0;34m(self, obj)\u001b[0m\n\u001b[1;32m    343\u001b[0m             \u001b[0mmethod\u001b[0m \u001b[0;34m=\u001b[0m \u001b[0mget_real_method\u001b[0m\u001b[0;34m(\u001b[0m\u001b[0mobj\u001b[0m\u001b[0;34m,\u001b[0m \u001b[0mself\u001b[0m\u001b[0;34m.\u001b[0m\u001b[0mprint_method\u001b[0m\u001b[0;34m)\u001b[0m\u001b[0;34m\u001b[0m\u001b[0;34m\u001b[0m\u001b[0m\n\u001b[1;32m    344\u001b[0m             \u001b[0;32mif\u001b[0m \u001b[0mmethod\u001b[0m \u001b[0;32mis\u001b[0m \u001b[0;32mnot\u001b[0m \u001b[0;32mNone\u001b[0m\u001b[0;34m:\u001b[0m\u001b[0;34m\u001b[0m\u001b[0;34m\u001b[0m\u001b[0m\n\u001b[0;32m--> 345\u001b[0;31m                 \u001b[0;32mreturn\u001b[0m \u001b[0mmethod\u001b[0m\u001b[0;34m(\u001b[0m\u001b[0;34m)\u001b[0m\u001b[0;34m\u001b[0m\u001b[0;34m\u001b[0m\u001b[0m\n\u001b[0m\u001b[1;32m    346\u001b[0m             \u001b[0;32mreturn\u001b[0m \u001b[0;32mNone\u001b[0m\u001b[0;34m\u001b[0m\u001b[0;34m\u001b[0m\u001b[0m\n\u001b[1;32m    347\u001b[0m         \u001b[0;32melse\u001b[0m\u001b[0;34m:\u001b[0m\u001b[0;34m\u001b[0m\u001b[0;34m\u001b[0m\u001b[0m\n",
            "\u001b[0;32m/usr/local/lib/python3.10/dist-packages/IPython/core/display.py\u001b[0m in \u001b[0;36m_repr_png_\u001b[0;34m(self)\u001b[0m\n\u001b[1;32m   1318\u001b[0m     \u001b[0;32mdef\u001b[0m \u001b[0m_repr_png_\u001b[0m\u001b[0;34m(\u001b[0m\u001b[0mself\u001b[0m\u001b[0;34m)\u001b[0m\u001b[0;34m:\u001b[0m\u001b[0;34m\u001b[0m\u001b[0;34m\u001b[0m\u001b[0m\n\u001b[1;32m   1319\u001b[0m         \u001b[0;32mif\u001b[0m \u001b[0mself\u001b[0m\u001b[0;34m.\u001b[0m\u001b[0membed\u001b[0m \u001b[0;32mand\u001b[0m \u001b[0mself\u001b[0m\u001b[0;34m.\u001b[0m\u001b[0mformat\u001b[0m \u001b[0;34m==\u001b[0m \u001b[0mself\u001b[0m\u001b[0;34m.\u001b[0m\u001b[0m_FMT_PNG\u001b[0m\u001b[0;34m:\u001b[0m\u001b[0;34m\u001b[0m\u001b[0;34m\u001b[0m\u001b[0m\n\u001b[0;32m-> 1320\u001b[0;31m             \u001b[0;32mreturn\u001b[0m \u001b[0mself\u001b[0m\u001b[0;34m.\u001b[0m\u001b[0m_data_and_metadata\u001b[0m\u001b[0;34m(\u001b[0m\u001b[0;34m)\u001b[0m\u001b[0;34m\u001b[0m\u001b[0;34m\u001b[0m\u001b[0m\n\u001b[0m\u001b[1;32m   1321\u001b[0m \u001b[0;34m\u001b[0m\u001b[0m\n\u001b[1;32m   1322\u001b[0m     \u001b[0;32mdef\u001b[0m \u001b[0m_repr_jpeg_\u001b[0m\u001b[0;34m(\u001b[0m\u001b[0mself\u001b[0m\u001b[0;34m)\u001b[0m\u001b[0;34m:\u001b[0m\u001b[0;34m\u001b[0m\u001b[0;34m\u001b[0m\u001b[0m\n",
            "\u001b[0;32m/usr/local/lib/python3.10/dist-packages/IPython/core/display.py\u001b[0m in \u001b[0;36m_data_and_metadata\u001b[0;34m(self, always_both)\u001b[0m\n\u001b[1;32m   1300\u001b[0m             \u001b[0mb64_data\u001b[0m \u001b[0;34m=\u001b[0m \u001b[0mb2a_base64\u001b[0m\u001b[0;34m(\u001b[0m\u001b[0mself\u001b[0m\u001b[0;34m.\u001b[0m\u001b[0mdata\u001b[0m\u001b[0;34m)\u001b[0m\u001b[0;34m.\u001b[0m\u001b[0mdecode\u001b[0m\u001b[0;34m(\u001b[0m\u001b[0;34m'ascii'\u001b[0m\u001b[0;34m)\u001b[0m\u001b[0;34m\u001b[0m\u001b[0;34m\u001b[0m\u001b[0m\n\u001b[1;32m   1301\u001b[0m         \u001b[0;32mexcept\u001b[0m \u001b[0mTypeError\u001b[0m\u001b[0;34m:\u001b[0m\u001b[0;34m\u001b[0m\u001b[0;34m\u001b[0m\u001b[0m\n\u001b[0;32m-> 1302\u001b[0;31m             raise FileNotFoundError(\n\u001b[0m\u001b[1;32m   1303\u001b[0m                 \"No such file or directory: '%s'\" % (self.data))\n\u001b[1;32m   1304\u001b[0m         \u001b[0mmd\u001b[0m \u001b[0;34m=\u001b[0m \u001b[0;34m{\u001b[0m\u001b[0;34m}\u001b[0m\u001b[0;34m\u001b[0m\u001b[0;34m\u001b[0m\u001b[0m\n",
            "\u001b[0;31mFileNotFoundError\u001b[0m: No such file or directory: '/content/game_of_greed/IMG_8110.jpg'"
          ]
        },
        {
          "output_type": "execute_result",
          "data": {
            "text/plain": [
              "<IPython.core.display.Image object>"
            ]
          },
          "metadata": {},
          "execution_count": 6
        }
      ]
    },
    {
      "cell_type": "markdown",
      "source": [],
      "metadata": {
        "id": "H7FKNWv-MXXB"
      }
    },
    {
      "cell_type": "code",
      "source": [
        "!pwd"
      ],
      "metadata": {
        "colab": {
          "base_uri": "https://localhost:8080/"
        },
        "id": "0Oxsy7GCptb7",
        "outputId": "141e2e7a-a530-40ce-989e-c1b685dd6e50"
      },
      "execution_count": 7,
      "outputs": [
        {
          "output_type": "stream",
          "name": "stdout",
          "text": [
            "/content\n"
          ]
        }
      ]
    },
    {
      "cell_type": "code",
      "source": [
        "# import os\n",
        "# f = '/content'\n",
        "# os.chdir(f)"
      ],
      "metadata": {
        "id": "2FY3KJNVqF73"
      },
      "execution_count": 8,
      "outputs": []
    },
    {
      "cell_type": "code",
      "source": [
        "# smoke test it\n",
        "!ls -la pluto_happy"
      ],
      "metadata": {
        "colab": {
          "base_uri": "https://localhost:8080/"
        },
        "id": "mOs6de4XoH31",
        "outputId": "eb1fab24-2a07-43de-d933-514079267225"
      },
      "execution_count": 9,
      "outputs": [
        {
          "output_type": "stream",
          "name": "stdout",
          "text": [
            "total 5612\n",
            "drwxr-xr-x 4 root root    4096 Jan 16 03:58 .\n",
            "drwxr-xr-x 1 root root    4096 Jan 16 03:58 ..\n",
            "-rw-r--r-- 1 root root 5578756 Jan 16 03:58 fastai_2023_image_classification_foxy.ipynb\n",
            "drwxr-xr-x 8 root root    4096 Jan 16 03:58 .git\n",
            "-rw-r--r-- 1 root root    1065 Jan 16 03:58 LICENSE\n",
            "drwxr-xr-x 2 root root    4096 Jan 16 03:58 notebooks\n",
            "-rw-r--r-- 1 root root   67847 Jan 16 03:58 pluto_foxy.py\n",
            "-rw-r--r-- 1 root root   30815 Jan 16 03:58 pluto_huggingface.py\n",
            "-rw-r--r-- 1 root root   23406 Jan 16 03:58 pluto.py\n",
            "-rw-r--r-- 1 root root     573 Jan 16 03:58 README.md\n",
            "-rw-r--r-- 1 root root     159 Jan 16 03:58 requirements_foxy.txt\n",
            "-rw-r--r-- 1 root root     100 Jan 16 03:58 requirements_huggingface.txt\n",
            "-rw-r--r-- 1 root root      53 Jan 16 03:58 requirements.txt\n"
          ]
        }
      ]
    },
    {
      "cell_type": "code",
      "source": [
        "# prompt: pip install requriements.txt\n",
        "\n",
        "%%capture log_pip_install\n",
        "fname = 'pluto_happy/requirements.txt'\n",
        "!pip install -r {fname}"
      ],
      "metadata": {
        "id": "WzkHWp-CnU8D"
      },
      "execution_count": 10,
      "outputs": []
    },
    {
      "cell_type": "code",
      "source": [
        "# log_pip_install.show()"
      ],
      "metadata": {
        "id": "EwaQnDnBxa4F"
      },
      "execution_count": 11,
      "outputs": []
    },
    {
      "cell_type": "code",
      "source": [
        "# install foxy\n",
        "fname = 'pluto_happy/pluto.py'\n",
        "%run {fname}"
      ],
      "metadata": {
        "id": "3ZeBBZZXojkF"
      },
      "execution_count": 12,
      "outputs": []
    },
    {
      "cell_type": "code",
      "source": [
        "# %%write app.py\n",
        "\n",
        "# wake up foxy\n",
        "monty = Pluto_Happy('Monty, shares or steel')"
      ],
      "metadata": {
        "colab": {
          "base_uri": "https://localhost:8080/"
        },
        "id": "eqvaxeavojnY",
        "outputId": "df575e80-c110-4995-8a21-66ba50449c68"
      },
      "execution_count": 13,
      "outputs": [
        {
          "output_type": "stream",
          "name": "stdout",
          "text": [
            "---------------------------------- : ----------------------------------\n",
            "                  Hello from class : <class '__main__.Pluto_Happy'> Class: Pluto_Happy\n",
            "                         Code name : Monty, shares or steel\n",
            "                         Author is : Duc Haba\n",
            "---------------------------------- : ----------------------------------\n"
          ]
        }
      ]
    },
    {
      "cell_type": "code",
      "source": [
        "# check out my environments\n",
        "\n",
        "monty.fname_requirements = 'pluto_happy/requirements.txt'\n",
        "monty.print_info_self()"
      ],
      "metadata": {
        "colab": {
          "base_uri": "https://localhost:8080/"
        },
        "id": "KxuRP5nbojqq",
        "outputId": "b8fd3a4e-bab3-40c8-ddfd-f0c4f6b0e4e3"
      },
      "execution_count": 14,
      "outputs": [
        {
          "output_type": "stream",
          "name": "stdout",
          "text": [
            "---------------------------------- : ----------------------------------\n",
            "                       Hello, I am : Monty, shares or steel\n",
            "                    I will display : Python, Jupyter, and system info.\n",
            "             For complete doc type : help(pluto) ...or help(your_object_name)\n",
            "                                 . : .\n",
            "                               ... : ¯\\_(ツ)_/¯\n",
            "---------------------------------- : ----------------------------------\n",
            "                            System : Info\n",
            "Total memory: 50.99 GB\n",
            "Available memory: 49.49 GB\n",
            "Memory usage: 0.02%\n",
            "CPU type: Intel(R) Xeon(R) CPU @ 2.00GHz, arch: X86_64\n",
            "Number of CPU cores: 8\n",
            "CPU usage: 20.1%\n",
            "Python version: 3.10.12.final.0 (64 bit)\n",
            "---------------------------------- : ----------------------------------\n",
            "                               GPU : Info\n",
            "GPU type: Tesla V100-SXM2-16GB\n",
            "GPU ready staus: True\n",
            "Number of GPUs: 1\n",
            "Total Memory: 16.00 GB\n",
            "Free Memory: 15.77 GB\n",
            "GPU allocated RAM: 0.0 GB\n",
            "GPU reserved RAM 0.0 GB\n",
            "\n",
            "---------------------------------- : ----------------------------------\n",
            "                Installed lib from : pluto_happy/requirements.txt\n",
            "---------------------------------- : ----------------------------------\n",
            "              cryptography version : 41.0.7\n",
            "           huggingface_hub version : 0.20.2\n",
            "                    pynvml version : 11.5.0\n",
            "                py-cpuinfo version : 9.0.0\n",
            "                    flopth version : 0.1.5\n",
            "---------------------------------- : ----------------------------------\n",
            "                 Standard lib from : System\n",
            "---------------------------------- : ----------------------------------\n",
            "                matplotlib version : 3.7.1\n",
            "                     numpy version : 1.23.5\n",
            "                    pandas version : 1.5.3\n",
            "                       PIL version : 9.4.0\n",
            "                     torch version : 2.1.0+cu121\n",
            "---------------------------------- : ----------------------------------\n",
            "                              Host : Info\n",
            "Hostname: 8f4de1c6bdea\n",
            "IP Address: 172.28.0.12\n",
            "\n",
            "---------------------------------- : ----------------------------------\n"
          ]
        }
      ]
    },
    {
      "cell_type": "code",
      "source": [
        "# help(monty)"
      ],
      "metadata": {
        "id": "BkUKaSNErYt5"
      },
      "execution_count": 15,
      "outputs": []
    },
    {
      "cell_type": "code",
      "source": [
        "# monty.draw_foxy_methods(list(dir(foxy)))"
      ],
      "metadata": {
        "id": "wF7HsdaSgJGh"
      },
      "execution_count": 16,
      "outputs": []
    },
    {
      "cell_type": "markdown",
      "source": [
        "# 🤖 Let's PlayBall, Share or Steal?"
      ],
      "metadata": {
        "id": "9zDDHkfIb9Z0"
      }
    },
    {
      "cell_type": "code",
      "source": [
        "# prompt: define two constant SHARE equal 1 and STEAL equal 0\n",
        "\n",
        "_SHARE = 1\n",
        "_STEAL = 0\n"
      ],
      "metadata": {
        "id": "VA2HU_lqdx94"
      },
      "execution_count": 17,
      "outputs": []
    },
    {
      "cell_type": "code",
      "source": [
        "# prompt: define a array with two player each has player_id and player_action\n",
        "\n",
        "\n",
        "players = [{'player_id': 1, 'player_action': _SHARE},\n",
        "  {'player_id': 2, 'player_action': _STEAL}]\n"
      ],
      "metadata": {
        "id": "7U9jR8WNMYuQ"
      },
      "execution_count": 18,
      "outputs": []
    },
    {
      "cell_type": "code",
      "source": [
        "# prompt: write a function with documentation and type with inputs as players and game_pot\n",
        "# manual: upate type to function\n",
        "\n",
        "def play_ball(players: list, game_pot: int) -> list:\n",
        "\n",
        "  \"\"\"\n",
        "  Play a game of prisoner's dilemma.\n",
        "\n",
        "  Args:\n",
        "    players: (list) A list of two players.\n",
        "      player_id: The id of the player.\n",
        "      player_action: The action of the player, either _SHARE or _STEAL.\n",
        "    game_pot: (int) The size of the pot of gold.\n",
        "\n",
        "  Returns:\n",
        "    (list) the results.\n",
        "      player_id: The id of the player.\n",
        "      coins: The number of coins the player gets.\n",
        "  \"\"\"\n",
        "\n",
        "  result = [{'player_id': players[0]['player_id'], 'coins': 0},\n",
        "    {'player_id': players[1]['player_id'], 'coins': 0}]\n",
        "  #\n",
        "  # the three cases:\n",
        "  # 1st both _SHARE\n",
        "  if (players[0]['player_action'] + players[1]['player_action']) == 2:\n",
        "    split = round((game_pot / 2), 1)\n",
        "    result[0]['coins'] = split\n",
        "    result[1]['coins'] = split\n",
        "  # 2nd both _STEAL\n",
        "  elif (players[0]['player_action'] + players[1]['player_action']) == 0:\n",
        "    result[0]['coins'] = 0\n",
        "    result[1]['coins'] = 0\n",
        "  # 3rd one _SHARE and one _STEAL\n",
        "  elif (players[0]['player_action'] == _STEAL):\n",
        "    result[0]['coins'] = game_pot\n",
        "  else:\n",
        "    result[1]['coins'] = game_pot\n",
        "\n",
        "  return result"
      ],
      "metadata": {
        "id": "UGrUUIZSfNvb"
      },
      "execution_count": 19,
      "outputs": []
    },
    {
      "cell_type": "code",
      "source": [
        "# prompt: write a few sample test for the function play_ball\n",
        "\n",
        "test_cases = [\n",
        "  ({'player_id': 1, 'player_action': _SHARE},\n",
        "   {'player_id': 2, 'player_action': _SHARE},\n",
        "   5,\n",
        "   [{'player_id': 1, 'coins': 2.5},\n",
        "    {'player_id': 2, 'coins': 2.5}]),\n",
        "  ({'player_id': 1, 'player_action': _SHARE},\n",
        "   {'player_id': 2, 'player_action': _STEAL},\n",
        "   5,\n",
        "   [{'player_id': 1, 'coins': 0},\n",
        "    {'player_id': 2, 'coins': 5}]),\n",
        "  ({'player_id': 1, 'player_action': _STEAL},\n",
        "   {'player_id': 2, 'player_action': _SHARE},\n",
        "   5,\n",
        "   [{'player_id': 1, 'coins': 5},\n",
        "    {'player_id': 2, 'coins': 0}]),\n",
        "  ({'player_id': 1, 'player_action': _STEAL},\n",
        "   {'player_id': 2, 'player_action': _STEAL},\n",
        "   5,\n",
        "   [{'player_id': 1, 'coins': 0},\n",
        "    {'player_id': 2, 'coins': 0}]),\n",
        "]\n",
        "\n",
        "for test_case in test_cases:\n",
        "  players = test_case[0:2]\n",
        "  game_pot = test_case[2]\n",
        "  expected_result = test_case[3]\n",
        "  result = play_ball(players, game_pot)\n",
        "  print(f'{result} == {expected_result}')\n",
        "  assert result == expected_result\n"
      ],
      "metadata": {
        "colab": {
          "base_uri": "https://localhost:8080/"
        },
        "id": "6ecBh3POfNzD",
        "outputId": "386374bd-5fad-4495-e846-524c6141a2ce"
      },
      "execution_count": 20,
      "outputs": [
        {
          "output_type": "stream",
          "name": "stdout",
          "text": [
            "[{'player_id': 1, 'coins': 2.5}, {'player_id': 2, 'coins': 2.5}] == [{'player_id': 1, 'coins': 2.5}, {'player_id': 2, 'coins': 2.5}]\n",
            "[{'player_id': 1, 'coins': 0}, {'player_id': 2, 'coins': 5}] == [{'player_id': 1, 'coins': 0}, {'player_id': 2, 'coins': 5}]\n",
            "[{'player_id': 1, 'coins': 5}, {'player_id': 2, 'coins': 0}] == [{'player_id': 1, 'coins': 5}, {'player_id': 2, 'coins': 0}]\n",
            "[{'player_id': 1, 'coins': 0}, {'player_id': 2, 'coins': 0}] == [{'player_id': 1, 'coins': 0}, {'player_id': 2, 'coins': 0}]\n"
          ]
        }
      ]
    },
    {
      "cell_type": "markdown",
      "source": [
        "# ☯︎ Tit for Tat Algorithm"
      ],
      "metadata": {
        "id": "hQjeYZbRqP4K"
      }
    },
    {
      "cell_type": "markdown",
      "source": [
        "#"
      ],
      "metadata": {
        "id": "tKiOSRJ9oBNd"
      }
    },
    {
      "cell_type": "code",
      "source": [
        "# prompt: write a python function with documentation for the tit-for-tat algorithm in the prisoner dilemma\n",
        "\n",
        "import typing\n",
        "def tit_for_tat(opponent_move: typing.Union[int, None]):\n",
        "  \"\"\"\n",
        "  The tit-for-tat strategy in the prisoner's dilemma.\n",
        "\n",
        "  This strategy always cooperates on the first move, and then follows the\n",
        "  opponent's previous move.\n",
        "\n",
        "  Args:\n",
        "    opponent_move: The opponent's previous move.\n",
        "\n",
        "  Returns:\n",
        "    The current player's move.\n",
        "  \"\"\"\n",
        "\n",
        "  if opponent_move is None:\n",
        "    return _SHARE\n",
        "  else:\n",
        "    return opponent_move\n"
      ],
      "metadata": {
        "id": "oy1o027UlnuA"
      },
      "execution_count": 21,
      "outputs": []
    },
    {
      "cell_type": "code",
      "source": [
        "# prompt: write test case for tit_for_tat function\n",
        "\n",
        "test_cases = [\n",
        "  (None, _SHARE),\n",
        "  (_SHARE, _SHARE),\n",
        "  (_SHARE, _STEAL),\n",
        "  (_STEAL, _SHARE),\n",
        "  (_STEAL, _STEAL),\n",
        "]\n",
        "\n",
        "for opponent_move, expected_result in test_cases:\n",
        "  result = tit_for_tat(opponent_move)\n",
        "  print(f'{result} == {expected_result}')\n",
        "  try:\n",
        "    assert result == expected_result\n",
        "  except AssertionError:\n",
        "    print(f'{result} != {expected_result}')\n"
      ],
      "metadata": {
        "colab": {
          "base_uri": "https://localhost:8080/"
        },
        "id": "KRSVRI2IlnxL",
        "outputId": "81ed608c-e200-498f-efee-c5b2c118aea2"
      },
      "execution_count": 22,
      "outputs": [
        {
          "output_type": "stream",
          "name": "stdout",
          "text": [
            "1 == 1\n",
            "1 == 1\n",
            "1 == 0\n",
            "1 != 0\n",
            "0 == 1\n",
            "0 != 1\n",
            "0 == 0\n"
          ]
        }
      ]
    },
    {
      "cell_type": "code",
      "source": [
        "# prompt: create a class with documentation name tit_for_tat with a name and function make_decision\n",
        "\n",
        "class tit_for_tat:\n",
        "  \"\"\"\n",
        "  The tit-for-tat strategy in the prisoner's dilemma.\n",
        "\n",
        "  This strategy always cooperates on the first move, and then follows the\n",
        "  opponent's previous move.\n",
        "\n",
        "  Args:\n",
        "    name: The name of the player.\n",
        "  \"\"\"\n",
        "\n",
        "  def __init__(self, name: str, i_pot = 0):\n",
        "    self.name = name\n",
        "    self.prev_move = None\n",
        "    self.player_pot = i_pot\n",
        "\n",
        "  def make_decision(self, opponent_prev_move: typing.Union[int, None]) -> int:\n",
        "    \"\"\"\n",
        "    Make a decision for the current player.\n",
        "\n",
        "    Args:\n",
        "      opponent_prev_move: (int or None)The opponent's previous move.\n",
        "\n",
        "    Returns:\n",
        "      (int) The current player's move.\n",
        "    \"\"\"\n",
        "\n",
        "    if opponent_prev_move is None:\n",
        "      return _SHARE\n",
        "    else:\n",
        "      return opponent_prev_move\n"
      ],
      "metadata": {
        "id": "2_-5_lSUln0k"
      },
      "execution_count": 23,
      "outputs": []
    },
    {
      "cell_type": "code",
      "source": [
        "# prompt: write test cases for class tit_for_tat\n",
        "\n",
        "test_cases = [\n",
        "  (None, _SHARE),\n",
        "  (_SHARE, _SHARE),\n",
        "  (_SHARE, _STEAL),\n",
        "  (_STEAL, _SHARE),\n",
        "  (_STEAL, _STEAL),\n",
        "]\n",
        "\n",
        "for opponent_move, expected_result in test_cases:\n",
        "  player = tit_for_tat('Tit for Tat')\n",
        "  result = player.make_decision(opponent_move)\n",
        "  print(f'{result} == {expected_result}')\n",
        "  try:\n",
        "    assert result == expected_result\n",
        "  except AssertionError:\n",
        "    print(f'{result} != {expected_result}')\n"
      ],
      "metadata": {
        "colab": {
          "base_uri": "https://localhost:8080/"
        },
        "id": "W-u0-d_tln3Q",
        "outputId": "ce7c1518-7e8e-4709-8fc1-6734e17b3d1c"
      },
      "execution_count": 24,
      "outputs": [
        {
          "output_type": "stream",
          "name": "stdout",
          "text": [
            "1 == 1\n",
            "1 == 1\n",
            "1 == 0\n",
            "1 != 0\n",
            "0 == 1\n",
            "0 != 1\n",
            "0 == 0\n"
          ]
        }
      ]
    },
    {
      "cell_type": "code",
      "source": [
        "# prompt: create a class with documentation name tit_for_tat with a name and function make_decision\n",
        "\n",
        "class tit_for_tat:\n",
        "  \"\"\"\n",
        "  The tit-for-tat strategy in the prisoner's dilemma.\n",
        "\n",
        "  This strategy always cooperates on the first move, and then follows the\n",
        "  opponent's previous move.\n",
        "\n",
        "  Args:\n",
        "    name: The name of the player.\n",
        "  \"\"\"\n",
        "\n",
        "  def __init__(self, name: str, i_pot: int = 0):\n",
        "    self.name = name\n",
        "    self.prev_move = None\n",
        "    self.player_pot = i_pot\n",
        "\n",
        "  def make_decision(self, payload: dict) -> int:\n",
        "    \"\"\"\n",
        "    Make a decision for the current player.\n",
        "\n",
        "    Args:\n",
        "      payload (dict): A dictionary containing the opponent's previous move.\n",
        "        .opponent_prev_move: (int or None)The opponent's previous move.\n",
        "\n",
        "    Returns:\n",
        "      (int) The current player's move.\n",
        "    \"\"\"\n",
        "\n",
        "    if payload[\"opponent_prev_move\"] is None:\n",
        "      return _SHARE\n",
        "    else:\n",
        "      return payload[\"opponent_prev_move\"]"
      ],
      "metadata": {
        "id": "3sAmLQU88lyv"
      },
      "execution_count": 61,
      "outputs": []
    },
    {
      "cell_type": "code",
      "source": [
        "# prompt: write test cases for the new class tit_for_tat\n",
        "\n",
        "test_cases = [\n",
        "  (None, _SHARE),\n",
        "  (_SHARE, _SHARE),\n",
        "  (_SHARE, _STEAL),\n",
        "  (_STEAL, _SHARE),\n",
        "  (_STEAL, _STEAL),\n",
        "]\n",
        "\n",
        "for opponent_move, expected_result in test_cases:\n",
        "  payload = {'opponent_prev_move': opponent_move}\n",
        "  player = tit_for_tat('Tit for Tat')\n",
        "  result = player.make_decision(payload)\n",
        "  print(f'{result} == {expected_result}')\n",
        "  try:\n",
        "    assert result == expected_result\n",
        "  except AssertionError:\n",
        "    print(f'{result} != {expected_result}')\n"
      ],
      "metadata": {
        "colab": {
          "base_uri": "https://localhost:8080/"
        },
        "id": "J5lU6flF9Ynx",
        "outputId": "b52a3761-bab8-4e2c-cc0e-a2118cfaafdf"
      },
      "execution_count": 26,
      "outputs": [
        {
          "output_type": "stream",
          "name": "stdout",
          "text": [
            "1 == 1\n",
            "1 == 1\n",
            "1 == 0\n",
            "1 != 0\n",
            "0 == 1\n",
            "0 != 1\n",
            "0 == 0\n"
          ]
        }
      ]
    },
    {
      "cell_type": "code",
      "source": [
        "player.name"
      ],
      "metadata": {
        "colab": {
          "base_uri": "https://localhost:8080/",
          "height": 35
        },
        "id": "DKHZPnLLv66j",
        "outputId": "7c5a52f7-f0c1-4d1a-ba62-9c0fcf2948a1"
      },
      "execution_count": 27,
      "outputs": [
        {
          "output_type": "execute_result",
          "data": {
            "text/plain": [
              "'Tit for Tat'"
            ],
            "application/vnd.google.colaboratory.intrinsic+json": {
              "type": "string"
            }
          },
          "metadata": {},
          "execution_count": 27
        }
      ]
    },
    {
      "cell_type": "markdown",
      "source": [
        "# 🦤 Random"
      ],
      "metadata": {
        "id": "nBxV5GRgyIKq"
      }
    },
    {
      "cell_type": "code",
      "source": [
        "# prompt: Bard/Gemini: write a python random function with documentation\n",
        "#   where the input is target percent of random and output is True or False\n",
        "\n",
        "import random\n",
        "def is_random(target_percent: float) -> bool:\n",
        " \"\"\"\n",
        " Checks if a random event occurs with a given target percentage.\n",
        "\n",
        " Args:\n",
        "   target_percent: The target percentage of randomness (between 0 and 100).\n",
        "\n",
        " Returns:\n",
        "   True if the random event occurs, False otherwise.\n",
        "\n",
        " Raises:\n",
        "   ValueError: If target_percent is not between 0 and 100.\n",
        "\n",
        "  Example usage\n",
        "    target_percent = 50\n",
        "    print(is_random(target_percent))\n",
        "    Output: True or False\n",
        " \"\"\"\n",
        "\n",
        " if not 0 <= target_percent <= 100:\n",
        "   raise ValueError(\"Target percentage must be between 0 and 100.\")\n",
        "\n",
        " # Generate a random number between 0 and 100.\n",
        " random_number = random.randint(0, 100)\n",
        "\n",
        " # Check if the random number is less than or equal to the target percentage.\n",
        " return random_number <= target_percent\n",
        "\n",
        "# Example usage\n",
        "target_percent = 50\n",
        "print(is_random(target_percent))"
      ],
      "metadata": {
        "colab": {
          "base_uri": "https://localhost:8080/"
        },
        "id": "eThVpv8rzAMF",
        "outputId": "f6d25751-4c94-4d6c-fbd1-96399b057fae"
      },
      "execution_count": 28,
      "outputs": [
        {
          "output_type": "stream",
          "name": "stdout",
          "text": [
            "True\n"
          ]
        }
      ]
    },
    {
      "cell_type": "code",
      "source": [
        "# prompt: test the is_random() in a 1,000 loop and print the summary result\n",
        "\n",
        "target_percent = 50\n",
        "cloop = 1000\n",
        "count = 0\n",
        "for i in range(cloop):\n",
        "  if is_random(target_percent):\n",
        "    count += 1\n",
        "print(f\"The random event occurred {count} times out of 1000.\")\n"
      ],
      "metadata": {
        "colab": {
          "base_uri": "https://localhost:8080/"
        },
        "id": "WVqKuExpzAP7",
        "outputId": "e2153b75-1fa1-4dc3-faef-e0fcc89066c4"
      },
      "execution_count": 29,
      "outputs": [
        {
          "output_type": "stream",
          "name": "stdout",
          "text": [
            "The random event occurred 519 times out of 1000.\n"
          ]
        }
      ]
    },
    {
      "cell_type": "code",
      "source": [
        "# prompt: write a function with documentation for testing is_random() a 1000 time and print the results\n",
        "\n",
        "def test_is_random(target_percent: float, cloop: int) -> None:\n",
        "  \"\"\"\n",
        "  Tests the is_random() function by generating a random number 1000 times\n",
        "  and checking if it is less than or equal to the target percentage.\n",
        "\n",
        "  Args:\n",
        "    target_percent: The target percentage of randomness (between 0 and 100).\n",
        "    cloop: The number of times to generate a random number.\n",
        "\n",
        "  Raises:\n",
        "    ValueError: If target_percent is not between 0 and 100.\n",
        "  \"\"\"\n",
        "\n",
        "  if not 0 <= target_percent <= 100:\n",
        "    raise ValueError(\"Target percentage must be between 0 and 100.\")\n",
        "\n",
        "  # Generate a random number between 0 and 100 cloop times.\n",
        "  random_numbers = [random.randint(0, 100) for i in range(cloop)]\n",
        "\n",
        "  # Check if each random number is less than or equal to the target percentage.\n",
        "  is_random_results = [is_random(target_percent) for random_number in random_numbers]\n",
        "\n",
        "  # Count the number of times the random event occurred.\n",
        "  count = sum(is_random_results)\n",
        "\n",
        "  # Print the results.\n",
        "  print(f\"The True random event occurred {(count/cloop)*100:.2f}%. Actual count {count} times out of {cloop}.\")\n",
        "  return\n",
        "\n",
        "# Example usage\n",
        "target_percent = 50\n",
        "cloop = 1000\n",
        "test_is_random(target_percent, cloop)\n",
        "\n"
      ],
      "metadata": {
        "colab": {
          "base_uri": "https://localhost:8080/"
        },
        "id": "w-ny_JfWzATA",
        "outputId": "e9fe6c73-68f3-48b6-e4ce-ae2cdcf17c68"
      },
      "execution_count": 30,
      "outputs": [
        {
          "output_type": "stream",
          "name": "stdout",
          "text": [
            "The True random event occurred 50.80%. Actual count 508 times out of 1000.\n"
          ]
        }
      ]
    },
    {
      "cell_type": "code",
      "source": [
        "%%time\n",
        "target_percent = 50\n",
        "cloop = 100000\n",
        "test_is_random(target_percent, cloop)"
      ],
      "metadata": {
        "colab": {
          "base_uri": "https://localhost:8080/"
        },
        "id": "8y07ie_uzAWA",
        "outputId": "a3145958-69c1-4ee6-89ac-47f37018a417"
      },
      "execution_count": 31,
      "outputs": [
        {
          "output_type": "stream",
          "name": "stdout",
          "text": [
            "The True random event occurred 50.77%. Actual count 50772 times out of 100000.\n",
            "CPU times: user 166 ms, sys: 3.58 ms, total: 169 ms\n",
            "Wall time: 168 ms\n"
          ]
        }
      ]
    },
    {
      "cell_type": "code",
      "source": [
        "%%time\n",
        "target_percent = (1/3)*100\n",
        "cloop = 100000\n",
        "test_is_random(target_percent, cloop)"
      ],
      "metadata": {
        "colab": {
          "base_uri": "https://localhost:8080/"
        },
        "id": "nN3KwOBXzAY-",
        "outputId": "8baee6e6-83b3-445d-a017-8651b4069084"
      },
      "execution_count": 32,
      "outputs": [
        {
          "output_type": "stream",
          "name": "stdout",
          "text": [
            "The True random event occurred 33.81%. Actual count 33810 times out of 100000.\n",
            "CPU times: user 166 ms, sys: 0 ns, total: 166 ms\n",
            "Wall time: 166 ms\n"
          ]
        }
      ]
    },
    {
      "cell_type": "code",
      "source": [
        "%%time\n",
        "target_percent = (1/5)*100\n",
        "cloop = 100000\n",
        "test_is_random(target_percent, cloop)"
      ],
      "metadata": {
        "colab": {
          "base_uri": "https://localhost:8080/"
        },
        "id": "QJc16C4rzAcV",
        "outputId": "576fd679-d9ae-43e5-b863-c3d18f12d36e"
      },
      "execution_count": 33,
      "outputs": [
        {
          "output_type": "stream",
          "name": "stdout",
          "text": [
            "The True random event occurred 20.63%. Actual count 20631 times out of 100000.\n",
            "CPU times: user 172 ms, sys: 0 ns, total: 172 ms\n",
            "Wall time: 172 ms\n"
          ]
        }
      ]
    },
    {
      "cell_type": "code",
      "source": [
        "%%time\n",
        "target_percent = (1/8)*100\n",
        "cloop = 100000\n",
        "test_is_random(target_percent, cloop)"
      ],
      "metadata": {
        "colab": {
          "base_uri": "https://localhost:8080/"
        },
        "id": "3-8hp2S-3tUP",
        "outputId": "5caace66-60b9-48db-f99f-d15c9f552cb6"
      },
      "execution_count": 34,
      "outputs": [
        {
          "output_type": "stream",
          "name": "stdout",
          "text": [
            "The True random event occurred 12.74%. Actual count 12743 times out of 100000.\n",
            "CPU times: user 167 ms, sys: 940 µs, total: 168 ms\n",
            "Wall time: 168 ms\n"
          ]
        }
      ]
    },
    {
      "cell_type": "code",
      "source": [
        "target_percent = (1/13)*100\n",
        "cloop = 100000\n",
        "test_is_random(target_percent, cloop)"
      ],
      "metadata": {
        "colab": {
          "base_uri": "https://localhost:8080/"
        },
        "id": "XvujKKSH3tgo",
        "outputId": "45624628-e009-4d9e-aa84-7dc111fe6b80"
      },
      "execution_count": 35,
      "outputs": [
        {
          "output_type": "stream",
          "name": "stdout",
          "text": [
            "The True random event occurred 7.70%. Actual count 7697 times out of 100000.\n"
          ]
        }
      ]
    },
    {
      "cell_type": "code",
      "source": [
        "target_percent = (1/21)*100\n",
        "cloop = 100000\n",
        "test_is_random(target_percent, cloop)"
      ],
      "metadata": {
        "colab": {
          "base_uri": "https://localhost:8080/"
        },
        "id": "P-o9_uT83tlX",
        "outputId": "45c54970-0ae9-4c6f-ebdb-f8647450a720"
      },
      "execution_count": 36,
      "outputs": [
        {
          "output_type": "stream",
          "name": "stdout",
          "text": [
            "The True random event occurred 4.88%. Actual count 4881 times out of 100000.\n"
          ]
        }
      ]
    },
    {
      "cell_type": "code",
      "source": [
        "target_percent = (1/34)*100\n",
        "cloop = 100000\n",
        "test_is_random(target_percent, cloop)"
      ],
      "metadata": {
        "colab": {
          "base_uri": "https://localhost:8080/"
        },
        "id": "GLMhG97H3tqY",
        "outputId": "821e1d88-e455-4848-dc07-c60815e3e662"
      },
      "execution_count": 37,
      "outputs": [
        {
          "output_type": "stream",
          "name": "stdout",
          "text": [
            "The True random event occurred 2.96%. Actual count 2956 times out of 100000.\n"
          ]
        }
      ]
    },
    {
      "cell_type": "code",
      "source": [
        "target_percent = 80.0\n",
        "cloop = 100000\n",
        "test_is_random(target_percent, cloop)"
      ],
      "metadata": {
        "colab": {
          "base_uri": "https://localhost:8080/"
        },
        "id": "R3f-qNvc_tEH",
        "outputId": "c019deb2-d524-483b-e440-abb373ac67ce"
      },
      "execution_count": 38,
      "outputs": [
        {
          "output_type": "stream",
          "name": "stdout",
          "text": [
            "The True random event occurred 80.12%. Actual count 80122 times out of 100000.\n"
          ]
        }
      ]
    },
    {
      "cell_type": "code",
      "source": [
        "target_percent = 0.45\n",
        "cloop = 100000\n",
        "test_is_random(target_percent, cloop)"
      ],
      "metadata": {
        "colab": {
          "base_uri": "https://localhost:8080/"
        },
        "id": "sgSMjskcCFsN",
        "outputId": "4486c311-9418-45cd-81fc-a0fc692a05c8"
      },
      "execution_count": 39,
      "outputs": [
        {
          "output_type": "stream",
          "name": "stdout",
          "text": [
            "The True random event occurred 0.95%. Actual count 949 times out of 100000.\n"
          ]
        }
      ]
    },
    {
      "cell_type": "markdown",
      "source": [
        "# 💣 Loose Cannon Algorithm"
      ],
      "metadata": {
        "id": "MsDH81Du8P5M"
      }
    },
    {
      "cell_type": "code",
      "source": [
        "# copy from: Tit-for-Tat with modification\n",
        "\n",
        "class loose_cannon:\n",
        "  \"\"\"\n",
        "  The Loose Cannon strategy in the prisoner's dilemma.\n",
        "\n",
        "  This strategy use 50/50 chance of _SHARE or _STEAL.\n",
        "\n",
        "  Args:\n",
        "    name: The name of the player.\n",
        "  \"\"\"\n",
        "\n",
        "  def __init__(self, name: str, i_pot: int = 0):\n",
        "    self.name = name\n",
        "    self.prev_move = None\n",
        "    self.player_pot = i_pot\n",
        "\n",
        "  def make_decision(self, payload: dict) -> int:\n",
        "    \"\"\"\n",
        "    Make a decision for the current player.\n",
        "\n",
        "    Args:\n",
        "      payload (dict): A dictionary containing the opponent's previous move.\n",
        "\n",
        "    Returns:\n",
        "      (int) The current player's move.\n",
        "    \"\"\"\n",
        "    val = _STEAL\n",
        "    if is_random(50.0):\n",
        "      val = _SHARE\n",
        "    return val"
      ],
      "metadata": {
        "id": "xSojsL8k3tug"
      },
      "execution_count": 62,
      "outputs": []
    },
    {
      "cell_type": "markdown",
      "source": [
        "# 🕺 Hippie Algorithm"
      ],
      "metadata": {
        "id": "EBqWPS4SAkx_"
      }
    },
    {
      "cell_type": "code",
      "source": [
        "# copy from: Loose Cannon with modification\n",
        "\n",
        "class hippie:\n",
        "  \"\"\"\n",
        "  The Hippie strategy in the prisoner's dilemma.\n",
        "\n",
        "  This strategy use 80% _SHARE and 20% _STEAL.\n",
        "\n",
        "  Args:\n",
        "    name: The name of the player.\n",
        "  \"\"\"\n",
        "\n",
        "  def __init__(self, name: str, i_pot: int = 0):\n",
        "    self.name = name\n",
        "    self.prev_move = None\n",
        "    self.player_pot = i_pot\n",
        "\n",
        "  def make_decision(self, payload: dict) -> int:\n",
        "    \"\"\"\n",
        "    Make a decision for the current player.\n",
        "\n",
        "    Args:\n",
        "      payload (dict): A dictionary containing the opponent's previous move.\n",
        "\n",
        "    Returns:\n",
        "      (int) The current player's move.\n",
        "    \"\"\"\n",
        "    val = _STEAL\n",
        "    if is_random(80.0):\n",
        "      val = _SHARE\n",
        "    return val"
      ],
      "metadata": {
        "id": "RDzdkNDoAVjE"
      },
      "execution_count": 41,
      "outputs": []
    },
    {
      "cell_type": "markdown",
      "source": [
        "# 🦛 Greedy Hippo Algorithm"
      ],
      "metadata": {
        "id": "ou0RmKyxBm9m"
      }
    },
    {
      "cell_type": "code",
      "source": [
        "# copy from: Loose Cannon with modification\n",
        "\n",
        "class greedy_hippo:\n",
        "  \"\"\"\n",
        "  The Greedy Hippo strategy in the prisoner's dilemma.\n",
        "\n",
        "  This strategy use 20% _SHARE and 80% _STEAL.\n",
        "\n",
        "  Args:\n",
        "    name: The name of the player.\n",
        "  \"\"\"\n",
        "\n",
        "  def __init__(self, name: str, i_pot: int = 0):\n",
        "    self.name = name\n",
        "    self.prev_move = None\n",
        "    self.player_pot = i_pot\n",
        "\n",
        "  def make_decision(self, payload: dict) -> int:\n",
        "    \"\"\"\n",
        "    Make a decision for the current player.\n",
        "\n",
        "    Args:\n",
        "      payload (dict): A dictionary containing the opponent's previous move.\n",
        "\n",
        "    Returns:\n",
        "      (int) The current player's move.\n",
        "    \"\"\"\n",
        "    val = _STEAL\n",
        "    if is_random(20.0):\n",
        "      val = _SHARE\n",
        "    return val"
      ],
      "metadata": {
        "id": "ZxPYY0x3_1pS"
      },
      "execution_count": 63,
      "outputs": []
    },
    {
      "cell_type": "markdown",
      "source": [
        "# 🤡 Crazy Psycho Algorithm"
      ],
      "metadata": {
        "id": "r5T0OBBzDx9Y"
      }
    },
    {
      "cell_type": "code",
      "source": [
        "# Copy from tit_for_tat with modification\n",
        "\n",
        "class crazy_psycho:\n",
        "  \"\"\"\n",
        "  The Crazy Psycho strategy in the prisoner's dilemma.\n",
        "\n",
        "  This strategy always steal on the first move, and then follows the opposite of the\n",
        "  opponent's previous move. It is the opposite of tit_for_tat algorithm.\n",
        "\n",
        "  Args:\n",
        "    name: The name of the player.\n",
        "  \"\"\"\n",
        "\n",
        "  def __init__(self, name: str, i_pot: int = 0):\n",
        "    self.name = name\n",
        "    self.prev_move = None\n",
        "    self.player_pot = i_pot\n",
        "\n",
        "  def make_decision(self, payload: dict) -> int:\n",
        "    \"\"\"\n",
        "    Make a decision for the current player.\n",
        "\n",
        "    Args:\n",
        "      payload (dict): A dictionary containing the opponent's previous move.\n",
        "        .opponent_prev_move: (int or None)The opponent's previous move.\n",
        "\n",
        "    Returns:\n",
        "      (int) The current player's move.\n",
        "    \"\"\"\n",
        "    val = _SHARE\n",
        "    if payload[\"opponent_prev_move\"] is None:\n",
        "      val = _STEAL\n",
        "    elif payload[\"opponent_prev_move\"] == _SHARE:\n",
        "      val = _STEAL\n",
        "    else:\n",
        "      val = _SHARE\n",
        "    return val\n",
        ""
      ],
      "metadata": {
        "id": "iCEGusMcDxPO"
      },
      "execution_count": 64,
      "outputs": []
    },
    {
      "cell_type": "code",
      "source": [
        "cat = crazy_psycho(name=\"Cat\")\n",
        "print(type(cat))\n",
        "print(cat.name)\n",
        "print(cat.make_decision({\"opponent_prev_move\": _SHARE}))"
      ],
      "metadata": {
        "colab": {
          "base_uri": "https://localhost:8080/"
        },
        "id": "lNAr2WjNelxT",
        "outputId": "aed39ffe-b1a2-4dd7-c54b-deca5dfb617d"
      },
      "execution_count": 65,
      "outputs": [
        {
          "output_type": "stream",
          "name": "stdout",
          "text": [
            "<class '__main__.crazy_psycho'>\n",
            "Cat\n",
            "0\n"
          ]
        }
      ]
    },
    {
      "cell_type": "code",
      "source": [
        "dog = [\"hello\", \"world\"]"
      ],
      "metadata": {
        "id": "6GlL-mwOhOGm"
      },
      "execution_count": 46,
      "outputs": []
    },
    {
      "cell_type": "code",
      "source": [
        "# prompt: loop through dog list print index and value\n",
        "\n",
        "for i, elem in enumerate(dog):\n",
        "  print(f\"{i}: {elem}\")\n"
      ],
      "metadata": {
        "id": "rMblu2LohrqQ"
      },
      "execution_count": null,
      "outputs": []
    },
    {
      "cell_type": "markdown",
      "source": [
        "# The Game of Greed"
      ],
      "metadata": {
        "id": "CQPz_eQNC4OP"
      }
    },
    {
      "cell_type": "code",
      "source": [
        "# write manually because GenAI could not do: write a python class with documentation for the game_of_greed base on\n",
        "# the prisoner delimma with a play_ball method.\n",
        "\n",
        "class game_of_greed:\n",
        "  \"\"\"\n",
        "  A class representing the Game of Greed based on the Prisoner's Dilemma.\n",
        "  \"\"\"\n",
        "\n",
        "  def __init__(self, i_epoch=365, i_pot=2):\n",
        "    \"\"\"\n",
        "    Initializes a new game.\n",
        "    \"\"\"\n",
        "    self._SHARE = 1\n",
        "    self._STEAL = 0\n",
        "    self._teams = []\n",
        "    self._epoch_count = i_epoch # default: 365 once a day in a year\n",
        "    self._game_pot = i_pot # default is 2 gold coins\n",
        "    self.has_valid_team = False\n",
        "    #\n",
        "    self.add_players()\n",
        "    return\n",
        "  #\n",
        "  # manual: initialize all players\n",
        "  def add_players(self) -> None:\n",
        "    \"\"\"\n",
        "    Add a new player to the game.\n",
        "\n",
        "    Args:\n",
        "      (None)\n",
        "\n",
        "    Returns:\n",
        "      (None)\n",
        "    \"\"\"\n",
        "    # player: (dict) A dictionary containing the player's information.\n",
        "    # name: (str) The name of the player.\n",
        "    # make_decision: (function) The strategy of the player.\n",
        "    self._teams.append(tit_for_tat(\"Tit for Tat Algorithm\"))\n",
        "    self._teams.append(crazy_psycho(\"Crazy Psycho Algorithm\"))\n",
        "    self._teams.append(loose_cannon(\"Loose Cannon Algorithm\"))\n",
        "    self._teams.append(hippie(\"Hippie Algorithm\"))\n",
        "    self._teams.append(greedy_hippo(\"Greedy Hippo Algorithm\"))\n",
        "\n",
        "    # Verify it\n",
        "    self.has_valid_team = self.verify_players(self._teams)\n",
        "    #\n",
        "    return\n",
        "  #\n",
        "  # prompt: loop through team list print index and value\n",
        "  # manual: some update\n",
        "  def verify_players(self, teams: list) -> bool:\n",
        "    \"\"\"\n",
        "    Add a new player to the game.\n",
        "\n",
        "    Args:\n",
        "      (list) A list of players.\n",
        "        name: (str) The name of the player.\n",
        "        make_decision: (function) The strategy of the player either _SHARE or _STEEL.\n",
        "\n",
        "    Returns:\n",
        "      (True) if all players are valid else (False)\n",
        "    \"\"\"\n",
        "    is_valid = True\n",
        "    try:\n",
        "      # Verify it\n",
        "      for i, iplayer in enumerate(teams):\n",
        "        print(f\"\\nplayer index name: {i}, {iplayer.name}\")\n",
        "        payload = {\"opponent_prev_move\": _SHARE}\n",
        "        print(f\"Player decision for opponent_prev_move: {self._SHARE} is: {iplayer.make_decision(payload)}\")\n",
        "        payload = {\"opponent_prev_move\": _STEAL}\n",
        "        print(f\"Player decision for opponent_prev_move: {self._STEAL} is: {iplayer.make_decision(payload)}\")\n",
        "    except Exception as e:\n",
        "      print(f\"Verify players: Exception: {e}\")\n",
        "      is_valid = False\n",
        "    #\n",
        "    return is_valid\n",
        "  #\n",
        "  # prompt: write a function with documentation and type with inputs as players and game_pot\n",
        "  # manual: upate type to function\n",
        "\n",
        "  def play_ball(self, players: list) -> list:\n",
        "\n",
        "    \"\"\"\n",
        "    Play a game of prisoner's dilemma. Decide who wins the pot or share.\n",
        "\n",
        "    Args:\n",
        "      players: (list) A list of two players.\n",
        "        player_id: The id of the player.\n",
        "        player_action: The action of the player, either _SHARE or _STEAL.\n",
        "        game_pot: (int) The size of the pot of gold.\n",
        "\n",
        "    Returns:\n",
        "      (list) the results.\n",
        "        player_id: The id of the player.\n",
        "        coins: The number of coins the player gets.\n",
        "    \"\"\"\n",
        "\n",
        "    result = [{'player_id': players[0]['player_id'], 'coins': 0},\n",
        "      {'player_id': players[1]['player_id'], 'coins': 0}]\n",
        "    #\n",
        "    # the three cases:\n",
        "    play_1_action = players[0].make_decision()\n",
        "    play_2_action = players[1]\n",
        "    # the\n",
        "    # 1st both _SHARE\n",
        "    if (players[0]['player_action'] + players[1]['player_action']) == 2:\n",
        "      split = round((self._game_pot / 2), 1)\n",
        "      result[0]['coins'] = split\n",
        "      result[1]['coins'] = split\n",
        "    # 2nd both _STEAL\n",
        "    elif (players[0]['player_action'] + players[1]['player_action']) == 0:\n",
        "      result[0]['coins'] = 0\n",
        "      result[1]['coins'] = 0\n",
        "    # 3rd one _SHARE and one _STEAL\n",
        "    elif (players[0]['player_action'] == _STEAL):\n",
        "      result[0]['coins'] = self._game_pot\n",
        "    else:\n",
        "      result[1]['coins'] = self._game_pot\n",
        "    #\n",
        "    return result\n",
        "  #\n",
        "  # prompt: write a function with documentation for looping through a list of players using play_ball for every player play with every other players\n",
        "  # manual: a lot of update to get what I mean\n",
        "\n",
        "  def play_games(self) -> list:\n",
        "\n",
        "    \"\"\"\n",
        "    Play a game of prisoner's dilemma for every player with every other player.\n",
        "\n",
        "    Args:\n",
        "      players: (list) A list of players.\n",
        "        player_id: The id of the player.\n",
        "        player_action: The action of the player, either _SHARE or _STEAL.\n",
        "      game_pot: (int) The size of the pot of gold.\n",
        "\n",
        "    Returns:\n",
        "      (list) the results.\n",
        "        player_id: The id of the player.\n",
        "        coins: The number of coins the player gets.\n",
        "    \"\"\"\n",
        "\n",
        "    results = []\n",
        "    #\n",
        "    for i, i_player in enumerate(self._teams):\n",
        "      for j in range(len(players)):\n",
        "        # result = monty.game_v1.play_ball([player, players[j]], game_pot)\n",
        "        # results.append(result)\n",
        "        if (i != j):\n",
        "          print(f\"Player {i}, {i_player.name}: against index {j}, {self._teams[j].name}\")\n",
        "      #\n",
        "      print(\"----------\")\n",
        "    #\n",
        "    return results\n",
        "#\n",
        "monty.game_v1 = game_of_greed()"
      ],
      "metadata": {
        "colab": {
          "base_uri": "https://localhost:8080/"
        },
        "id": "8OgIXjiV3ty-",
        "outputId": "d89c34b3-de4e-4270-c3b8-d556c9340edc"
      },
      "execution_count": 79,
      "outputs": [
        {
          "output_type": "stream",
          "name": "stdout",
          "text": [
            "\n",
            "player index name: 0, Tit for Tat Algorithm\n",
            "Player decision for opponent_prev_move: 1 is: 1\n",
            "Player decision for opponent_prev_move: 0 is: 0\n",
            "\n",
            "player index name: 1, Crazy Psycho Algorithm\n",
            "Player decision for opponent_prev_move: 1 is: 0\n",
            "Player decision for opponent_prev_move: 0 is: 1\n",
            "\n",
            "player index name: 2, Loose Cannon Algorithm\n",
            "Player decision for opponent_prev_move: 1 is: 1\n",
            "Player decision for opponent_prev_move: 0 is: 0\n",
            "\n",
            "player index name: 3, Hippie Algorithm\n",
            "Player decision for opponent_prev_move: 1 is: 1\n",
            "Player decision for opponent_prev_move: 0 is: 1\n",
            "\n",
            "player index name: 4, Greedy Hippo Algorithm\n",
            "Player decision for opponent_prev_move: 1 is: 0\n",
            "Player decision for opponent_prev_move: 0 is: 1\n"
          ]
        }
      ]
    },
    {
      "cell_type": "code",
      "source": [
        "monty.game_v1.play_games()"
      ],
      "metadata": {
        "colab": {
          "base_uri": "https://localhost:8080/"
        },
        "id": "24iHjWqO-40g",
        "outputId": "68535c7c-d97f-40d1-ff9a-606ae5e4e5bf"
      },
      "execution_count": 80,
      "outputs": [
        {
          "output_type": "stream",
          "name": "stdout",
          "text": [
            "Player 0, Tit for Tat Algorithm: against index 1, Crazy Psycho Algorithm\n",
            "Player 0, Tit for Tat Algorithm: against index 2, Loose Cannon Algorithm\n",
            "Player 0, Tit for Tat Algorithm: against index 3, Hippie Algorithm\n",
            "Player 0, Tit for Tat Algorithm: against index 4, Greedy Hippo Algorithm\n",
            "----------\n",
            "Player 1, Crazy Psycho Algorithm: against index 0, Tit for Tat Algorithm\n",
            "Player 1, Crazy Psycho Algorithm: against index 2, Loose Cannon Algorithm\n",
            "Player 1, Crazy Psycho Algorithm: against index 3, Hippie Algorithm\n",
            "Player 1, Crazy Psycho Algorithm: against index 4, Greedy Hippo Algorithm\n",
            "----------\n",
            "Player 2, Loose Cannon Algorithm: against index 0, Tit for Tat Algorithm\n",
            "Player 2, Loose Cannon Algorithm: against index 1, Crazy Psycho Algorithm\n",
            "Player 2, Loose Cannon Algorithm: against index 3, Hippie Algorithm\n",
            "Player 2, Loose Cannon Algorithm: against index 4, Greedy Hippo Algorithm\n",
            "----------\n",
            "Player 3, Hippie Algorithm: against index 0, Tit for Tat Algorithm\n",
            "Player 3, Hippie Algorithm: against index 1, Crazy Psycho Algorithm\n",
            "Player 3, Hippie Algorithm: against index 2, Loose Cannon Algorithm\n",
            "Player 3, Hippie Algorithm: against index 4, Greedy Hippo Algorithm\n",
            "----------\n",
            "Player 4, Greedy Hippo Algorithm: against index 0, Tit for Tat Algorithm\n",
            "Player 4, Greedy Hippo Algorithm: against index 1, Crazy Psycho Algorithm\n",
            "Player 4, Greedy Hippo Algorithm: against index 2, Loose Cannon Algorithm\n",
            "Player 4, Greedy Hippo Algorithm: against index 3, Hippie Algorithm\n",
            "----------\n"
          ]
        },
        {
          "output_type": "execute_result",
          "data": {
            "text/plain": [
              "[]"
            ]
          },
          "metadata": {},
          "execution_count": 80
        }
      ]
    },
    {
      "cell_type": "code",
      "source": [],
      "metadata": {
        "id": "xYiiDuld-45F"
      },
      "execution_count": null,
      "outputs": []
    },
    {
      "cell_type": "code",
      "source": [],
      "metadata": {
        "id": "8rjcdJU_-48_"
      },
      "execution_count": null,
      "outputs": []
    },
    {
      "cell_type": "code",
      "source": [
        "# def play_all_pairs(players, game_class):\n",
        "#   \"\"\"\n",
        "#   Plays games between all possible pairs of players in a list.\n",
        "\n",
        "#   Args:\n",
        "#     players: A list of player objects, each of which should have a `play_ball` method.\n",
        "#     game_class: The class representing the game to be played (e.g., PrisonerDilemmaGameOfGreed).\n",
        "#   \"\"\"\n",
        "\n",
        "#   for i in range(len(players)):\n",
        "#     for j in range(i + 1, len(players)):\n",
        "#       player1 = game_class()\n",
        "#       player2 = game_class()\n",
        "\n",
        "#       print(f\"Playing game between {players[i].name} and {players[j].name}:\")\n",
        "\n",
        "#       # Play multiple rounds (adjust number as needed)\n",
        "#       for _ in range(3):\n",
        "#         player1.play_ball(player2)  # Player 1 plays against player 2\n",
        "#         player2.play_ball(player1)  # Player 2 plays against player 1\n",
        "\n",
        "#       print(f\"Final scores: {players[i].name} - {player1.player_score}, {players[j].name} - {player2.player_score}\")\n",
        "\n",
        "#       print(\"--------------------\")  # Separate game results"
      ],
      "metadata": {
        "id": "cXcyzhcH7nzw"
      },
      "execution_count": null,
      "outputs": []
    },
    {
      "cell_type": "code",
      "source": [
        "# prompt: write a function with documentation for looping through a list of players using play_ball for every player play with every other players\n",
        "# manual: a lot of update to get what I mean\n",
        "\n",
        "def play_games(players: list, game_pot: int) -> list:\n",
        "\n",
        "  \"\"\"\n",
        "  Play a game of prisoner's dilemma for every player with every other player.\n",
        "\n",
        "  Args:\n",
        "    players: (list) A list of players.\n",
        "      player_id: The id of the player.\n",
        "      player_action: The action of the player, either _SHARE or _STEAL.\n",
        "    game_pot: (int) The size of the pot of gold.\n",
        "\n",
        "  Returns:\n",
        "    (list) the results.\n",
        "      player_id: The id of the player.\n",
        "      coins: The number of coins the player gets.\n",
        "  \"\"\"\n",
        "\n",
        "  results = []\n",
        "  #\n",
        "  for i, player in enumerate(players):\n",
        "    for j in range(len(players)):\n",
        "      # result = monty.game_v1.play_ball([player, players[j]], game_pot)\n",
        "      # results.append(result)\n",
        "      if (i != j):\n",
        "        print(f\"Player {i} with {j}\")\n",
        "  #\n",
        "  return results\n"
      ],
      "metadata": {
        "id": "9WtBIgMnDTa9"
      },
      "execution_count": 71,
      "outputs": []
    },
    {
      "cell_type": "code",
      "source": [
        "# prompt: create a list of 5 players with people name\n",
        "\n",
        "t_players = [\n",
        "    {\n",
        "        \"name\": \"Alice\",\n",
        "        \"make_decision\": lambda opponent_prev_move: random.choice([_SHARE, _STEAL]),\n",
        "    },\n",
        "    {\n",
        "        \"name\": \"Bob\",\n",
        "        \"make_decision\": lambda opponent_prev_move: random.choice([_SHARE, _STEAL]),\n",
        "    },\n",
        "    {\n",
        "        \"name\": \"Carol\",\n",
        "        \"make_decision\": lambda opponent_prev_move: random.choice([_SHARE, _STEAL]),\n",
        "    },\n",
        "    {\n",
        "        \"name\": \"Dave\",\n",
        "        \"make_decision\": lambda opponent_prev_move: random.choice([_SHARE, _STEAL]),\n",
        "    },\n",
        "    {\n",
        "        \"name\": \"Eve\",\n",
        "        \"make_decision\": lambda opponent_prev_move: random.choice([_SHARE, _STEAL]),\n",
        "    },\n",
        "]\n"
      ],
      "metadata": {
        "id": "22FgLrTx8udQ"
      },
      "execution_count": 69,
      "outputs": []
    },
    {
      "cell_type": "code",
      "source": [
        "# test it\n",
        "play_games(t_players, 2)"
      ],
      "metadata": {
        "colab": {
          "base_uri": "https://localhost:8080/"
        },
        "id": "vUjfLlG_9Qxz",
        "outputId": "81fa2fa8-721e-4873-eec7-a39c3c7ecec8"
      },
      "execution_count": 72,
      "outputs": [
        {
          "output_type": "stream",
          "name": "stdout",
          "text": [
            "Player 0 with 1\n",
            "Player 0 with 2\n",
            "Player 0 with 3\n",
            "Player 0 with 4\n",
            "Player 1 with 0\n",
            "Player 1 with 2\n",
            "Player 1 with 3\n",
            "Player 1 with 4\n",
            "Player 2 with 0\n",
            "Player 2 with 1\n",
            "Player 2 with 3\n",
            "Player 2 with 4\n",
            "Player 3 with 0\n",
            "Player 3 with 1\n",
            "Player 3 with 2\n",
            "Player 3 with 4\n",
            "Player 4 with 0\n",
            "Player 4 with 1\n",
            "Player 4 with 2\n",
            "Player 4 with 3\n"
          ]
        },
        {
          "output_type": "execute_result",
          "data": {
            "text/plain": [
              "[]"
            ]
          },
          "metadata": {},
          "execution_count": 72
        }
      ]
    },
    {
      "cell_type": "markdown",
      "metadata": {
        "id": "P0BqlE3dGbnq"
      },
      "source": [
        "# 🐢 Pull and Push to Github\n",
        "\n",
        "**Note:** ✋\n",
        "\n",
        "- QA it on this notebook **BEFORE** push it.\n",
        "\n",
        "- If you change any data or files, commit and push it to github. For now, we don't need pull-request, so push it to main or your-branch-name.\n",
        "\n",
        "- I ussualy comment out the section because I don't want to accidental run it (when not ready)."
      ]
    },
    {
      "cell_type": "code",
      "execution_count": null,
      "metadata": {
        "tags": [],
        "id": "MIVSHSwmGbnq",
        "colab": {
          "base_uri": "https://localhost:8080/"
        },
        "outputId": "6d21a3ea-7f88-467a-a080-caf1f1c6753f"
      },
      "outputs": [
        {
          "output_type": "stream",
          "name": "stdout",
          "text": [
            "/content/pluto_happy\n"
          ]
        }
      ],
      "source": [
        "!pwd"
      ]
    },
    {
      "cell_type": "code",
      "source": [
        "import os\n",
        "f = 'pluto_happy'\n",
        "# f = '/content/foxy_cnn_image_classification'\n",
        "os.chdir(f)"
      ],
      "metadata": {
        "id": "iytF4it5eCt3"
      },
      "execution_count": null,
      "outputs": []
    },
    {
      "cell_type": "code",
      "execution_count": null,
      "metadata": {
        "tags": [],
        "id": "lBESQ2AAGbnq",
        "colab": {
          "base_uri": "https://localhost:8080/"
        },
        "outputId": "6f2f6bd0-b570-4575-ae33-fcbb7982a92d"
      },
      "outputs": [
        {
          "output_type": "stream",
          "name": "stdout",
          "text": [
            "* \u001b[32mmaster\u001b[m\n"
          ]
        }
      ],
      "source": [
        "!git branch"
      ]
    },
    {
      "cell_type": "code",
      "execution_count": null,
      "metadata": {
        "tags": [],
        "id": "FlvaEHrEGbnr",
        "colab": {
          "base_uri": "https://localhost:8080/"
        },
        "outputId": "f207e341-56d1-47d9-bb15-f5974eaa2498"
      },
      "outputs": [
        {
          "output_type": "stream",
          "name": "stdout",
          "text": [
            "remote: Enumerating objects: 4, done.\u001b[K\n",
            "remote: Counting objects: 100% (4/4), done.\u001b[K\n",
            "remote: Compressing objects: 100% (3/3), done.\u001b[K\n",
            "remote: Total 3 (delta 1), reused 0 (delta 0), pack-reused 0\u001b[K\n",
            "Unpacking objects: 100% (3/3), 3.82 MiB | 11.31 MiB/s, done.\n",
            "From https://github.com/duchaba/pluto_happy\n",
            "   f35963e..5e1d435  master     -> origin/master\n",
            "Updating f35963e..5e1d435\n",
            "Fast-forward\n",
            " fastai_2023_image_classification_foxy.ipynb | 7097 \u001b[32m+++++++++++++++++++++++++++++++++++++++++++++++\u001b[m\n",
            " 1 file changed, 7097 insertions(+)\n",
            " create mode 100644 fastai_2023_image_classification_foxy.ipynb\n"
          ]
        }
      ],
      "source": [
        "!git pull"
      ]
    },
    {
      "cell_type": "code",
      "execution_count": null,
      "metadata": {
        "tags": [],
        "id": "jKnWWmInGbnr",
        "colab": {
          "base_uri": "https://localhost:8080/"
        },
        "outputId": "857aa23c-84f7-4ec7-b456-c92bb7c32e62"
      },
      "outputs": [
        {
          "output_type": "stream",
          "name": "stdout",
          "text": [
            "pluto_foxy.py\n"
          ]
        }
      ],
      "source": [
        "# check for update file\n",
        "!git diff --name-only"
      ]
    },
    {
      "cell_type": "code",
      "source": [
        "# import os\n",
        "# f = 'Data-Augmentation-with-Python'\n",
        "# os.chdir(f)\n",
        "!git add -A\n",
        "!git config --global user.email \"duc.haba@gmail.com\"\n",
        "!git config --global user.name \"duchaba\"\n",
        "!git commit -m \"add new predict methods\"\n",
        "# # do the git push in the xterm console\n",
        "# #!git push"
      ],
      "metadata": {
        "colab": {
          "base_uri": "https://localhost:8080/"
        },
        "id": "uWTzuEkld8E6",
        "outputId": "7806f331-f32a-4af2-f92a-8aa90ce866b3"
      },
      "execution_count": null,
      "outputs": [
        {
          "output_type": "stream",
          "name": "stdout",
          "text": [
            "[master de12fef] add new predict methods\n",
            " 1 file changed, 74 insertions(+), 4 deletions(-)\n"
          ]
        }
      ]
    },
    {
      "cell_type": "code",
      "execution_count": null,
      "metadata": {
        "tags": [],
        "id": "XMDuDF5gGbnr"
      },
      "outputs": [],
      "source": [
        "# # check for any in stage ready to commit\n",
        "# !git diff --name-only --staged"
      ]
    },
    {
      "cell_type": "code",
      "execution_count": null,
      "metadata": {
        "tags": [],
        "id": "pAIl7ZzEGbns",
        "colab": {
          "base_uri": "https://localhost:8080/"
        },
        "outputId": "9349e9f3-1448-473d-ce6e-9d97ace81987"
      },
      "outputs": [
        {
          "output_type": "stream",
          "name": "stdout",
          "text": [
            "\u001b[33mcommit de12fefe413ed2edfeb8727affc25a366d2d7a50\u001b[m\u001b[33m (\u001b[m\u001b[1;36mHEAD -> \u001b[m\u001b[1;32mmaster\u001b[m\u001b[33m)\u001b[m\n",
            "Author: duchaba <duc.haba@gmail.com>\n",
            "Date:   Sat Jan 6 08:32:32 2024 +0000\n",
            "\n",
            "    add new predict methods\n",
            "\n",
            "M\tpluto_foxy.py\n"
          ]
        }
      ],
      "source": [
        "# check what were the commits\n",
        "!git log --name-status HEAD^..HEAD"
      ]
    },
    {
      "cell_type": "code",
      "execution_count": null,
      "metadata": {
        "tags": [],
        "id": "7Azo-O8pGbnt",
        "colab": {
          "base_uri": "https://localhost:8080/"
        },
        "outputId": "98189ec2-e164-4d45-8dc3-582e74e5efe0"
      },
      "outputs": [
        {
          "output_type": "stream",
          "name": "stdout",
          "text": [
            "On branch master\n",
            "Your branch is ahead of 'origin/master' by 1 commit.\n",
            "  (use \"git push\" to publish your local commits)\n",
            "\n",
            "nothing to commit, working tree clean\n"
          ]
        }
      ],
      "source": [
        "# double check it before commit\n",
        "!git status"
      ]
    },
    {
      "cell_type": "code",
      "source": [],
      "metadata": {
        "id": "6PTBg6HWkTU_"
      },
      "execution_count": null,
      "outputs": []
    },
    {
      "cell_type": "code",
      "source": [
        "!pip install lfs"
      ],
      "metadata": {
        "colab": {
          "base_uri": "https://localhost:8080/"
        },
        "id": "dmPsmXZBuaB3",
        "outputId": "44269845-6f77-4491-a4db-d5ca12da9b6c"
      },
      "execution_count": null,
      "outputs": [
        {
          "output_type": "stream",
          "name": "stdout",
          "text": [
            "Collecting lfs\n",
            "  Downloading lfs-0.2-py3-none-any.whl (15 kB)\n",
            "Installing collected packages: lfs\n",
            "Successfully installed lfs-0.2\n"
          ]
        }
      ]
    },
    {
      "cell_type": "code",
      "source": [
        "# prompt: git push large file\n",
        "\n",
        "!git-lfs track *.pkl"
      ],
      "metadata": {
        "colab": {
          "base_uri": "https://localhost:8080/"
        },
        "id": "fU6cc4f4ulGZ",
        "outputId": "22de401c-2543-4c09-d21c-0c30793fe51e"
      },
      "execution_count": null,
      "outputs": [
        {
          "output_type": "stream",
          "name": "stdout",
          "text": [
            "Tracking \"*.pkl\"\n"
          ]
        }
      ]
    },
    {
      "cell_type": "code",
      "execution_count": null,
      "metadata": {
        "tags": [],
        "id": "dWaoO8u2Gbnt",
        "colab": {
          "base_uri": "https://localhost:8080/"
        },
        "outputId": "e9806628-1e16-48bf-9f5d-2125477e7b22"
      },
      "outputs": [
        {
          "output_type": "stream",
          "name": "stdout",
          "text": [
            "remote: Support for password authentication was removed on August 13, 2021.\n",
            "remote: Please see https://docs.github.com/en/get-started/getting-started-with-git/about-remote-repositories#cloning-with-https-urls for information on currently recommended modes of authentication.\n",
            "fatal: Authentication failed for 'https://github.com/duchaba/pluto_happy.git/'\n"
          ]
        }
      ],
      "source": [
        "# push it\n",
        "fname = \"https://duchaba:@github.com/duchaba/pluto_happy.git\"\n",
        "!git push {fname}"
      ]
    },
    {
      "cell_type": "code",
      "source": [],
      "metadata": {
        "id": "NDRDuZL6Mnvt"
      },
      "execution_count": null,
      "outputs": []
    },
    {
      "cell_type": "markdown",
      "source": [
        "# 🍵 Conclusion\n",
        "\n",
        "- This is the most complete Notebook I ever written. (Dec 2023).\n",
        "\n",
        "- It is a journey starts 5 years ago. With every year, there are new chanlleges. From data to deployment.The actual writing of this Notebook is one week over the Chrismas and New Year week off.\n",
        "\n",
        "- Thanks to foxy. Coding is more fun with her assistant along with Codey, GPT-4 and [surprisingly] Gemini.\n",
        "\n",
        "- It is not the destination (ending). It's a journey, and this path has rest stops, but no home."
      ],
      "metadata": {
        "id": "N2x-NQlhNSD9"
      }
    },
    {
      "cell_type": "code",
      "source": [
        "foxy.print_dancing()"
      ],
      "metadata": {
        "id": "9VL5egEhI16n",
        "colab": {
          "base_uri": "https://localhost:8080/"
        },
        "outputId": "a841660a-522c-429e-9642-810dde1c96b6"
      },
      "execution_count": null,
      "outputs": [
        {
          "output_type": "stream",
          "name": "stdout",
          "text": [
            "|-----------------------------------------------------------------------|\n",
            "|    o   \\ o /  _ o         __|    \\ /     |__        o _  \\ o /   o    |\n",
            "|   /|\\    |     /\\   ___\\o   \\o    |    o/    o/__   /\\     |    /|\\   |\n",
            "|   / \\   / \\   | \\  /)  |    ( \\  /o\\  / )    |  (\\  / |   / \\   / \\   |\n",
            "|----------------------------Yahoo_ooo----------------------------------|\n"
          ]
        }
      ]
    }
  ]
}