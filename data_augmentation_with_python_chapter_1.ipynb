{
  "nbformat": 4,
  "nbformat_minor": 0,
  "metadata": {
    "colab": {
      "provenance": [],
      "collapsed_sections": [],
      "authorship_tag": "ABX9TyN84pa89hAPlT/nzrMwy5eI",
      "include_colab_link": true
    },
    "kernelspec": {
      "name": "python3",
      "display_name": "Python 3"
    },
    "language_info": {
      "name": "python"
    },
    "accelerator": "GPU",
    "gpuClass": "standard"
  },
  "cells": [
    {
      "cell_type": "markdown",
      "metadata": {
        "id": "view-in-github",
        "colab_type": "text"
      },
      "source": [
        "<a href=\"https://colab.research.google.com/github/duchaba/Data-Augmentation-with-Python/blob/main/data_augmentation_with_python_chapter_1.ipynb\" target=\"_parent\"><img src=\"https://colab.research.google.com/assets/colab-badge.svg\" alt=\"Open In Colab\"/></a>"
      ]
    },
    {
      "cell_type": "markdown",
      "source": [
        "# Data Augmentation with Python, Chapter 1"
      ],
      "metadata": {
        "id": "qtnHR_uG0m7Z"
      }
    },
    {
      "cell_type": "markdown",
      "source": [
        "## 🌻 Welcome to Chapter 1, section \"Programing Style\"\n",
        "\n",
        "  - GitHub access \n",
        "\n",
        "  - Object-Oriented \n",
        "\n",
        "  - Full library variable name \n",
        "\n",
        "  - Export to pure Python code \n",
        "\n",
        "  - Coding companion "
      ],
      "metadata": {
        "id": "a5EqgaYW08Cm"
      }
    },
    {
      "cell_type": "markdown",
      "source": [
        "## GitHub Access (from Collab)"
      ],
      "metadata": {
        "id": "0Mo-idJS3eDh"
      }
    },
    {
      "cell_type": "markdown",
      "source": [
        "1. From the Colab menu, click on \"File\"\n",
        "\n",
        "1. Select \"Open Notebook\"\n",
        "\n",
        "1. Click on \"GitHub\" tab\n",
        "\n",
        "1. Enter \"https://github.com/PacktPublishing/data-augmentation-with-python\" in the \"Repository\" field. \n",
        "\n",
        "1. You should see all Notebooks available."
      ],
      "metadata": {
        "id": "hJ6ydtag4Nvc"
      }
    },
    {
      "cell_type": "markdown",
      "source": [
        "## Object-Oriented"
      ],
      "metadata": {
        "id": "ukspBUMp4N97"
      }
    },
    {
      "cell_type": "code",
      "source": [
        "pluto_chapter_1 = '/content/Data-Augmentation-with-Python/pluto/pluto_chapter_1.py'"
      ],
      "metadata": {
        "id": "pibFWfy-0w5z"
      },
      "execution_count": 23,
      "outputs": []
    },
    {
      "cell_type": "code",
      "execution_count": 26,
      "metadata": {
        "id": "F7hGhKAE0bmh",
        "colab": {
          "base_uri": "https://localhost:8080/"
        },
        "outputId": "9dcfe633-70e7-4b1f-8fd5-7da46314a4da"
      },
      "outputs": [
        {
          "output_type": "stream",
          "name": "stdout",
          "text": [
            "Writing /content/Data-Augmentation-with-Python/pluto/pluto_chapter_1.py\n"
          ]
        }
      ],
      "source": [
        "# %%writefile {pluto_chapter_1}\n",
        "\n",
        "# create an object\n",
        "# First, importing the basic library\n",
        "import torch\n",
        "import pandas\n",
        "import numpy\n",
        "import matplotlib\n",
        "import pathlib\n",
        "import PIL\n",
        "import datetime\n",
        "import sys\n",
        "import psutil\n",
        "# create class/object \n",
        "class PacktDataAug(object):\n",
        "  #\n",
        "  # initialize the object\n",
        "  def __init__(self, name=\"Pluto\", is_verbose=True,*args, **kwargs):\n",
        "    super(PacktDataAug, self).__init__(*args, **kwargs)\n",
        "    self.author = \"Duc Haba\"\n",
        "    self.version = 1.0\n",
        "    self.name = name\n",
        "    if (is_verbose):\n",
        "      self._ph()\n",
        "      self._pp(\"Hello from class\", str(self.__class__) + \" Class: \" + str(self.__class__.__name__))\n",
        "      self._pp(\"Code name\", self.name)\n",
        "      self._pp(\"Author is\", self.author)\n",
        "      self._pp(\"Version (Chapter) is\", self.version)\n",
        "      self._ph()\n",
        "    #\n",
        "    return\n",
        "  #\n",
        "  # pretty print output name-value line\n",
        "  def _pp(self, a, b):\n",
        "    print(\"%28s : %s\" % (str(a), str(b)))\n",
        "    return\n",
        "  #\n",
        "  # pretty print the header or footer lines\n",
        "  def _ph(self):\n",
        "    print(\"-\" * 28, \":\", \"-\" * 28)\n",
        "    return\n",
        "# ---end of class\n",
        "#\n",
        "# Hack it! Add new method as needed.\n",
        "# add_method() is copy from Michael Garod's blog, \n",
        "# https://medium.com/@mgarod/dynamically-add-a-method-to-a-class-in-python-c49204b85bd6\n",
        "# AND correction by: Филя Усков\n",
        "#\n",
        "import functools\n",
        "def add_method(cls):\n",
        "  def decorator(func):\n",
        "    @functools.wraps(func) \n",
        "    def wrapper(*args, **kwargs): \n",
        "      return func(*args, **kwargs)\n",
        "    setattr(cls, func.__name__, wrapper)\n",
        "    return func \n",
        "  return decorator\n",
        "#"
      ]
    },
    {
      "cell_type": "markdown",
      "source": [
        "- Instantiate your [canine] coding companion."
      ],
      "metadata": {
        "id": "tibZw65iC9lx"
      }
    },
    {
      "cell_type": "code",
      "source": [
        "# %%writefile -a {pluto_chapter_1}\n",
        "\n",
        "pluto = PacktDataAug(\"Pluto\")"
      ],
      "metadata": {
        "colab": {
          "base_uri": "https://localhost:8080/"
        },
        "id": "rtOsxJVNC8AV",
        "outputId": "f02746af-5a31-47ad-ed65-c58b5fdce7a8"
      },
      "execution_count": 27,
      "outputs": [
        {
          "output_type": "stream",
          "name": "stdout",
          "text": [
            "Appending to /content/Data-Augmentation-with-Python/pluto/pluto_chapter_1.py\n"
          ]
        }
      ]
    },
    {
      "cell_type": "code",
      "source": [
        "# %%writefile -a {pluto_chapter_1}\n",
        "\n",
        "@add_method(PacktDataAug)\n",
        "def say_sys_info(self):\n",
        "  self._ph()\n",
        "  now = datetime.datetime.now()\n",
        "  self._pp(\"System time\", now.strftime(\"%Y/%m/%d %H:%M\"))\n",
        "  self._pp(\"Platform\", sys.platform)\n",
        "  self._pp(\"Python version (3.7+)\", sys.version)\n",
        "  self._pp(\"PyTorch version (1.11+)\", torch.__version__)\n",
        "  self._pp(\"Pandas version (1.3.5+)\", pandas.__version__)\n",
        "  self._pp(\"PIL version (9.0.0+)\", PIL.__version__)\n",
        "  self._pp(\"Matplotlib version (3.2.2+)\", matplotlib.__version__)\n",
        "  #\n",
        "  try:\n",
        "    val = psutil.cpu_count()\n",
        "    self._pp(\"CPU count\", val)\n",
        "    val = psutil.cpu_freq()\n",
        "    if (None != val):\n",
        "      val = val._asdict()\n",
        "      self._pp(\"CPU speed\", (str(round((val[\"current\"] / 1000), 2)) + \" GHz\"))\n",
        "      self._pp(\"CPU max speed\", (str(round((val[\"max\"] / 1000), 2)) + \" GHz\"))\n",
        "    else:\n",
        "      self._pp(\"*CPU speed\", \"NOT available\")\n",
        "  except:\n",
        "    pass\n",
        "  self._ph()\n",
        "  return"
      ],
      "metadata": {
        "id": "eaYZdpesv7_V",
        "colab": {
          "base_uri": "https://localhost:8080/"
        },
        "outputId": "e597026b-ccbb-44d1-eade-9f9cbdbe9c31"
      },
      "execution_count": 28,
      "outputs": [
        {
          "output_type": "stream",
          "name": "stdout",
          "text": [
            "Appending to /content/Data-Augmentation-with-Python/pluto/pluto_chapter_1.py\n"
          ]
        }
      ]
    },
    {
      "cell_type": "code",
      "source": [
        "pluto.say_sys_info()"
      ],
      "metadata": {
        "colab": {
          "base_uri": "https://localhost:8080/"
        },
        "id": "ZeTJo-9-Lrv1",
        "outputId": "dbac5f39-02a9-40a2-ca8b-b6b8d1dbd7d6"
      },
      "execution_count": 4,
      "outputs": [
        {
          "output_type": "stream",
          "name": "stdout",
          "text": [
            "---------------------------- : ----------------------------\n",
            "                 System time : 2022/10/29 08:06\n",
            "                    Platform : linux\n",
            "       Python version (3.7+) : 3.7.15 (default, Oct 12 2022, 19:14:55) \n",
            "[GCC 7.5.0]\n",
            "     PyTorch version (1.11+) : 1.12.1+cu113\n",
            "     Pandas version (1.3.5+) : 1.3.5\n",
            "        PIL version (9.0.0+) : 7.1.2\n",
            " Matplotlib version (3.2.2+) : 3.2.2\n",
            "                   CPU count : 2\n",
            "                  *CPU speed : NOT available\n",
            "---------------------------- : ----------------------------\n"
          ]
        }
      ]
    },
    {
      "cell_type": "code",
      "source": [],
      "metadata": {
        "id": "xlzyUNdHfJF_"
      },
      "execution_count": null,
      "outputs": []
    },
    {
      "cell_type": "markdown",
      "source": [
        "## Export to pure Python code"
      ],
      "metadata": {
        "id": "9t1NqPdsR6kS"
      }
    },
    {
      "cell_type": "markdown",
      "source": [
        "- Add the \"%%writefile your_file_name.py\" to the first code cell that you want export\n",
        "\n",
        "- Add the \"%%writefile -a your_file_name.py\" (-a is for append) to the code cells that you want to export.\n",
        "\n",
        "- Make it a comment when you using the code cells normally.\n",
        "\n",
        "- Uncommend the \"%%writefile\" and run each code cells to export the file."
      ],
      "metadata": {
        "id": "ajnizD18R6vm"
      }
    },
    {
      "cell_type": "code",
      "source": [],
      "metadata": {
        "id": "10IieuAlyYlX"
      },
      "execution_count": null,
      "outputs": []
    },
    {
      "cell_type": "markdown",
      "source": [
        "## Push up all changes (Optional)"
      ],
      "metadata": {
        "id": "LEj7fgaIN9_S"
      }
    },
    {
      "cell_type": "markdown",
      "source": [
        "- username: duchaba\n",
        "\n",
        "- password: [use the token]"
      ],
      "metadata": {
        "id": "lHXRf21BT9N8"
      }
    },
    {
      "cell_type": "code",
      "source": [
        "# git version should be 2.17.1 or higher\n",
        "!git --version"
      ],
      "metadata": {
        "colab": {
          "base_uri": "https://localhost:8080/"
        },
        "id": "AEoYuTg6y1YN",
        "outputId": "a646d7f8-11d2-47a5-cd53-9c6c4c0881d5"
      },
      "execution_count": 10,
      "outputs": [
        {
          "output_type": "stream",
          "name": "stdout",
          "text": [
            "git version 2.17.1\n"
          ]
        }
      ]
    },
    {
      "cell_type": "code",
      "source": [
        "#url = 'https://github.com/PacktPublishing/Data-Augmentation-with-Python'\n",
        "url = 'https://github.com/duchaba/Data-Augmentation-with-Python'\n",
        "!git clone {url}"
      ],
      "metadata": {
        "colab": {
          "base_uri": "https://localhost:8080/"
        },
        "id": "BgGgEP3SytI4",
        "outputId": "1a9dd771-1fb3-4922-d4b7-0ec6050b87f7"
      },
      "execution_count": 6,
      "outputs": [
        {
          "output_type": "stream",
          "name": "stdout",
          "text": [
            "Cloning into 'Data-Augmentation-with-Python'...\n",
            "remote: Enumerating objects: 173, done.\u001b[K\n",
            "remote: Counting objects: 100% (67/67), done.\u001b[K\n",
            "remote: Compressing objects: 100% (56/56), done.\u001b[K\n",
            "remote: Total 173 (delta 16), reused 25 (delta 10), pack-reused 106\u001b[K\n",
            "Receiving objects: 100% (173/173), 257.96 MiB | 16.92 MiB/s, done.\n",
            "Resolving deltas: 100% (65/65), done.\n"
          ]
        }
      ]
    },
    {
      "cell_type": "code",
      "source": [
        "import os\n",
        "f = 'Data-Augmentation-with-Python'\n",
        "os.chdir(f)\n",
        "!git add -A\n",
        "!git config --global user.email \"duc.haba@gmail.com\"\n",
        "!git config --global user.name \"duchaba\"\n",
        "!git commit -m \"end of session\"\n",
        "# do the git push in the xterm console\n",
        "#!git push"
      ],
      "metadata": {
        "id": "eSXJKJFlOEeE",
        "colab": {
          "base_uri": "https://localhost:8080/"
        },
        "outputId": "bde1c68e-74d6-4002-d318-1ec5c5b68148"
      },
      "execution_count": 29,
      "outputs": [
        {
          "output_type": "stream",
          "name": "stdout",
          "text": [
            "[main 5f0b983] end of session\n",
            " 2 files changed, 4 insertions(+)\n",
            " create mode 100644 pluto_chapter_1.py\n"
          ]
        }
      ]
    },
    {
      "cell_type": "markdown",
      "source": [
        "## Summary"
      ],
      "metadata": {
        "id": "EzO7lDYDWeLz"
      }
    },
    {
      "cell_type": "markdown",
      "source": [
        "Every chaper will begin with same base class \"PacktDataAug\".\n",
        "\n",
        "✋ FAIR WARNING:\n",
        "\n",
        "- The coding uses long and complete function path name.\n",
        "\n",
        "- I wrote the code for easy to understand and not for compactness, fast execution, nor cleaverness.\n",
        "\n"
      ],
      "metadata": {
        "id": "X2iUPf3EWePd"
      }
    },
    {
      "cell_type": "code",
      "source": [
        "!pip install colab-xterm\n",
        "%load_ext colabxterm\n",
        "%xterm"
      ],
      "metadata": {
        "id": "s2MlGMMzz4mS"
      },
      "execution_count": null,
      "outputs": []
    }
  ]
}