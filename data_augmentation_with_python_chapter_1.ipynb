{
  "nbformat": 4,
  "nbformat_minor": 0,
  "metadata": {
    "colab": {
      "provenance": [],
      "collapsed_sections": [],
      "authorship_tag": "ABX9TyMvp6UUq+NPmJuPgJRZNkxX",
      "include_colab_link": true
    },
    "kernelspec": {
      "name": "python3",
      "display_name": "Python 3"
    },
    "language_info": {
      "name": "python"
    },
    "accelerator": "GPU",
    "gpuClass": "standard"
  },
  "cells": [
    {
      "cell_type": "markdown",
      "metadata": {
        "id": "view-in-github",
        "colab_type": "text"
      },
      "source": [
        "<a href=\"https://colab.research.google.com/github/duchaba/Data-Augmentation-with-Python/blob/main/data_augmentation_with_python_chapter_1.ipynb\" target=\"_parent\"><img src=\"https://colab.research.google.com/assets/colab-badge.svg\" alt=\"Open In Colab\"/></a>"
      ]
    },
    {
      "cell_type": "markdown",
      "source": [
        "# Data Augmentation with Python, Chapter 1"
      ],
      "metadata": {
        "id": "qtnHR_uG0m7Z"
      }
    },
    {
      "cell_type": "markdown",
      "source": [
        "## 🌻 Welcome to Chapter 1, section Programing Style and Pluto\n",
        "\n",
        "  - GitHub access \n",
        "\n",
        "  - Object-Oriented \n",
        "\n",
        "  - Full library variable name \n",
        "\n",
        "  - Export to pure Python code \n",
        "\n",
        "  - Coding companion "
      ],
      "metadata": {
        "id": "a5EqgaYW08Cm"
      }
    },
    {
      "cell_type": "markdown",
      "source": [
        "## GitHub Access (from Collab)"
      ],
      "metadata": {
        "id": "0Mo-idJS3eDh"
      }
    },
    {
      "cell_type": "markdown",
      "source": [
        "1. From the Colab menu, click on \"File\"\n",
        "\n",
        "1. Select \"Open Notebook\"\n",
        "\n",
        "1. Click on \"GitHub\" tab\n",
        "\n",
        "1. Enter \"https://github.com/PacktPublishing/data-augmentation-with-python\" in the \"Repository\" field. \n",
        "\n",
        "1. You should see all Notebooks available."
      ],
      "metadata": {
        "id": "hJ6ydtag4Nvc"
      }
    },
    {
      "cell_type": "markdown",
      "source": [
        "## Object-Oriented"
      ],
      "metadata": {
        "id": "ukspBUMp4N97"
      }
    },
    {
      "cell_type": "code",
      "source": [
        "# git version should be 2.17.1 or higher\n",
        "!git --version"
      ],
      "metadata": {
        "id": "AEoYuTg6y1YN",
        "colab": {
          "base_uri": "https://localhost:8080/"
        },
        "outputId": "f94d0587-3f80-4478-e8fc-6cdfd3ab001d"
      },
      "execution_count": 1,
      "outputs": [
        {
          "output_type": "stream",
          "name": "stdout",
          "text": [
            "git version 2.17.1\n"
          ]
        }
      ]
    },
    {
      "cell_type": "code",
      "source": [
        "#url = 'https://github.com/PacktPublishing/Data-Augmentation-with-Python'\n",
        "url = 'https://github.com/duchaba/Data-Augmentation-with-Python'\n",
        "!git clone {url}"
      ],
      "metadata": {
        "id": "BgGgEP3SytI4",
        "colab": {
          "base_uri": "https://localhost:8080/"
        },
        "outputId": "cc23db9b-80c7-4a9a-8f65-e5be3e13c08c"
      },
      "execution_count": 2,
      "outputs": [
        {
          "output_type": "stream",
          "name": "stdout",
          "text": [
            "Cloning into 'Data-Augmentation-with-Python'...\n",
            "remote: Enumerating objects: 228, done.\u001b[K\n",
            "remote: Counting objects: 100% (122/122), done.\u001b[K\n",
            "remote: Compressing objects: 100% (100/100), done.\u001b[K\n",
            "remote: Total 228 (delta 46), reused 52 (delta 20), pack-reused 106\u001b[K\n",
            "Receiving objects: 100% (228/228), 259.79 MiB | 37.79 MiB/s, done.\n",
            "Resolving deltas: 100% (95/95), done.\n"
          ]
        }
      ]
    },
    {
      "cell_type": "code",
      "source": [
        "pluto_chapter_1 = '/content/Data-Augmentation-with-Python/pluto/pluto_chapter_1.py'"
      ],
      "metadata": {
        "id": "pibFWfy-0w5z"
      },
      "execution_count": 3,
      "outputs": []
    },
    {
      "cell_type": "code",
      "execution_count": 4,
      "metadata": {
        "id": "F7hGhKAE0bmh"
      },
      "outputs": [],
      "source": [
        "# %%writefile {pluto_chapter_1}\n",
        "\n",
        "# create an object\n",
        "# First, importing the basic library\n",
        "import torch\n",
        "import pandas\n",
        "import numpy\n",
        "import matplotlib\n",
        "import pathlib\n",
        "import PIL\n",
        "import datetime\n",
        "import sys\n",
        "import psutil\n",
        "# create class/object \n",
        "class PacktDataAug(object):\n",
        "  #\n",
        "  # initialize the object\n",
        "  def __init__(self, name=\"Pluto\", is_verbose=True,*args, **kwargs):\n",
        "    super(PacktDataAug, self).__init__(*args, **kwargs)\n",
        "    self.author = \"Duc Haba\"\n",
        "    self.version = 1.0\n",
        "    self.name = name\n",
        "    if (is_verbose):\n",
        "      self._ph()\n",
        "      self._pp(\"Hello from class\", f\"{self.__class__} Class: {self.__class__.__name__}\")\n",
        "      self._pp(\"Code name\", self.name)\n",
        "      self._pp(\"Author is\", self.author)\n",
        "      self._ph()\n",
        "    #\n",
        "    return\n",
        "  #\n",
        "  # pretty print output name-value line\n",
        "  def _pp(self, a, b):\n",
        "    print(\"%28s : %s\" % (str(a), str(b)))\n",
        "    return\n",
        "  #\n",
        "  # pretty print the header or footer lines\n",
        "  def _ph(self):\n",
        "    print(\"-\" * 28, \":\", \"-\" * 28)\n",
        "    return\n",
        "# ---end of class\n",
        "#\n",
        "# Hack it! Add new method as needed.\n",
        "# add_method() is copy from Michael Garod's blog, \n",
        "# https://medium.com/@mgarod/dynamically-add-a-method-to-a-class-in-python-c49204b85bd6\n",
        "# AND correction by: Филя Усков\n",
        "#\n",
        "import functools\n",
        "def add_method(cls):\n",
        "  def decorator(func):\n",
        "    @functools.wraps(func) \n",
        "    def wrapper(*args, **kwargs): \n",
        "      return func(*args, **kwargs)\n",
        "    setattr(cls, func.__name__, wrapper)\n",
        "    return func \n",
        "  return decorator\n",
        "#"
      ]
    },
    {
      "cell_type": "markdown",
      "source": [
        "- Instantiate your [canine] coding companion."
      ],
      "metadata": {
        "id": "tibZw65iC9lx"
      }
    },
    {
      "cell_type": "code",
      "source": [
        "# %%writefile -a {pluto_chapter_1}\n",
        "\n",
        "pluto = PacktDataAug(\"Pluto\")"
      ],
      "metadata": {
        "id": "rtOsxJVNC8AV",
        "colab": {
          "base_uri": "https://localhost:8080/"
        },
        "outputId": "deb09bae-0ca0-412d-dfc6-706055d97a03"
      },
      "execution_count": 5,
      "outputs": [
        {
          "output_type": "stream",
          "name": "stdout",
          "text": [
            "---------------------------- : ----------------------------\n",
            "            Hello from class : <class '__main__.PacktDataAug'> Class: PacktDataAug\n",
            "                   Code name : Pluto\n",
            "                   Author is : Duc Haba\n",
            "---------------------------- : ----------------------------\n"
          ]
        }
      ]
    },
    {
      "cell_type": "code",
      "source": [
        "# %%writefile -a {pluto_chapter_1}\n",
        "\n",
        "@add_method(PacktDataAug)\n",
        "def say_sys_info(self):\n",
        "  self._ph()\n",
        "  now = datetime.datetime.now()\n",
        "  self._pp(\"System time\", now.strftime(\"%Y/%m/%d %H:%M\"))\n",
        "  self._pp(\"Platform\", sys.platform)\n",
        "  self._pp(\"Pluto Version (Chapter)\", self.version)\n",
        "  v = sys.version.replace('\\n', '')\n",
        "  self._pp(\"Python (3.7.10)\", f'actual: {v}')\n",
        "  self._pp(\"PyTorch (1.11.0)\", f'actual: {torch.__version__}')\n",
        "  self._pp(\"Pandas (1.3.5)\", f'actual: {pandas.__version__}')\n",
        "  self._pp(\"PIL (9.0.0)\", f'actual: {PIL.__version__}')\n",
        "  self._pp(\"Matplotlib (3.2.2)\", f'actual: {matplotlib.__version__}')\n",
        "  #\n",
        "  try:\n",
        "    val = psutil.cpu_count()\n",
        "    self._pp(\"CPU count\", val)\n",
        "    val = psutil.cpu_freq()\n",
        "    if (None != val):\n",
        "      val = val._asdict()\n",
        "      self._pp(\"CPU speed\",  f'{val[\"current\"]/1000:.2f} GHz')\n",
        "      self._pp(\"CPU max speed\", f'{val[\"max\"]/1000:.2f} GHz') \n",
        "    else:\n",
        "      self._pp(\"*CPU speed\", \"NOT available\")\n",
        "  except:\n",
        "    pass\n",
        "  self._ph()\n",
        "  return"
      ],
      "metadata": {
        "id": "eaYZdpesv7_V"
      },
      "execution_count": 6,
      "outputs": []
    },
    {
      "cell_type": "code",
      "source": [
        "pluto.say_sys_info()"
      ],
      "metadata": {
        "id": "ZeTJo-9-Lrv1",
        "colab": {
          "base_uri": "https://localhost:8080/"
        },
        "outputId": "edf59a99-0f72-4fbf-ab9c-69fde389a6c6"
      },
      "execution_count": 7,
      "outputs": [
        {
          "output_type": "stream",
          "name": "stdout",
          "text": [
            "---------------------------- : ----------------------------\n",
            "                 System time : 2022/10/31 04:25\n",
            "                    Platform : linux\n",
            "     Pluto Version (Chapter) : 1.0\n",
            "             Python (3.7.10) : actual: 3.7.15 (default, Oct 12 2022, 19:14:55) [GCC 7.5.0]\n",
            "            PyTorch (1.11.0) : actual: 1.12.1+cu113\n",
            "              Pandas (1.3.5) : actual: 1.3.5\n",
            "                 PIL (9.0.0) : actual: 7.1.2\n",
            "          Matplotlib (3.2.2) : actual: 3.2.2\n",
            "                   CPU count : 2\n",
            "                  *CPU speed : NOT available\n",
            "---------------------------- : ----------------------------\n"
          ]
        }
      ]
    },
    {
      "cell_type": "code",
      "source": [
        "# end of chapter 1"
      ],
      "metadata": {
        "id": "FWpmCx6sJiFg"
      },
      "execution_count": null,
      "outputs": []
    },
    {
      "cell_type": "markdown",
      "source": [
        "## Export to pure Python code (Optional)"
      ],
      "metadata": {
        "id": "9t1NqPdsR6kS"
      }
    },
    {
      "cell_type": "markdown",
      "source": [
        "- Add the \"%%writefile your_file_name.py\" to the first code cell that you want export\n",
        "\n",
        "- Add the \"%%writefile -a your_file_name.py\" (-a is for append) to the code cells that you want to export.\n",
        "\n",
        "- Make it a comment when you using the code cells normally.\n",
        "\n",
        "- Uncommend the \"%%writefile\" and run each code cells to export the file."
      ],
      "metadata": {
        "id": "ajnizD18R6vm"
      }
    },
    {
      "cell_type": "markdown",
      "source": [
        "## Push up all changes (Optional)"
      ],
      "metadata": {
        "id": "LEj7fgaIN9_S"
      }
    },
    {
      "cell_type": "markdown",
      "source": [
        "- username: duchaba\n",
        "\n",
        "- password: [use the token]"
      ],
      "metadata": {
        "id": "lHXRf21BT9N8"
      }
    },
    {
      "cell_type": "code",
      "source": [
        "# import os\n",
        "# f = 'Data-Augmentation-with-Python'\n",
        "# os.chdir(f)\n",
        "# !git add -A\n",
        "# !git config --global user.email \"duc.haba@gmail.com\"\n",
        "# !git config --global user.name \"duchaba\"\n",
        "# !git commit -m \"end of session\"\n",
        "# # do the git push in the xterm console\n",
        "# #!git push"
      ],
      "metadata": {
        "id": "eSXJKJFlOEeE"
      },
      "execution_count": null,
      "outputs": []
    },
    {
      "cell_type": "markdown",
      "source": [
        "## Summary"
      ],
      "metadata": {
        "id": "EzO7lDYDWeLz"
      }
    },
    {
      "cell_type": "markdown",
      "source": [
        "Every chaper will begin with same base class \"PacktDataAug\".\n",
        "\n",
        "✋ FAIR WARNING:\n",
        "\n",
        "- The coding uses long and complete function path name.\n",
        "\n",
        "- I wrote the code for easy to understand and not for compactness, fast execution, nor cleaverness.\n",
        "\n"
      ],
      "metadata": {
        "id": "X2iUPf3EWePd"
      }
    },
    {
      "cell_type": "code",
      "source": [
        "# !pip install colab-xterm\n",
        "# %load_ext colabxterm\n",
        "# %xterm"
      ],
      "metadata": {
        "id": "s2MlGMMzz4mS"
      },
      "execution_count": null,
      "outputs": []
    }
  ]
}