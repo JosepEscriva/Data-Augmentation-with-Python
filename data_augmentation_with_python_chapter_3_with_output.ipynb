{
  "cells": [
    {
      "cell_type": "markdown",
      "metadata": {
        "id": "view-in-github",
        "colab_type": "text"
      },
      "source": [
        "<a href=\"https://colab.research.google.com/github/duchaba/Data-Augmentation-with-Python/blob/main/data_augmentation_with_python_chapter_3_with_output.ipynb\" target=\"_parent\"><img src=\"https://colab.research.google.com/assets/colab-badge.svg\" alt=\"Open In Colab\"/></a>"
      ]
    },
    {
      "cell_type": "markdown",
      "metadata": {
        "id": "a5EqgaYW08Cm"
      },
      "source": [
        "# 🌻 Welcome to Chapter 3, Image Augmentation for Classification\n",
        "\n",
        "\n",
        "---\n",
        "\n",
        "I am glad to see you using this Python Notebook. 🐶\n",
        "\n",
        "The Python Notebook is an integral part of the book. You can add new “code cells” to extend the functions, add your data, and explore new possibilities, such as downloading additional real-world datasets from the Kaggle website and coding the **Fun challenges**. Furthermore, the book has **Fun facts**, in-depth discussion about augmentation techniques, and Pluto, an imaginary Siberian Huskey coding companion. Together they will guide you every steps of the way.\n",
        "\n",
        "Pluto encourages you to copy or save a copy of this Python Notebook to your local space and add the “text cells” to keep your notes. In other words, read the book and copy the relevant concept to this Python Notebook’s text-cells. Thus, you can have the explanation, note, original code, your code, and any crazy future ideas in one place.  \n",
        "\n",
        "\n",
        "💗 I hope you enjoy reading the book and hacking code as much as I enjoy writing it.\n",
        "\n",
        "\n",
        "## 🌟 Amazon Book\n",
        "\n",
        "---\n",
        "\n",
        "- The book is available on the Amazon Book website:\n",
        "  - https://www.amazon.com/dp/1803246456\n",
        "\n",
        "  - Author: Duc Haba\n",
        "  - Published: 2023\n",
        "  - Page count: 370+\n",
        "\n",
        "\n",
        "- The original Python Notebook is on:\n",
        "  - https://github.com/PacktPublishing/Data-Augmentation-with-Python/blob/main/Chapter_3/data_augmentation_with_python_chapter_3.ipynb\n",
        "\n",
        "- 🚀 Click on the blue \"Open in Colab\" button at the top of this page to begin hacking.\n",
        "\n"
      ]
    },
    {
      "cell_type": "markdown",
      "metadata": {
        "id": "ukspBUMp4N97"
      },
      "source": [
        "# 😀 Excerpt from Chapter 3, Image Augmentation for Classification\n",
        "\n",
        "---\n",
        "\n",
        "> In case you haven’t bought the book. Here is an teaser from the first page of Chapter 3.\n",
        "\n",
        "---\n",
        "\n",
        "Image augmentation in machine learning (ML) is a stable diet for increasing prediction accuracy, especially for the image classification domain. The causality logic is linear, meaning the more robust the data input, the higher the forecast accuracy.  \n",
        "\n",
        "Deep learning (DL) is a subset of ML that uses artificial neural networks to learn patterns and forecast based on the input data. Unlike traditional ML algorithms, which depend on programmer coding and rules to analyze data, DL algorithms automatically learn, solve, and categorize the relationship between data and labels. Thus, expanding the datasets directly impacts DL predictions on new insights that it has not seen in the training data.\n",
        "\n",
        "DL algorithms are designed to mimic the human brain, with layers of neurons that process information and pass it on to the next layer. Each layer of neurons learns to extract increasingly complex features from the input data, allowing the network to identify patterns and make predictions with increasing accuracy.\n",
        "\n",
        "DL for image classification has proven highly effective in various industries, ranging from healthcare, finance, transportation, and consumer products to social media. Some examples include identifying 120 dog breeds, detecting cervical spine fractures, cataloging landmarks, classifying Nike shoes, spotting celebrity faces, and separating paper and plastic for recycling.  \n",
        "\n",
        "There is no standard formula to estimate how many images you need to achieve a designer prediction accuracy for image classification. Acquiring additional photos may not be a viable option because of cost and time. On the other hand, image data augmentation is a cost-effective technique that increases the number of photos for image classification training.  \n",
        "\n",
        "This chapter consists of two parts. First, you will learn the concepts and techniques of augmentation for image classification, followed by hands-on Python coding and a detailed explanation of the image augmentation techniques.  \n",
        "\n",
        "---\n",
        "\n",
        "Fun fact\n",
        "\n",
        "---\n",
        "\n",
        "The image dataset is typically broken into 75% training, 20% validation, and 5% testing in the image classification model. Typically, the images allotted for training are augmented but outside the validation and testing set.  \n",
        "\n",
        "---\n",
        "\n",
        "\n",
        "The two primary approaches for image augmentation are pre-processing and dynamic. They share the same techniques but differ when augmentation is done. The pre-processing method creates and saves the augmented photos in disk storage before training, while the dynamic method expands the input images during the training cycle.  \n",
        "\n",
        "In Chapter 2, you learned about data biases, and it is worth remembering that image augmentation will increase the DL model’s accuracy and may also increase the biases.  \n",
        "\n",
        "In addition to biases, the other noteworthy concept is safety. It refers to the distortion magnitude that does not alter the original image label post-transformation. Different photo domains have different safety levels. For example, horizontally flipping a person’s portrait photo is an acceptable augmentation technique, but reversing the hand gesture images in sign language is unsafe.\n",
        "\n",
        "By the end of this chapter, you will have learned the concepts and hands-on techniques in Python coding for classification image augmentation using real-world datasets. In addition, you will have examined several Python open source libraries for image augmentation. In particular, this chapter covers the following topics:\n",
        "\n",
        "- Geometric transformations\n",
        "\n",
        "- Photometric transformations\n",
        "\n",
        "- Random erasing\n",
        "\n",
        "- Combining\n",
        "\n",
        "- Reinforcing your learning through Python code\n",
        "\n",
        "Geometric transformations are the primary image augmentation technique used commonly across multiple image datasets. Thus, this is a good place to begin discussing image augmentation.\n",
        "\n",
        "---\n",
        "\n",
        "🌴 *end of excerpt from the book*\n",
        "\n"
      ]
    },
    {
      "cell_type": "markdown",
      "metadata": {
        "id": "psur6TottXJs"
      },
      "source": [
        "# GitHub Clone"
      ]
    },
    {
      "cell_type": "code",
      "execution_count": 1,
      "metadata": {
        "id": "-e-E23OC33r_",
        "colab": {
          "base_uri": "https://localhost:8080/"
        },
        "outputId": "7c8a00b6-1bf2-4067-ec3a-9984cb6e8388"
      },
      "outputs": [
        {
          "output_type": "stream",
          "name": "stdout",
          "text": [
            "git version 2.34.1\n"
          ]
        }
      ],
      "source": [
        "# git version should be 2.17.1 or higher\n",
        "!git --version"
      ]
    },
    {
      "cell_type": "code",
      "execution_count": 2,
      "metadata": {
        "id": "Kk-kUBgEnYzg",
        "colab": {
          "base_uri": "https://localhost:8080/"
        },
        "outputId": "67876c5e-067d-40f6-9dea-f999519d9ff1"
      },
      "outputs": [
        {
          "output_type": "stream",
          "name": "stdout",
          "text": [
            "Cloning into 'Data-Augmentation-with-Python'...\n",
            "remote: Enumerating objects: 442, done.\u001b[K\n",
            "remote: Counting objects: 100% (420/420), done.\u001b[K\n",
            "remote: Compressing objects: 100% (247/247), done.\u001b[K\n",
            "remote: Total 442 (delta 227), reused 346 (delta 172), pack-reused 22\u001b[K\n",
            "Receiving objects: 100% (442/442), 139.66 MiB | 16.57 MiB/s, done.\n",
            "Resolving deltas: 100% (227/227), done.\n",
            "Updating files: 100% (58/58), done.\n"
          ]
        }
      ],
      "source": [
        "url = 'https://github.com/PacktPublishing/Data-Augmentation-with-Python'\n",
        "!git clone {url}"
      ]
    },
    {
      "cell_type": "markdown",
      "metadata": {
        "id": "ktmuZO3xteG1"
      },
      "source": [
        "## Fetch file from URL (Optional)"
      ]
    },
    {
      "cell_type": "markdown",
      "source": [
        "- Uncommend the below 2 code cells if you want to use URL and not Git Clone"
      ],
      "metadata": {
        "id": "wGPwtc1p9zQu"
      }
    },
    {
      "cell_type": "code",
      "execution_count": null,
      "metadata": {
        "id": "oObUsdZcj3Hk"
      },
      "outputs": [],
      "source": [
        "# import requests\n",
        "# #\n",
        "# def fetch_file(url, dst):\n",
        "#   downloaded_obj = requests.get(url)\n",
        "#   with open(dst, \"wb\") as file:\n",
        "#     file.write(downloaded_obj.content)\n",
        "#   return"
      ]
    },
    {
      "cell_type": "code",
      "execution_count": null,
      "metadata": {
        "id": "Nrz6ykdEj3RT"
      },
      "outputs": [],
      "source": [
        "# url = ''\n",
        "# dst = 'pluto_chapter_1.py'\n",
        "# fetch_file(url,dst)"
      ]
    },
    {
      "cell_type": "markdown",
      "source": [
        "# Run Pluto"
      ],
      "metadata": {
        "id": "u9oQ-Do542nh"
      }
    },
    {
      "cell_type": "markdown",
      "metadata": {
        "id": "yuljFGYftoyb"
      },
      "source": [
        "- Instantiate up Pluto, aka. \"Pluto, wake up!\""
      ]
    },
    {
      "cell_type": "code",
      "source": [
        "# %% CARRY-OVER code install\n",
        "\n",
        "!pip install opendatasets --upgrade\n",
        "!pip install pyspellchecker\n",
        "#\n",
        "# tested on the following version:\n",
        "# !pip install opendatasets==0.1.12\n",
        "# !pip install pyspellchecker==0.7.1"
      ],
      "metadata": {
        "id": "ldsqlH7OVZOw",
        "colab": {
          "base_uri": "https://localhost:8080/"
        },
        "outputId": "908859d5-a02e-4d43-e4f8-3a39a731b6d2"
      },
      "execution_count": 3,
      "outputs": [
        {
          "output_type": "stream",
          "name": "stdout",
          "text": [
            "Collecting opendatasets\n",
            "  Downloading opendatasets-0.1.22-py3-none-any.whl (15 kB)\n",
            "Requirement already satisfied: tqdm in /usr/local/lib/python3.10/dist-packages (from opendatasets) (4.66.1)\n",
            "Requirement already satisfied: kaggle in /usr/local/lib/python3.10/dist-packages (from opendatasets) (1.5.16)\n",
            "Requirement already satisfied: click in /usr/local/lib/python3.10/dist-packages (from opendatasets) (8.1.7)\n",
            "Requirement already satisfied: six>=1.10 in /usr/local/lib/python3.10/dist-packages (from kaggle->opendatasets) (1.16.0)\n",
            "Requirement already satisfied: certifi in /usr/local/lib/python3.10/dist-packages (from kaggle->opendatasets) (2023.7.22)\n",
            "Requirement already satisfied: python-dateutil in /usr/local/lib/python3.10/dist-packages (from kaggle->opendatasets) (2.8.2)\n",
            "Requirement already satisfied: requests in /usr/local/lib/python3.10/dist-packages (from kaggle->opendatasets) (2.31.0)\n",
            "Requirement already satisfied: python-slugify in /usr/local/lib/python3.10/dist-packages (from kaggle->opendatasets) (8.0.1)\n",
            "Requirement already satisfied: urllib3 in /usr/local/lib/python3.10/dist-packages (from kaggle->opendatasets) (2.0.4)\n",
            "Requirement already satisfied: bleach in /usr/local/lib/python3.10/dist-packages (from kaggle->opendatasets) (6.0.0)\n",
            "Requirement already satisfied: webencodings in /usr/local/lib/python3.10/dist-packages (from bleach->kaggle->opendatasets) (0.5.1)\n",
            "Requirement already satisfied: text-unidecode>=1.3 in /usr/local/lib/python3.10/dist-packages (from python-slugify->kaggle->opendatasets) (1.3)\n",
            "Requirement already satisfied: charset-normalizer<4,>=2 in /usr/local/lib/python3.10/dist-packages (from requests->kaggle->opendatasets) (3.2.0)\n",
            "Requirement already satisfied: idna<4,>=2.5 in /usr/local/lib/python3.10/dist-packages (from requests->kaggle->opendatasets) (3.4)\n",
            "Installing collected packages: opendatasets\n",
            "Successfully installed opendatasets-0.1.22\n",
            "Collecting pyspellchecker\n",
            "  Downloading pyspellchecker-0.7.2-py3-none-any.whl (3.4 MB)\n",
            "\u001b[2K     \u001b[90m━━━━━━━━━━━━━━━━━━━━━━━━━━━━━━━━━━━━━━━━\u001b[0m \u001b[32m3.4/3.4 MB\u001b[0m \u001b[31m17.2 MB/s\u001b[0m eta \u001b[36m0:00:00\u001b[0m\n",
            "\u001b[?25hInstalling collected packages: pyspellchecker\n",
            "Successfully installed pyspellchecker-0.7.2\n"
          ]
        }
      ]
    },
    {
      "cell_type": "code",
      "execution_count": 4,
      "metadata": {
        "id": "dDqYkFLYgSGV",
        "colab": {
          "base_uri": "https://localhost:8080/"
        },
        "outputId": "2e03675b-8ccb-4bed-b8c2-6ecf8e2da5bb"
      },
      "outputs": [
        {
          "output_type": "stream",
          "name": "stdout",
          "text": [
            "---------------------------- : ----------------------------\n",
            "            Hello from class : <class '__main__.PacktDataAug'> Class: PacktDataAug\n",
            "                   Code name : Pluto\n",
            "                   Author is : Duc Haba\n",
            "---------------------------- : ----------------------------\n"
          ]
        }
      ],
      "source": [
        "#load and run the pluto chapter 1 Python code.\n",
        "pluto_file = 'Data-Augmentation-with-Python/pluto/pluto_chapter_2.py'\n",
        "%run {pluto_file}"
      ]
    },
    {
      "cell_type": "markdown",
      "metadata": {
        "id": "WqZKpMYA3YO1"
      },
      "source": [
        "# Verify Pluto"
      ]
    },
    {
      "cell_type": "code",
      "execution_count": 5,
      "metadata": {
        "id": "DFMl76ungbF7",
        "colab": {
          "base_uri": "https://localhost:8080/"
        },
        "outputId": "66a3b4e0-268a-46f3-dc4a-15877e860e34"
      },
      "outputs": [
        {
          "output_type": "stream",
          "name": "stdout",
          "text": [
            "---------------------------- : ----------------------------\n",
            "                 System time : 2023/09/04 07:56\n",
            "                    Platform : linux\n",
            "     Pluto Version (Chapter) : 2.0\n",
            "             Python (3.7.10) : actual: 3.10.12 (main, Jun 11 2023, 05:26:28) [GCC 11.4.0]\n",
            "            PyTorch (1.11.0) : actual: 2.0.1+cu118\n",
            "              Pandas (1.3.5) : actual: 1.5.3\n",
            "                 PIL (9.0.0) : actual: 9.4.0\n",
            "          Matplotlib (3.2.2) : actual: 3.7.1\n",
            "                   CPU count : 2\n",
            "                   CPU speed : 2.20 GHz\n",
            "               CPU max speed : 0.00 GHz\n",
            "---------------------------- : ----------------------------\n"
          ]
        }
      ],
      "source": [
        "pluto.say_sys_info()"
      ]
    },
    {
      "cell_type": "code",
      "source": [
        "help(pluto)"
      ],
      "metadata": {
        "colab": {
          "base_uri": "https://localhost:8080/"
        },
        "id": "BbUQNrRxMRep",
        "outputId": "fac6de42-66bc-421c-d66c-f8828c0654c2"
      },
      "execution_count": 6,
      "outputs": [
        {
          "output_type": "stream",
          "name": "stdout",
          "text": [
            "Help on PacktDataAug in module __main__ object:\n",
            "\n",
            "class PacktDataAug(builtins.object)\n",
            " |  PacktDataAug(name='Pluto', is_verbose=True, *args, **kwargs)\n",
            " |  \n",
            " |  The PacktDataAug class is the based class for the\n",
            " |  \"Data Augmentation with Python\" book.\n",
            " |  \n",
            " |  Methods defined here:\n",
            " |  \n",
            " |  __init__(self, name='Pluto', is_verbose=True, *args, **kwargs)\n",
            " |      This is the constructor function.\n",
            " |      \n",
            " |      Args:\n",
            " |      \n",
            " |       name (str): It requires a name for the object. The default is 'Pluto'\n",
            " |       verbose (bool):  The default value of `verbose` is True. This function prints out the\n",
            " |          name of the object if `is_verbose == True`. This is used to debug\n",
            " |          code. When you are ready to deploy the model, then you should set\n",
            " |          `is_verbose == False` in order to avoid printing out diagnostic\n",
            " |          messages.\n",
            " |      \n",
            " |        Additionally, this function takes any number of other\n",
            " |        parameters. These parameters are stored in `**kwargs` and are\n",
            " |        accessed via the function `get_kwargs()`. See the documentation\n",
            " |        for `get_kwargs()` for more details.\n",
            " |        Note that `__init__()` is\n",
            " |        automatically called when you create a new object.\n",
            " |      \n",
            " |      Returns:\n",
            " |        None.\n",
            " |  \n",
            " |  build_sf_fname(self, df)\n",
            " |      This method builds the file name for a given row in the State Farm DataFrame.\n",
            " |      \n",
            " |      Args:\n",
            " |        df (Pandas DataFrame): The State Farm DataFrame.\n",
            " |      \n",
            " |      Returns:\n",
            " |        None\n",
            " |  \n",
            " |  build_shoe_fname(self, start_path)\n",
            " |      This method builds the file name for a given directory.\n",
            " |      \n",
            " |      Args:\n",
            " |        start_path (str): The starting directory.\n",
            " |      \n",
            " |      Returns:\n",
            " |        DataFrame: The DataFrame containing the file names.\n",
            " |  \n",
            " |  check_spelling(self, df, col_dest='description')\n",
            " |      This method checks the spelling in a column and returns a new column \n",
            " |      \"misspelled\" and \"misspelled_count\".\n",
            " |      \n",
            " |      Args:\n",
            " |        df (DataFrame): The input DataFrame.\n",
            " |        col_dest (str): The column name to be checked, default \"description\"\n",
            " |      \n",
            " |      Returns:\n",
            " |        None\n",
            " |  \n",
            " |  count_word(self, df, col_dest='description')\n",
            " |      This method counts the number of words in a column named \"wordc\"\n",
            " |      \n",
            " |      Args:\n",
            " |        df (DataFrame): The input DataFrame.\n",
            " |        col_dest (str): The column name to be counted, default \"description\"\n",
            " |      \n",
            " |      Returns:\n",
            " |        None\n",
            " |  \n",
            " |  draw_batch(self, df_filenames, disp_max=10, is_shuffle=False, figsize=(16, 8))\n",
            " |      This method draws the images specified in the DataFrame.\n",
            " |      \n",
            " |      Args:\n",
            " |        df_filenames (Pandas DataFrame): The DataFrame containing the file names.\n",
            " |        disp_max (int): The maximum number of images to be drawn. Default is 10.\n",
            " |        is_shuffle (bool): Whether to shuffle the images. Default is False.\n",
            " |        figsize (tuple): The figure size. Default is (16,8).\n",
            " |      \n",
            " |      Returns:\n",
            " |        None\n",
            " |  \n",
            " |  draw_word_count(self, df, wc='wordc', is_stack_verticle=True)\n",
            " |      This method creates two plots:\n",
            " |        1. a boxplot of word count\n",
            " |        2. a histogram of word count\n",
            " |      \n",
            " |      Args:\n",
            " |        df (DataFrame): The input DataFrame.\n",
            " |        wc (str): The column name of word count, default \"wordc\".\n",
            " |        is_stack_verticle (bool): Whether to stack the two plots vertically. Default is True.\n",
            " |      \n",
            " |      Returns:\n",
            " |        None\n",
            " |  \n",
            " |  fetch_df(self, csv, sep=',')\n",
            " |      This method reads and loads a CSV file into a Pandas DataFrame.\n",
            " |      \n",
            " |      Args:\n",
            " |        csv (str): The path to a CSV file.\n",
            " |        sep (str): The column separator character, default is comma \",\".\n",
            " |      \n",
            " |      Returns:\n",
            " |        DataFrame: A pandas DataFrame.\n",
            " |  \n",
            " |  fetch_kaggle_comp_data(self, cname)\n",
            " |      This method downloads and unzip the data from the Competition on Kaggle.\n",
            " |      You need to join the competition before downloading the data.\n",
            " |      \n",
            " |      Args:\n",
            " |        cname (str): The name of the competition on Kaggle.\n",
            " |      \n",
            " |      Returns:\n",
            " |        None\n",
            " |  \n",
            " |  fetch_kaggle_dataset(self, url, dest='kaggle')\n",
            " |      This method downloads the data from the Kaggle's dataset.\n",
            " |      You need NOT to join the competition before downloading the data.\n",
            " |      \n",
            " |      Args:\n",
            " |        url (str): The url of the dataset on Kaggle.\n",
            " |        dest (str): the destination path, default is \"kaggle\" directory.\n",
            " |      \n",
            " |      Returns:\n",
            " |        None\n",
            " |  \n",
            " |  make_dir_dataframe(self, start_path)\n",
            " |      This method builds the file name for a given directory.\n",
            " |      \n",
            " |      Args:\n",
            " |        start_path (str): The starting directory.\n",
            " |      \n",
            " |      Returns:\n",
            " |        DataFrame: The DataFrame containing the file names.\n",
            " |  \n",
            " |  print_batch_text(self, df_orig, disp_max=6, cols=['title', 'description'], is_larger_font=True)\n",
            " |      This method shows a batch of text data.\n",
            " |      \n",
            " |      Args:\n",
            " |        df_orig (DataFrame): The input DataFrame.\n",
            " |        disp_max (int): The maximum number of rows to be displayed. Default is 6.\n",
            " |        cols (list): The list of columns to display. Default is [\"title\", \"description\"].\n",
            " |        is_larger_font (bool): Whether to use larger font. Default is True.\n",
            " |      \n",
            " |      Returns:\n",
            " |        None\n",
            " |  \n",
            " |  remember_kaggle_access_keys(self, username, key)\n",
            " |      This method takes a username and a Kaggle API key as arguments and stores\n",
            " |      them in the class object.\n",
            " |      \n",
            " |      Args:\n",
            " |       username (str): The Kaggle username.\n",
            " |       key (str): The Kaggle API key.\n",
            " |      \n",
            " |      Returns:\n",
            " |       None\n",
            " |  \n",
            " |  say_sys_info(self)\n",
            " |      Print out system information. Useful for\n",
            " |      debugging purposes. Prints out information such as\n",
            " |      the system time, platform, Python version, PyTorch\n",
            " |      version, Pandas version, PIL version, and\n",
            " |      Matplotlib version. Also prints the number of CPU\n",
            " |      cores and the CPU speed.\n",
            " |      \n",
            " |      Note that this function is added to the class `PacktDataAug` via\n",
            " |      the decorator `@add_method()`. This means that you can\n",
            " |      call this function as `p.say_system_info()`,\n",
            " |      where `p` is an instance of `PacktDAtaAug`.\n",
            " |      \n",
            " |      Args:\n",
            " |        None\n",
            " |      \n",
            " |      Returns:\n",
            " |        None\n",
            " |  \n",
            " |  ----------------------------------------------------------------------\n",
            " |  Data descriptors defined here:\n",
            " |  \n",
            " |  __dict__\n",
            " |      dictionary for instance variables (if defined)\n",
            " |  \n",
            " |  __weakref__\n",
            " |      list of weak references to the object (if defined)\n",
            "\n"
          ]
        }
      ]
    },
    {
      "cell_type": "markdown",
      "source": [
        "## (Optional) Export to .py"
      ],
      "metadata": {
        "id": "3ULjYzKMOHjN"
      }
    },
    {
      "cell_type": "code",
      "source": [
        "pluto_chapter_3 = 'Data-Augmentation-with-Python/pluto/pluto_chapter_3.py'\n",
        "!cp {pluto_file} {pluto_chapter_3}"
      ],
      "metadata": {
        "id": "v3yYyN1dzy2G"
      },
      "execution_count": 7,
      "outputs": []
    },
    {
      "cell_type": "markdown",
      "source": [
        "# ✋ Setup Kaggle username and App ID\n",
        "\n",
        "- Install the following libraries, and import it on the Notebook.\n",
        "- Follow by initialize Kaggle username, key and fetch methods.\n",
        "- STOP: Update your Kaggle access username or key first."
      ],
      "metadata": {
        "id": "GEq5UZk-SDec"
      }
    },
    {
      "cell_type": "code",
      "source": [
        "# %%CARRY-OVER code install\n",
        "\n",
        "# -------------------- : --------------------\n",
        "# READ ME\n",
        "# Chapter 2 begin:\n",
        "# Install the following libraries, and import it on the Notebook.\n",
        "# Follow by initialize Kaggle username, key and fetch methods.\n",
        "# STOP: Update your Kaggle access username or key first.\n",
        "# -------------------- : --------------------\n",
        "\n",
        "!pip install opendatasets --upgrade\n",
        "import opendatasets\n",
        "print(\"\\nrequired version 0.1.22 or higher: \", opendatasets.__version__)\n",
        "\n",
        "!pip install pyspellchecker\n",
        "import spellchecker\n",
        "print(\"\\nRequired version 0.7+\", spellchecker.__version__)\n",
        "\n",
        "# STOP: Update your Kaggle access username or key first.\n",
        "# pluto.remember_kaggle_access_keys(\"YOUR_KAGGLE_USERNAME\", \"YOUR_KAGGLE_API_KEY\")\n",
        "pluto.remember_kaggle_access_keys(\"duchaba\", \"059d7f10e1838693868b30e9dbb7c8ce\")\n",
        "pluto._write_kaggle_credit()\n",
        "import kaggle\n",
        "\n",
        "@add_method(PacktDataAug)\n",
        "def fetch_kaggle_comp_data(self,cname):\n",
        "  #self._write_kaggle_credit()  # need to run only once.\n",
        "  path = pathlib.Path(cname)\n",
        "  kaggle.api.competition_download_cli(str(path))\n",
        "  zipfile.ZipFile(f'{path}.zip').extractall(path)\n",
        "  return\n",
        "\n",
        "@add_method(PacktDataAug)\n",
        "def fetch_kaggle_dataset(self,url,dest=\"kaggle\"):\n",
        "  #self._write_kaggle_credit()    # need to run only once.\n",
        "  opendatasets.download(url,data_dir=dest)\n",
        "  return\n",
        "# -------------------- : --------------------\n"
      ],
      "metadata": {
        "id": "2VXY3ROiSNsv"
      },
      "execution_count": null,
      "outputs": []
    },
    {
      "cell_type": "markdown",
      "metadata": {
        "id": "Xf1ZN68a46on"
      },
      "source": [
        "# Fetch Kaggle Data"
      ]
    },
    {
      "cell_type": "markdown",
      "metadata": {
        "id": "DmuApvJnHbNu"
      },
      "source": [
        "## Fetch and display Sea Animals"
      ]
    },
    {
      "cell_type": "code",
      "execution_count": null,
      "metadata": {
        "id": "RjQn8Y-FAUMs"
      },
      "outputs": [],
      "source": [
        "url = 'https://www.kaggle.com/datasets/vencerlanz09/sea-animals-image-dataste'\n",
        "pluto.fetch_kaggle_dataset(url)"
      ]
    },
    {
      "cell_type": "code",
      "source": [
        "# remove white space in directory and filename\n",
        "# run this until no error/output\n",
        "f = 'kaggle/sea-animals-image-dataste'\n",
        "!find {f} -name \"* *\" -type d | rename 's/ /_/g'\n",
        "#!find {f} -name \"* *\" -type f | rename 's/ /_/g'"
      ],
      "metadata": {
        "id": "iwrgOj4-X75h"
      },
      "execution_count": null,
      "outputs": []
    },
    {
      "cell_type": "code",
      "source": [
        "# remove white space in directory and filename\n",
        "# run this until no error/output\n",
        "f = 'kaggle/sea-animals-image-dataste'\n",
        "#!find {f} -name \"* *\" -type d | rename 's/ /_/g'\n",
        "!find {f} -name \"* *\" -type f | rename 's/ /_/g'"
      ],
      "metadata": {
        "id": "tFWbf-9xKYKe"
      },
      "execution_count": null,
      "outputs": []
    },
    {
      "cell_type": "code",
      "source": [
        "# change method name to make_dir_dframe\n",
        "pluto.df_sea_animal = pluto.make_dir_dataframe(f)\n",
        "pluto.df_sea_animal.head(3)"
      ],
      "metadata": {
        "id": "m4w5JoK1Yd4G"
      },
      "execution_count": null,
      "outputs": []
    },
    {
      "cell_type": "code",
      "source": [
        "img = PIL.Image.open(pluto.df_sea_animal.fname[0])\n",
        "display(img)"
      ],
      "metadata": {
        "id": "wGwcTyvkYd6-"
      },
      "execution_count": null,
      "outputs": []
    },
    {
      "cell_type": "markdown",
      "source": [
        "## covid 19"
      ],
      "metadata": {
        "id": "aYm7QEp6Bw6g"
      }
    },
    {
      "cell_type": "code",
      "source": [
        "url = 'https://www.kaggle.com/datasets/pranavraikokte/covid19-image-dataset'\n",
        "pluto.fetch_kaggle_dataset(url)"
      ],
      "metadata": {
        "id": "deAORLIFBwCo"
      },
      "execution_count": null,
      "outputs": []
    },
    {
      "cell_type": "code",
      "source": [
        "# remove white space in directory and filename\n",
        "# run this until no error/output\n",
        "f = 'kaggle/covid19-image-dataset/Covid19-dataset/train'\n",
        "!find {f} -name \"* *\" -type d | rename 's/ /_/g'\n",
        "#!find {f} -name \"* *\" -type f | rename 's/ /_/g'"
      ],
      "metadata": {
        "id": "Wy9BU0O3BlPq"
      },
      "execution_count": null,
      "outputs": []
    },
    {
      "cell_type": "code",
      "source": [
        "pluto.df_covid19 = pluto.make_dir_dataframe(f)\n",
        "pluto.df_covid19.head(3)\n"
      ],
      "metadata": {
        "id": "ZKXOORjSBlSx"
      },
      "execution_count": null,
      "outputs": []
    },
    {
      "cell_type": "code",
      "source": [
        "img = PIL.Image.open(pluto.df_covid19.fname[0])\n",
        "display(img)"
      ],
      "metadata": {
        "id": "kwzEsR71EMRI"
      },
      "execution_count": null,
      "outputs": []
    },
    {
      "cell_type": "markdown",
      "source": [
        "## Mall Crowd"
      ],
      "metadata": {
        "id": "C1X2pxkiEAL2"
      }
    },
    {
      "cell_type": "code",
      "source": [
        "url = 'https://www.kaggle.com/datasets/ferasoughali/mall-crowd-estimation'\n",
        "pluto.fetch_kaggle_dataset(url)"
      ],
      "metadata": {
        "id": "QyZBfjLJBlWI"
      },
      "execution_count": null,
      "outputs": []
    },
    {
      "cell_type": "code",
      "source": [
        "f = 'kaggle/mall-crowd-estimation/mall_dataset/frames/Thumbs.db'\n",
        "!rm {f}"
      ],
      "metadata": {
        "id": "9SaDX-8vBlYh"
      },
      "execution_count": null,
      "outputs": []
    },
    {
      "cell_type": "code",
      "source": [
        "f = 'kaggle/mall-crowd-estimation/mall_dataset/frames'\n",
        "pluto.df_crowd = pluto.make_dir_dataframe(f)\n",
        "pluto.df_crowd.head(3)"
      ],
      "metadata": {
        "id": "_pktWm8kBlcJ"
      },
      "execution_count": null,
      "outputs": []
    },
    {
      "cell_type": "code",
      "source": [
        "img = PIL.Image.open(pluto.df_crowd.fname[0])\n",
        "display(img)"
      ],
      "metadata": {
        "id": "9-TG8JnIBlei"
      },
      "execution_count": null,
      "outputs": []
    },
    {
      "cell_type": "markdown",
      "source": [
        "## Indian pictures"
      ],
      "metadata": {
        "id": "JkTjSkCKGPU3"
      }
    },
    {
      "cell_type": "code",
      "source": [
        "url = 'https://www.kaggle.com/datasets/sinhayush29/indian-people'\n",
        "pluto.fetch_kaggle_dataset(url)"
      ],
      "metadata": {
        "id": "Vy2RfDR8BliM"
      },
      "execution_count": null,
      "outputs": []
    },
    {
      "cell_type": "code",
      "source": [
        "# remove white space in directory and filename\n",
        "# run this until no error/output\n",
        "f = 'kaggle/indian-people'\n",
        "!find {f} -name \"* *\" -type d | rename 's/ /_/g'\n",
        "#!find {f} -name \"* *\" -type f | rename 's/ /_/g'"
      ],
      "metadata": {
        "id": "WTx6TXkFGLdP"
      },
      "execution_count": null,
      "outputs": []
    },
    {
      "cell_type": "code",
      "source": [
        "# remove white space in directory and filename\n",
        "# run this until no error/output\n",
        "f = 'kaggle/indian-people/Indian_Train_Set'\n",
        "#!find {f} -name \"* *\" -type d | rename 's/ /_/g'\n",
        "!find {f} -name \"* *\" -type f | rename 's/ /_/g'"
      ],
      "metadata": {
        "id": "6l2WBut9GLgC"
      },
      "execution_count": null,
      "outputs": []
    },
    {
      "cell_type": "code",
      "source": [
        "f = 'kaggle/indian-people/Indian_Train_Set/Indian'\n",
        "pluto.df_people = pluto.make_dir_dataframe(f)\n",
        "pluto.df_people.head(3)"
      ],
      "metadata": {
        "id": "9iuZkdTsGLjn"
      },
      "execution_count": null,
      "outputs": []
    },
    {
      "cell_type": "code",
      "source": [
        "img = PIL.Image.open(pluto.df_people.fname[0])\n",
        "display(img)"
      ],
      "metadata": {
        "id": "6zydElp8GLmf"
      },
      "execution_count": null,
      "outputs": []
    },
    {
      "cell_type": "markdown",
      "source": [
        "## Vietnamese food"
      ],
      "metadata": {
        "id": "KB6KdgYoI3P2"
      }
    },
    {
      "cell_type": "code",
      "source": [
        "url = 'https://www.kaggle.com/datasets/quandang/vietnamese-foods'\n",
        "pluto.fetch_kaggle_dataset(url)\n",
        "# use word assemble"
      ],
      "metadata": {
        "id": "sbBiL-CUI3cR"
      },
      "execution_count": null,
      "outputs": []
    },
    {
      "cell_type": "code",
      "source": [
        "# remove white space in directory and filename\n",
        "# run this until no error/output\n",
        "f = 'kaggle/vietnamese-foods/Images/Train'\n",
        "!find {f} -name \"* *\" -type d | rename 's/ /_/g'\n",
        "#!find {f} -name \"* *\" -type f | rename 's/ /_/g'"
      ],
      "metadata": {
        "id": "Kj-f23ZCThYo"
      },
      "execution_count": null,
      "outputs": []
    },
    {
      "cell_type": "code",
      "source": [
        "f = 'kaggle/vietnamese-foods/Images/Train'\n",
        "pluto.df_food = pluto.make_dir_dataframe(f)\n",
        "pluto.df_food.head(3)"
      ],
      "metadata": {
        "id": "6EEq2AaxI3gF"
      },
      "execution_count": null,
      "outputs": []
    },
    {
      "cell_type": "code",
      "source": [
        "img = PIL.Image.open(pluto.df_food.fname[0])\n",
        "display(img)"
      ],
      "metadata": {
        "id": "Bk9vOeNbGLp6"
      },
      "execution_count": null,
      "outputs": []
    },
    {
      "cell_type": "markdown",
      "source": [
        "## Fungi"
      ],
      "metadata": {
        "id": "W93vq3aPCwlO"
      }
    },
    {
      "cell_type": "code",
      "source": [
        "url = 'https://www.kaggle.com/datasets/marcosvolpato/edible-and-poisonous-fungi'\n",
        "pluto.fetch_kaggle_dataset(url)\n",
        "# use word assemble"
      ],
      "metadata": {
        "id": "XSZFPap0Cvrh"
      },
      "execution_count": null,
      "outputs": []
    },
    {
      "cell_type": "code",
      "source": [
        "# remove white space in directory and filename\n",
        "# run this until no error/output\n",
        "f = 'kaggle/edible-and-poisonous-fungi'\n",
        "!find {f} -name \"* *\" -type d | rename 's/ /_/g'\n",
        "#!find {f} -name \"* *\" -type f | rename 's/ /_/g'"
      ],
      "metadata": {
        "id": "LiPF1m_AGLsn"
      },
      "execution_count": null,
      "outputs": []
    },
    {
      "cell_type": "code",
      "source": [
        "# remove white space in directory and filename\n",
        "# run this until no error/output\n",
        "f = 'kaggle/edible-and-poisonous-fungi'\n",
        "# !find {f} -name \"* *\" -type d | rename 's/ /_/g'\n",
        "!find {f} -name \"* *\" -type f | rename 's/ /_/g'"
      ],
      "metadata": {
        "id": "u38Pv8jBGLwH"
      },
      "execution_count": null,
      "outputs": []
    },
    {
      "cell_type": "code",
      "source": [
        "pluto.df_fungi = pluto.make_dir_dataframe(f)\n",
        "pluto.df_fungi.head(3)"
      ],
      "metadata": {
        "id": "vHCWg226GLyo"
      },
      "execution_count": null,
      "outputs": []
    },
    {
      "cell_type": "code",
      "source": [
        "img = PIL.Image.open(pluto.df_fungi.fname[0])\n",
        "display(img)"
      ],
      "metadata": {
        "id": "6YAd-y3HBllb"
      },
      "execution_count": null,
      "outputs": []
    },
    {
      "cell_type": "markdown",
      "metadata": {
        "id": "jPJDMqrwHhCR"
      },
      "source": [
        "# Draw the Images"
      ]
    },
    {
      "cell_type": "markdown",
      "source": [
        "## display patch"
      ],
      "metadata": {
        "id": "xLpFNMbhosse"
      }
    },
    {
      "cell_type": "code",
      "source": [
        "df = [pluto.df_covid19.sample(2), pluto.df_people.sample(2),\n",
        "  pluto.df_fungi.sample(2), pluto.df_sea_animal.sample(2),\n",
        "  pluto.df_food.sample(1), pluto.df_crowd.sample(1)]\n",
        "\n",
        "df_samp = pandas.concat(df)\n",
        "x = pluto.draw_batch(df_samp.fname)"
      ],
      "metadata": {
        "id": "-B-Y1s1NH93C"
      },
      "execution_count": null,
      "outputs": []
    },
    {
      "cell_type": "markdown",
      "source": [
        "# Geometric transformations filters"
      ],
      "metadata": {
        "id": "smpQgFW0YR3l"
      }
    },
    {
      "cell_type": "code",
      "source": [
        "# %%CARRY-OVER code install\n",
        "\n",
        "!pip install -Uqq fastai\n",
        "#\n",
        "# tested on version:\n",
        "# !pip install -Uqq fastai==2.6.3"
      ],
      "metadata": {
        "id": "TfkSCwau2WRE"
      },
      "execution_count": 8,
      "outputs": []
    },
    {
      "cell_type": "code",
      "source": [
        "# %%writefile -a {pluto_chapter_3}\n",
        "\n",
        "# STOP: if failed the import below, you need to run:\n",
        "# !pip install -Uqq fastai\n",
        "#\n",
        "pluto.version = 3.0\n",
        "from fastcore.all import *\n",
        "import fastai\n",
        "import fastai.vision\n",
        "import fastai.vision.core\n",
        "import fastai.vision.augment\n",
        "import numpy\n",
        "print(\"\\nfastai version (should be 2.6.3 or higher): \", fastai.__version__)"
      ],
      "metadata": {
        "id": "v3Kd87JsYVYb",
        "colab": {
          "base_uri": "https://localhost:8080/"
        },
        "outputId": "f1072c57-db70-45f6-8dea-a4a76101fd94"
      },
      "execution_count": 9,
      "outputs": [
        {
          "output_type": "stream",
          "name": "stdout",
          "text": [
            "Appending to Data-Augmentation-with-Python/pluto/pluto_chapter_3.py\n"
          ]
        }
      ]
    },
    {
      "cell_type": "markdown",
      "source": [
        "## Horizontal flip"
      ],
      "metadata": {
        "id": "5pHBMc2YA6x9"
      }
    },
    {
      "cell_type": "code",
      "source": [
        "# %%writefile -a {pluto_chapter_3}\n",
        "\n",
        "# prompt: write detail documentation for the following function: draw_image_flip_pil\n",
        "import PIL\n",
        "import PIL.ImageOps\n",
        "@add_method(PacktDataAug)\n",
        "def draw_image_flip_pil(self,fname):\n",
        "\n",
        "  \"\"\"\n",
        "  Draw an image and its horizontal flipped version.\n",
        "\n",
        "  Args:\n",
        "    fname (str): path to the input image.\n",
        "\n",
        "  Returns:\n",
        "    None.\n",
        "  \"\"\"\n",
        "\n",
        "  img = PIL.Image.open(fname)\n",
        "  mirror_img = PIL.ImageOps.mirror(img)\n",
        "  display(img, mirror_img)\n",
        "  return"
      ],
      "metadata": {
        "id": "odoUsUwmDdD-",
        "colab": {
          "base_uri": "https://localhost:8080/"
        },
        "outputId": "6efdc3ff-05ba-43bb-d787-0a4c7bdfd3c2"
      },
      "execution_count": 10,
      "outputs": [
        {
          "output_type": "stream",
          "name": "stdout",
          "text": [
            "Appending to Data-Augmentation-with-Python/pluto/pluto_chapter_3.py\n"
          ]
        }
      ]
    },
    {
      "cell_type": "code",
      "source": [
        "pluto.draw_image_flip_pil(pluto.df_people.fname[100])"
      ],
      "metadata": {
        "id": "4esbEC_pAxwC"
      },
      "execution_count": null,
      "outputs": []
    },
    {
      "cell_type": "code",
      "source": [
        "# %%writefile -a {pluto_chapter_3}\n",
        "\n",
        "# prompt: write detail documentation for the following function: _make_data_loader\n",
        "@add_method(PacktDataAug)\n",
        "def _make_data_loader(self,df, tfms, i_tfms=None):\n",
        "\n",
        "  \"\"\"\n",
        "  Make a data loader from input dataframe using fastai. It is private function.\n",
        "\n",
        "  Args:\n",
        "    df (pandas.DataFrame): input dataframe.\n",
        "    tfms (list): transformations to be applied on the dataloader.\n",
        "    i_tfms (list, Optional): item transformations to be applied on the dataloader.\n",
        "\n",
        "  Returns:\n",
        "    fastai.vision.data.ImageDataLoaders: dataloader object\n",
        "  \"\"\"\n",
        "\n",
        "  dls = fastai.vision.data.ImageDataLoaders.from_df(df,\n",
        "  fn_col=\"fname\",label_col=\"label\",\n",
        "  item_tfms=i_tfms,\n",
        "  batch_tfms=tfms,\n",
        "  valid_pct=0.2,\n",
        "  bs=32)\n",
        "  return dls\n",
        "#\n",
        "# fastai.vision.augment.RandomCrop\n",
        "# fastai.vision.augment.CropPad(480)\n",
        "# import fastai.vision.augment. (to see all other option like flip, hue, etc)\n",
        "@add_method(PacktDataAug)\n",
        "def draw_image_flip(self,df,bsize=15):\n",
        "\n",
        "  \"\"\"\n",
        "  Draw an image and its horizontally flipped version. It also augments the image dataset using horizontal flip and resize.\n",
        "\n",
        "  Args:\n",
        "    df (pandas.DataFrame): input dataframe.\n",
        "    bsize (int, optional): batch size. Defaults to 15.\n",
        "\n",
        "  Returns:\n",
        "    fastai.vision.data.ImageDataLoaders: dataloader object\n",
        "  \"\"\"\n",
        "\n",
        "  aug = [fastai.vision.augment.Flip(p=0.8)]\n",
        "  itfms = fastai.vision.augment.Resize(480)\n",
        "  dsl_org = self._make_data_loader(df, aug,itfms)\n",
        "  dsl_org.show_batch(max_n=bsize)\n",
        "  return dsl_org"
      ],
      "metadata": {
        "id": "76wncXh3RxSm",
        "colab": {
          "base_uri": "https://localhost:8080/"
        },
        "outputId": "bba6182e-7b56-4f3d-a17f-909d04e34692"
      },
      "execution_count": 11,
      "outputs": [
        {
          "output_type": "stream",
          "name": "stdout",
          "text": [
            "Appending to Data-Augmentation-with-Python/pluto/pluto_chapter_3.py\n"
          ]
        }
      ]
    },
    {
      "cell_type": "code",
      "source": [
        "pluto.dls_people = pluto.draw_image_flip(pluto.df_people)"
      ],
      "metadata": {
        "id": "k0KjkuAdRx1A"
      },
      "execution_count": null,
      "outputs": []
    },
    {
      "cell_type": "code",
      "source": [
        "pluto.dls_fungi = pluto.draw_image_flip(pluto.df_fungi)"
      ],
      "metadata": {
        "id": "c07-v_pYYSBn"
      },
      "execution_count": null,
      "outputs": []
    },
    {
      "cell_type": "code",
      "source": [
        "pluto.dls_covid19 = pluto.draw_image_flip(pluto.df_covid19)"
      ],
      "metadata": {
        "id": "1vgOYMdiYSE4"
      },
      "execution_count": null,
      "outputs": []
    },
    {
      "cell_type": "code",
      "source": [
        "# %%writefile -a {pluto_chapter_3}\n",
        "\n",
        "# prompt: write detail documentation for the following function: draw_image_flip_both\n",
        "@add_method(PacktDataAug)\n",
        "def draw_image_flip_both(self,df,bsize=15,pad_mode='zeros'):\n",
        "\n",
        "  \"\"\"\n",
        "  Draw an image and its both horizontally and vertically flipped versions.\n",
        "  It also augments the image dataset using both horizontal and vertical flip and resize.\n",
        "\n",
        "  Args:\n",
        "    df (pandas.DataFrame): input dataframe.\n",
        "    bsize (int, optional): batch size. Defaults to 15.\n",
        "    pad_mode (str, optional): padding mode. Defaults to 'zeros'.\n",
        "\n",
        "  Returns:\n",
        "    fastai.vision.data.ImageDataLoaders: dataloader object\n",
        "  \"\"\"\n",
        "  aug = fastai.vision.augment.Dihedral(p=0.8,pad_mode=pad_mode)\n",
        "  itfms = fastai.vision.augment.Resize(480)\n",
        "  dsl_org = self._make_data_loader(df, aug,itfms)\n",
        "  dsl_org.show_batch(max_n=bsize)\n",
        "  return dsl_org"
      ],
      "metadata": {
        "id": "iWZ5fcXKYSHz",
        "colab": {
          "base_uri": "https://localhost:8080/"
        },
        "outputId": "2525afd5-4a85-4cb6-eb53-c86f75554ca1"
      },
      "execution_count": 12,
      "outputs": [
        {
          "output_type": "stream",
          "name": "stdout",
          "text": [
            "Appending to Data-Augmentation-with-Python/pluto/pluto_chapter_3.py\n"
          ]
        }
      ]
    },
    {
      "cell_type": "code",
      "source": [
        "pluto.dls_people = pluto.draw_image_flip_both(pluto.df_people,pad_mode='reflection')"
      ],
      "metadata": {
        "id": "fSM3l3zvYSK2"
      },
      "execution_count": null,
      "outputs": []
    },
    {
      "cell_type": "code",
      "source": [
        "pluto.dls_sea_animal = pluto.draw_image_flip_both(pluto.df_sea_animal,pad_mode='border')"
      ],
      "metadata": {
        "id": "29TyX8GyYSN3"
      },
      "execution_count": null,
      "outputs": []
    },
    {
      "cell_type": "code",
      "source": [
        "pluto.dls_food = pluto.draw_image_flip_both(pluto.df_food,pad_mode='reflection')"
      ],
      "metadata": {
        "id": "-s_2S7BoYSRL"
      },
      "execution_count": null,
      "outputs": []
    },
    {
      "cell_type": "markdown",
      "source": [
        "## Croping and Padding"
      ],
      "metadata": {
        "id": "0TOOFz2JwZmX"
      }
    },
    {
      "cell_type": "code",
      "source": [
        "# %%writefile -a {pluto_chapter_3}\n",
        "\n",
        "# prompt: write detail documentation for the following function: draw_image_crop\n",
        "@add_method(PacktDataAug)\n",
        "def draw_image_crop(self,df,bsize=15,pad_mode=\"zeros\",isize=480):\n",
        "\n",
        "  \"\"\"\n",
        "  Draw an image and its cropped versions. It also augments the image dataset using crop and resize.\n",
        "\n",
        "  Args:\n",
        "    df (pandas.DataFrame): input dataframe.\n",
        "    bsize (int, optional): batch size. Defaults to 15.\n",
        "    pad_mode (str, optional): padding mode. Defaults to 'zeros'.\n",
        "    isize (int, optional): image size. Defaults to 480.\n",
        "\n",
        "  Returns:\n",
        "    fastai.vision.data.ImageDataLoaders: dataloader object\n",
        "  \"\"\"\n",
        "\n",
        "  aug = fastai.vision.augment.CropPad(isize,pad_mode=pad_mode)\n",
        "  itfms = fastai.vision.augment.CropPad(isize, pad_mode=pad_mode)\n",
        "  dsl_org = self._make_data_loader(df, aug,itfms)\n",
        "  dsl_org.show_batch(max_n=bsize)\n",
        "  return dsl_org"
      ],
      "metadata": {
        "id": "V8ladPvYq-lF",
        "colab": {
          "base_uri": "https://localhost:8080/"
        },
        "outputId": "4359e036-c1f1-43e7-a84e-5afab452cb83"
      },
      "execution_count": 13,
      "outputs": [
        {
          "output_type": "stream",
          "name": "stdout",
          "text": [
            "Appending to Data-Augmentation-with-Python/pluto/pluto_chapter_3.py\n"
          ]
        }
      ]
    },
    {
      "cell_type": "code",
      "source": [
        "pluto.dls_people = pluto.draw_image_crop(pluto.df_people, pad_mode=\"border\",isize=640)"
      ],
      "metadata": {
        "id": "O61a4c93q-oQ"
      },
      "execution_count": null,
      "outputs": []
    },
    {
      "cell_type": "code",
      "source": [
        "pluto.dls_fungi = pluto.draw_image_crop(pluto.df_fungi,pad_mode=\"reflection\",isize=240)"
      ],
      "metadata": {
        "id": "bh3dTqobq-r-"
      },
      "execution_count": null,
      "outputs": []
    },
    {
      "cell_type": "code",
      "source": [
        "pluto.dls_food = pluto.draw_image_crop(pluto.df_food,pad_mode=\"reflection\",isize=640)"
      ],
      "metadata": {
        "id": "EeiC7w2Iq-u9"
      },
      "execution_count": null,
      "outputs": []
    },
    {
      "cell_type": "code",
      "source": [
        "pluto.dls_sea_animal = pluto.draw_image_crop(pluto.df_sea_animal,pad_mode=\"reflection\", isize=340)"
      ],
      "metadata": {
        "id": "wkpuldElq-yf"
      },
      "execution_count": null,
      "outputs": []
    },
    {
      "cell_type": "code",
      "source": [
        "pluto.dls_covid19 = pluto.draw_image_crop(pluto.df_covid19,pad_mode=\"zeros\", isize=1600)"
      ],
      "metadata": {
        "id": "VM6MT6Cnq-1d"
      },
      "execution_count": null,
      "outputs": []
    },
    {
      "cell_type": "code",
      "source": [
        "pluto.dls_crowd = pluto.draw_image_crop(pluto.df_crowd,pad_mode=\"zeros\", isize=512)"
      ],
      "metadata": {
        "id": "9BvhjOkGq-5H"
      },
      "execution_count": null,
      "outputs": []
    },
    {
      "cell_type": "markdown",
      "source": [
        "## Rotation"
      ],
      "metadata": {
        "id": "zUByR0DaOq9x"
      }
    },
    {
      "cell_type": "code",
      "source": [
        "# %%writefile -a {pluto_chapter_3}\n",
        "\n",
        "# prompt: write detail documentation for the following function: draw_image_rotate\n",
        "@add_method(PacktDataAug)\n",
        "def draw_image_rotate(self,df,bsize=15,max_rotate=45.0,pad_mode='zeros'):\n",
        "\n",
        "  \"\"\"\n",
        "  Draw an image and its rotated versions. It also augments the image dataset using rotation and resize.\n",
        "\n",
        "  Args:\n",
        "    df (pandas.DataFrame): input dataframe.\n",
        "    bsize (int, optional): batch size. Defaults to 15.\n",
        "    max_rotate (float, optional): maximum rotation angle. Defaults to 45.0.\n",
        "    pad_mode (str, optional): padding mode. Defaults to 'zeros'.\n",
        "\n",
        "  Returns:\n",
        "    fastai.vision.data.ImageDataLoaders: dataloader object\n",
        "  \"\"\"\n",
        "  aug = [fastai.vision.augment.Rotate(max_rotate,p=0.75,pad_mode=pad_mode)]\n",
        "  itfms = fastai.vision.augment.Resize(480)\n",
        "  dsl_org = self._make_data_loader(df, aug,itfms)\n",
        "  dsl_org.show_batch(max_n=bsize)\n",
        "  return dsl_org"
      ],
      "metadata": {
        "id": "Dc4b9LCAq-7z",
        "colab": {
          "base_uri": "https://localhost:8080/"
        },
        "outputId": "9154b995-dd8c-4b12-ede9-a1cfddea259c"
      },
      "execution_count": 14,
      "outputs": [
        {
          "output_type": "stream",
          "name": "stdout",
          "text": [
            "Appending to Data-Augmentation-with-Python/pluto/pluto_chapter_3.py\n"
          ]
        }
      ]
    },
    {
      "cell_type": "code",
      "source": [
        "pluto.dls_people = pluto.draw_image_rotate(pluto.df_people,max_rotate=25.0, pad_mode='border')"
      ],
      "metadata": {
        "id": "IOv8NtPOq--5"
      },
      "execution_count": null,
      "outputs": []
    },
    {
      "cell_type": "code",
      "source": [
        "pluto.dls_sea_animal = pluto.draw_image_rotate(pluto.df_sea_animal,max_rotate=180.0, pad_mode='reflection')"
      ],
      "metadata": {
        "id": "x33n8jEBq_CP"
      },
      "execution_count": null,
      "outputs": []
    },
    {
      "cell_type": "code",
      "source": [
        "pluto.dls_crowd = pluto.draw_image_rotate(pluto.df_crowd,max_rotate=16.0, pad_mode='zeros')"
      ],
      "metadata": {
        "id": "7QVX7Zpbq_FE"
      },
      "execution_count": null,
      "outputs": []
    },
    {
      "cell_type": "code",
      "source": [
        "pluto.dls_fungi = pluto.draw_image_rotate(pluto.df_fungi,max_rotate=45.0, pad_mode='border')"
      ],
      "metadata": {
        "id": "XDjgG8UbYST1"
      },
      "execution_count": null,
      "outputs": []
    },
    {
      "cell_type": "code",
      "source": [
        "pluto.dls_food = pluto.draw_image_rotate(pluto.df_food,max_rotate=90.0, pad_mode='reflection')"
      ],
      "metadata": {
        "id": "7C2FjjlYYSWn"
      },
      "execution_count": null,
      "outputs": []
    },
    {
      "cell_type": "code",
      "source": [
        "pluto.dls_covid19 = pluto.draw_image_rotate(pluto.df_covid19,max_rotate=8.0, pad_mode='zeros')"
      ],
      "metadata": {
        "id": "tyEefo4NYSZz"
      },
      "execution_count": null,
      "outputs": []
    },
    {
      "cell_type": "code",
      "source": [
        "#fastai.vision.augment.cutout_gaussian?"
      ],
      "metadata": {
        "id": "8RSjNklUYSca"
      },
      "execution_count": null,
      "outputs": []
    },
    {
      "cell_type": "markdown",
      "source": [
        "## Warping"
      ],
      "metadata": {
        "id": "2Rm1g2Udu-O_"
      }
    },
    {
      "cell_type": "code",
      "source": [
        "# %%writefile -a {pluto_chapter_3}\n",
        "\n",
        "# prompt: write detail documentation for the following function: draw_image_warp\n",
        "@add_method(PacktDataAug)\n",
        "def draw_image_warp(self,df,bsize=15,magnitude=0.2,pad_mode='zeros'):\n",
        "\n",
        "  \"\"\"\n",
        "  Draw an image and its warped versions. It also augments the image dataset using warp and resize.\n",
        "\n",
        "  Args:\n",
        "    df (pandas.DataFrame): input dataframe.\n",
        "    bsize (int, optional): batch size. Defaults to 15.\n",
        "    magnitude (float, optional): magnitude of warp. Defaults to 0.2.\n",
        "    pad_mode (str, optional): padding mode. Defaults to 'zeros'.\n",
        "\n",
        "  Returns:\n",
        "    fastai.vision.data.ImageDataLoaders: dataloader object\n",
        "  \"\"\"\n",
        "\n",
        "  aug = [fastai.vision.augment.Warp(magnitude=magnitude, pad_mode=pad_mode,p=0.75)]\n",
        "  itfms = fastai.vision.augment.Resize(480)\n",
        "  dsl_org = self._make_data_loader(df, aug,itfms)\n",
        "  dsl_org.show_batch(max_n=bsize)\n",
        "  return dsl_org"
      ],
      "metadata": {
        "id": "Pwx-dhuwu-b0",
        "colab": {
          "base_uri": "https://localhost:8080/"
        },
        "outputId": "d4f571b1-ba0b-49d0-d3f5-6d35689812e9"
      },
      "execution_count": 15,
      "outputs": [
        {
          "output_type": "stream",
          "name": "stdout",
          "text": [
            "Appending to Data-Augmentation-with-Python/pluto/pluto_chapter_3.py\n"
          ]
        }
      ]
    },
    {
      "cell_type": "code",
      "source": [
        "pluto.dls_people = pluto.draw_image_warp(pluto.df_people,magnitude=0.4,pad_mode='border')"
      ],
      "metadata": {
        "id": "zVU_3Bw-u-f8"
      },
      "execution_count": null,
      "outputs": []
    },
    {
      "cell_type": "code",
      "source": [
        "pluto.dls_sea_animal = pluto.draw_image_warp(pluto.df_sea_animal,magnitude=0.5,pad_mode='border')"
      ],
      "metadata": {
        "id": "ueQBklDbu-6l"
      },
      "execution_count": null,
      "outputs": []
    },
    {
      "cell_type": "markdown",
      "source": [
        "## Translation"
      ],
      "metadata": {
        "id": "c5sfcJg1xhb2"
      }
    },
    {
      "cell_type": "code",
      "source": [
        "# %%writefile -a {pluto_chapter_3}\n",
        "\n",
        "# prompt: write detail documentation for the following function: draw_image_shift_pil\n",
        "@add_method(PacktDataAug)\n",
        "def draw_image_shift_pil(self,fname, x_axis, y_axis=0):\n",
        "\n",
        "  \"\"\"\n",
        "  Draw an image and its shifted versions using PIL library.\n",
        "\n",
        "  Args:\n",
        "    fname (str): filepath of the input image.\n",
        "    x_axis (int): horizontal axis.\n",
        "    y_axis (int, optional): vertical axis. Defaults to 0.\n",
        "\n",
        "  Returns:\n",
        "    None\n",
        "  \"\"\"\n",
        "  img = PIL.Image.open(fname)\n",
        "  shift_img = PIL.ImageChops.offset(img,x_axis,y_axis)\n",
        "  display(img, shift_img)\n",
        "  return"
      ],
      "metadata": {
        "id": "KSqySu5-2P9z",
        "colab": {
          "base_uri": "https://localhost:8080/"
        },
        "outputId": "3b569962-cf8a-46b6-806c-d28d07e145a4"
      },
      "execution_count": 16,
      "outputs": [
        {
          "output_type": "stream",
          "name": "stdout",
          "text": [
            "Appending to Data-Augmentation-with-Python/pluto/pluto_chapter_3.py\n"
          ]
        }
      ]
    },
    {
      "cell_type": "code",
      "source": [
        "f = pluto.df_people.fname[30]\n",
        "pluto.draw_image_shift_pil(f, -150, -50)"
      ],
      "metadata": {
        "id": "WnoXlO_43Ds2"
      },
      "execution_count": null,
      "outputs": []
    },
    {
      "cell_type": "markdown",
      "source": [
        "# Phometric transformations"
      ],
      "metadata": {
        "id": "5adKElIq-6uF"
      }
    },
    {
      "cell_type": "code",
      "source": [
        "# %%CARRY-OVER code install\n",
        "\n",
        "!pip install albumentations"
      ],
      "metadata": {
        "id": "l48Z5k7DyGD5"
      },
      "execution_count": null,
      "outputs": []
    },
    {
      "cell_type": "code",
      "source": [
        "# %%writefile -a {pluto_chapter_3}\n",
        "\n",
        "try:\n",
        "  pluto._ph()\n",
        "  import albumentations\n",
        "  pluto._pp(\"albumentations 1.2.1\", \"actual \" + albumentations.__version__)\n",
        "# import cat2\n",
        "except ImportError as e:\n",
        "  pluto._ph()\n",
        "  pluto._pp(\"**Error\", e)\n",
        "pluto._ph()"
      ],
      "metadata": {
        "id": "83fkacclVteH",
        "colab": {
          "base_uri": "https://localhost:8080/"
        },
        "outputId": "3e651b05-d08b-473a-d6ec-231d2429ac03"
      },
      "execution_count": 17,
      "outputs": [
        {
          "output_type": "stream",
          "name": "stdout",
          "text": [
            "Appending to Data-Augmentation-with-Python/pluto/pluto_chapter_3.py\n"
          ]
        }
      ]
    },
    {
      "cell_type": "code",
      "source": [
        "# %%writefile -a {pluto_chapter_3}\n",
        "\n",
        "# prompt: write detail documentation for the following function: _draw_image_album\n",
        "@add_method(PacktDataAug)\n",
        "def _draw_image_album(self,df,aug_album,bsize=5):\n",
        "\n",
        "  \"\"\"\n",
        "  Draw an image and its augmented versions using albumentations to do image transformation\n",
        "  and display it in batch.\n",
        "\n",
        "  Args:\n",
        "    df (pandas.DataFrame): input dataframe.\n",
        "    aug_album (albumentations.Compose): albumentations transformation function.\n",
        "    bsize (int, optional): batch size. Defaults to 5.\n",
        "\n",
        "  Returns:\n",
        "    None\n",
        "  \"\"\"\n",
        "\n",
        "  if (bsize == 2):\n",
        "    ncol = 2\n",
        "    nrow = 1\n",
        "    w = 16\n",
        "    h = 8\n",
        "  else:\n",
        "    ncol = 5\n",
        "    nrow = int(numpy.ceil(bsize/ncol))\n",
        "    w = 14\n",
        "    h = int(4 * nrow)\n",
        "  #\n",
        "  canvas, pic = matplotlib.pyplot.subplots(nrow, ncol, figsize=(w, h))\n",
        "  pics = pic.flatten()\n",
        "  # select random images\n",
        "  samp = df.sample(int(ncol * nrow))\n",
        "  samp.reset_index(drop=True, inplace=True)\n",
        "  for i, ax in enumerate(pics):\n",
        "    # convert to an array\n",
        "    img_numpy = numpy.array(PIL.Image.open(samp.fname[i]))\n",
        "    label = df.label[i]\n",
        "    # perform the transformation using albumentations\n",
        "    img = aug_album(image=img_numpy)['image']\n",
        "    # display the image in batch modde\n",
        "    ax.imshow(img)\n",
        "    ax.set_title(label)\n",
        "  canvas.tight_layout()\n",
        "  self._drop_image(canvas)\n",
        "  canvas.show()\n",
        "  return"
      ],
      "metadata": {
        "id": "ywTYp3lYIHD_",
        "colab": {
          "base_uri": "https://localhost:8080/"
        },
        "outputId": "15d082da-bd0b-470c-e70f-b695c3b482cb"
      },
      "execution_count": 18,
      "outputs": [
        {
          "output_type": "stream",
          "name": "stdout",
          "text": [
            "Appending to Data-Augmentation-with-Python/pluto/pluto_chapter_3.py\n"
          ]
        }
      ]
    },
    {
      "cell_type": "markdown",
      "source": [
        "## Lighting"
      ],
      "metadata": {
        "id": "Kpj6PEQDanJP"
      }
    },
    {
      "cell_type": "code",
      "source": [
        "# %%writefile -a {pluto_chapter_3}\n",
        "\n",
        "# prompt: write detail documentation for the following function: draw_image_brightness\n",
        "@add_method(PacktDataAug)\n",
        "def draw_image_brightness(self,df,brightness=0.2,bsize=5):\n",
        "\n",
        "  \"\"\"\n",
        "  Draw an image and its brightness augmented versions using albumentations to do image transformation\n",
        "  and display it in batch.\n",
        "\n",
        "  Args:\n",
        "    df (pandas.DataFrame): input dataframe.\n",
        "    brightness (float, optional): brightness multiplier. Defaults to 0.2.\n",
        "    bsize (int, optional): batch size. Defaults to 5.\n",
        "\n",
        "  Returns:\n",
        "    None\n",
        "  \"\"\"\n",
        "\n",
        "  aug_album = albumentations.ColorJitter(brightness=brightness,\n",
        "    contrast=0.0, saturation=0.0,hue=0.0,always_apply=True, p=1.0)\n",
        "  self._draw_image_album(df,aug_album,bsize)\n",
        "  return"
      ],
      "metadata": {
        "id": "FyBKfRMuVlQ4",
        "colab": {
          "base_uri": "https://localhost:8080/"
        },
        "outputId": "b935638d-1267-4e85-c9f6-f4edda415144"
      },
      "execution_count": 19,
      "outputs": [
        {
          "output_type": "stream",
          "name": "stdout",
          "text": [
            "Appending to Data-Augmentation-with-Python/pluto/pluto_chapter_3.py\n"
          ]
        }
      ]
    },
    {
      "cell_type": "code",
      "source": [
        "pluto.draw_image_brightness(pluto.df_people, brightness = 1.7)"
      ],
      "metadata": {
        "id": "xAJVZ4BgVlUr"
      },
      "execution_count": null,
      "outputs": []
    },
    {
      "cell_type": "code",
      "source": [
        "pluto.draw_image_brightness(pluto.df_food, brightness=0.3)"
      ],
      "metadata": {
        "id": "tMq1aq2EVtLj"
      },
      "execution_count": null,
      "outputs": []
    },
    {
      "cell_type": "markdown",
      "source": [
        "## Grayscale\n"
      ],
      "metadata": {
        "id": "8XBjKWlDAIFq"
      }
    },
    {
      "cell_type": "code",
      "source": [
        "# %%writefile -a {pluto_chapter_3}\n",
        "\n",
        "# prompt: write detail documentation for the following function: draw_image_grayscale\n",
        "@add_method(PacktDataAug)\n",
        "def draw_image_grayscale(self,df,bsize=5):\n",
        "\n",
        "  \"\"\"\n",
        "  Draw an image and its grayscale versions using albumentations to do image transformation\n",
        "  and display it in batch.\n",
        "\n",
        "  Args:\n",
        "    df (pandas.DataFrame): input dataframe.\n",
        "    bsize (int, optional): batch size. Defaults to 5.\n",
        "\n",
        "  Returns:\n",
        "    None\n",
        "  \"\"\"\n",
        "\n",
        "  aug_album = albumentations.ToGray(p=1.0)\n",
        "  self._draw_image_album(df,aug_album,bsize)\n",
        "  return"
      ],
      "metadata": {
        "id": "RcBF26T5LXrY",
        "colab": {
          "base_uri": "https://localhost:8080/"
        },
        "outputId": "34ba39e3-bb9e-4cad-cc7b-1baa8c9a6d71"
      },
      "execution_count": 20,
      "outputs": [
        {
          "output_type": "stream",
          "name": "stdout",
          "text": [
            "Appending to Data-Augmentation-with-Python/pluto/pluto_chapter_3.py\n"
          ]
        }
      ]
    },
    {
      "cell_type": "code",
      "source": [
        "pluto.draw_image_grayscale(pluto.df_fungi)"
      ],
      "metadata": {
        "id": "VpFb7Mu-Pkg3"
      },
      "execution_count": null,
      "outputs": []
    },
    {
      "cell_type": "code",
      "source": [
        "pluto.draw_image_grayscale(pluto.df_crowd)"
      ],
      "metadata": {
        "id": "qVVTb7QAQpYi"
      },
      "execution_count": null,
      "outputs": []
    },
    {
      "cell_type": "markdown",
      "source": [
        "## Contrast"
      ],
      "metadata": {
        "id": "DCBhy4zOd-60"
      }
    },
    {
      "cell_type": "code",
      "source": [
        "# %%writefile -a {pluto_chapter_3}\n",
        "\n",
        "# prompt: write detail documentation for the following function: draw_image_contrast\n",
        "@add_method(PacktDataAug)\n",
        "def draw_image_contrast(self,df,contrast=0.2,bsize=5):\n",
        "\n",
        "  \"\"\"\n",
        "  Draw an image and its contrast augmented versions using albumentations to do image transformation\n",
        "  and display it in batch.\n",
        "\n",
        "  Args:\n",
        "    df (pandas.DataFrame): input dataframe.\n",
        "    contrast (float, optional): contrast multiplier. Defaults to 0.2.\n",
        "    bsize (int, optional): batch size. Defaults to 5.\n",
        "\n",
        "  Returns:\n",
        "    None\n",
        "  \"\"\"\n",
        "\n",
        "  aug_album = albumentations.ColorJitter(brightness=0.0,\n",
        "    contrast=contrast, saturation=0.0,hue=0.0,always_apply=True, p=1.0)\n",
        "  self._draw_image_album(df,aug_album,bsize)\n",
        "  return"
      ],
      "metadata": {
        "id": "GGoJeACLiDlJ",
        "colab": {
          "base_uri": "https://localhost:8080/"
        },
        "outputId": "fee6b421-6d00-4cd6-b1d8-f77e2c3ccfd4"
      },
      "execution_count": 21,
      "outputs": [
        {
          "output_type": "stream",
          "name": "stdout",
          "text": [
            "Appending to Data-Augmentation-with-Python/pluto/pluto_chapter_3.py\n"
          ]
        }
      ]
    },
    {
      "cell_type": "code",
      "source": [
        "pluto.draw_image_contrast(pluto.df_sea_animal,contrast=8.5,bsize=2)"
      ],
      "metadata": {
        "id": "nHnvM8GMiDoZ"
      },
      "execution_count": null,
      "outputs": []
    },
    {
      "cell_type": "code",
      "source": [
        "pluto.draw_image_contrast(pluto.df_people,contrast=0.3,bsize=2)"
      ],
      "metadata": {
        "id": "dBKqQwMKiDrd"
      },
      "execution_count": null,
      "outputs": []
    },
    {
      "cell_type": "markdown",
      "source": [
        "## saturation"
      ],
      "metadata": {
        "id": "W2aD1YO4fqr3"
      }
    },
    {
      "cell_type": "code",
      "source": [
        "# %%writefile -a {pluto_chapter_3}\n",
        "\n",
        "# prompt: write detail documentation for the following function: draw_image_saturation\n",
        "@add_method(PacktDataAug)\n",
        "def draw_image_saturation(self,df,saturation=0.2,bsize=5):\n",
        "\n",
        "  \"\"\"\n",
        "  Draw an image and its saturation augmented versions using albumentations to do image transformation\n",
        "  and display it in batch.\n",
        "\n",
        "  Args:\n",
        "    df (pandas.DataFrame): input dataframe.\n",
        "    saturation (float, optional): saturation multiplier. Defaults to 0.2.\n",
        "    bsize (int, optional): batch size. Defaults to 5.\n",
        "\n",
        "  Returns:\n",
        "    None\n",
        "  \"\"\"\n",
        "\n",
        "  aug_album = albumentations.ColorJitter(brightness=0.0,\n",
        "    contrast=0.0, saturation=saturation,hue=0.0,always_apply=True, p=1.0)\n",
        "  self._draw_image_album(df,aug_album,bsize)\n",
        "  return"
      ],
      "metadata": {
        "id": "m5O0EbR7iDud",
        "colab": {
          "base_uri": "https://localhost:8080/"
        },
        "outputId": "65eaf498-74eb-458e-97e6-5fca6b892f97"
      },
      "execution_count": 22,
      "outputs": [
        {
          "output_type": "stream",
          "name": "stdout",
          "text": [
            "Appending to Data-Augmentation-with-Python/pluto/pluto_chapter_3.py\n"
          ]
        }
      ]
    },
    {
      "cell_type": "code",
      "source": [
        "pluto.draw_image_saturation(pluto.df_food, saturation=10.5)"
      ],
      "metadata": {
        "id": "S7is-xzEiDxk"
      },
      "execution_count": null,
      "outputs": []
    },
    {
      "cell_type": "code",
      "source": [
        "pluto.draw_image_saturation(pluto.df_fungi, saturation=2.5)"
      ],
      "metadata": {
        "id": "ShUHQZdziD0T"
      },
      "execution_count": null,
      "outputs": []
    },
    {
      "cell_type": "markdown",
      "source": [
        "## Hue"
      ],
      "metadata": {
        "id": "D7C59kWVhip9"
      }
    },
    {
      "cell_type": "code",
      "source": [
        "# %%writefile -a {pluto_chapter_3}\n",
        "\n",
        "# prompt: write detail documentation for the following function: draw_image_hue\n",
        "@add_method(PacktDataAug)\n",
        "def draw_image_hue(self,df,hue=0.2,bsize=5):\n",
        "\n",
        "  \"\"\"\n",
        "  Draw an image and its hue augmented versions using albumentations to do image transformation\n",
        "  and display it in batch.\n",
        "\n",
        "  Args:\n",
        "    df (pandas.DataFrame): input dataframe.\n",
        "    hue (float, optional): hue multiplier. Defaults to 0.2.\n",
        "    bsize (int, optional): batch size. Defaults to 5.\n",
        "\n",
        "  Returns:\n",
        "    None\n",
        "  \"\"\"\n",
        "\n",
        "  aug_album = albumentations.ColorJitter(brightness=0.0,\n",
        "    contrast=0.0, saturation=0.0,hue=hue,always_apply=True, p=1.0)\n",
        "  self._draw_image_album(df,aug_album,bsize)\n",
        "  return"
      ],
      "metadata": {
        "id": "1boFb8FWiD3c",
        "colab": {
          "base_uri": "https://localhost:8080/"
        },
        "outputId": "f221ec1b-cacd-4c72-ce33-0a37eeafd836"
      },
      "execution_count": 23,
      "outputs": [
        {
          "output_type": "stream",
          "name": "stdout",
          "text": [
            "Appending to Data-Augmentation-with-Python/pluto/pluto_chapter_3.py\n"
          ]
        }
      ]
    },
    {
      "cell_type": "code",
      "source": [
        "pluto.draw_image_hue(pluto.df_people,hue=0.5)"
      ],
      "metadata": {
        "id": "HtOgLT2phygc"
      },
      "execution_count": null,
      "outputs": []
    },
    {
      "cell_type": "code",
      "source": [
        "pluto.draw_image_hue(pluto.df_crowd,hue=0.2)"
      ],
      "metadata": {
        "id": "o1nWuP_rhyjr"
      },
      "execution_count": null,
      "outputs": []
    },
    {
      "cell_type": "markdown",
      "source": [
        "## Noise"
      ],
      "metadata": {
        "id": "XpiwarVji28q"
      }
    },
    {
      "cell_type": "code",
      "source": [
        "# %%writefile -a {pluto_chapter_3}\n",
        "\n",
        "# prompt: write detail documentation for the following function: draw_image_noise\n",
        "@add_method(PacktDataAug)\n",
        "def draw_image_noise(self,df,var_limit=(10.0, 50.0),bsize=5):\n",
        "\n",
        "  \"\"\"\n",
        "  Draw an image and its noise augmented versions using albumentations to do image transformation\n",
        "  and display it in batch.\n",
        "\n",
        "  Args:\n",
        "    df (pandas.DataFrame): input dataframe.\n",
        "    var_limit (tuple, optional): noise variance range. Defaults to (10.0, 50.0).\n",
        "    bsize (int, optional): batch size. Defaults to 5.\n",
        "\n",
        "  Returns:\n",
        "    None\n",
        "  \"\"\"\n",
        "\n",
        "  aug_album = albumentations.GaussNoise(var_limit=var_limit,\n",
        "    always_apply=True, p=1.0)\n",
        "  self._draw_image_album(df,aug_album,bsize)\n",
        "  return"
      ],
      "metadata": {
        "id": "U9Zk6sDBi1O0",
        "colab": {
          "base_uri": "https://localhost:8080/"
        },
        "outputId": "fa45155b-e3df-4ca2-f176-990f58538d50"
      },
      "execution_count": 24,
      "outputs": [
        {
          "output_type": "stream",
          "name": "stdout",
          "text": [
            "Appending to Data-Augmentation-with-Python/pluto/pluto_chapter_3.py\n"
          ]
        }
      ]
    },
    {
      "cell_type": "code",
      "source": [
        "pluto.draw_image_noise(pluto.df_fungi,var_limit=(20000.0, 30000.0))"
      ],
      "metadata": {
        "id": "GTboZ6eyhym4"
      },
      "execution_count": null,
      "outputs": []
    },
    {
      "cell_type": "code",
      "source": [
        "pluto.draw_image_noise(pluto.df_fungi,var_limit=(10000.0, 20000.0),bsize=2)"
      ],
      "metadata": {
        "id": "YoAqmXZutiNd"
      },
      "execution_count": null,
      "outputs": []
    },
    {
      "cell_type": "code",
      "source": [
        "pluto.draw_image_noise(pluto.df_crowd,var_limit=(200.0, 400.0),bsize=2)"
      ],
      "metadata": {
        "id": "kLmcYh1Rhyp5"
      },
      "execution_count": null,
      "outputs": []
    },
    {
      "cell_type": "markdown",
      "source": [
        "## Snow (not cover in the book)"
      ],
      "metadata": {
        "id": "Bgx5i1gplu6I"
      }
    },
    {
      "cell_type": "code",
      "source": [
        "# # %%writefile -a {pluto_chapter_3}\n",
        "\n",
        "# @add_method(PacktDataAug)\n",
        "# def draw_image_snow(self,df,snow_point_lower=0.1,snow_point_upper=0.3,bsize=2,brightness_coeff=2.5):\n",
        "#   aug_album = albumentations.RandomSnow(snow_point_lower=snow_point_lower,\n",
        "#     snow_point_upper = snow_point_upper, always_apply=True, p=1.0,brightness_coeff=brightness_coeff)\n",
        "#   self._draw_image_album(df,aug_album,bsize)\n",
        "#   return"
      ],
      "metadata": {
        "id": "QUGZ9aOalvQX"
      },
      "execution_count": null,
      "outputs": []
    },
    {
      "cell_type": "code",
      "source": [
        "# pluto.draw_image_snow(pluto.df_people)"
      ],
      "metadata": {
        "id": "p2uCSrI5lvTy"
      },
      "execution_count": null,
      "outputs": []
    },
    {
      "cell_type": "code",
      "source": [
        "# pluto.draw_image_snow(pluto.df_fungi,snow_point_lower=0.01, snow_point_upper=0.1)"
      ],
      "metadata": {
        "id": "CJWZ57aSlvXn"
      },
      "execution_count": null,
      "outputs": []
    },
    {
      "cell_type": "markdown",
      "source": [
        "## Sunflare"
      ],
      "metadata": {
        "id": "90mU8d0trdg4"
      }
    },
    {
      "cell_type": "code",
      "source": [
        "# %%writefile -a {pluto_chapter_3}\n",
        "\n",
        "# prompt: write detail documentation for the following function: draw_image_sunflare\n",
        "@add_method(PacktDataAug)\n",
        "def draw_image_sunflare(self,df,flare_roi=(0, 0, 1, 0.5),src_radius=400,bsize=2):\n",
        "\n",
        "  \"\"\"\n",
        "  Draw an image and its sunflare augmented versions using albumentations to do image transformation\n",
        "  and display it in batch.\n",
        "\n",
        "  Args:\n",
        "    df (pandas.DataFrame): input dataframe.\n",
        "    flare_roi (tuple, optional): sunflare region of interest. Defaults to (0, 0, 1, 0.5).\n",
        "    src_radius (int, optional): sunflare source radius. Defaults to 400.\n",
        "    bsize (int, optional): batch size. Defaults to 2.\n",
        "\n",
        "  Returns:\n",
        "    None\n",
        "  \"\"\"\n",
        "\n",
        "  aug_album = albumentations.RandomSunFlare(flare_roi=flare_roi,\n",
        "    src_radius=src_radius, always_apply=True, p=1.0)\n",
        "  self._draw_image_album(df,aug_album,bsize)\n",
        "  return"
      ],
      "metadata": {
        "id": "hVvhwK8FrY-y",
        "colab": {
          "base_uri": "https://localhost:8080/"
        },
        "outputId": "145df037-de5e-463e-9a77-0cfac3b4392e"
      },
      "execution_count": 25,
      "outputs": [
        {
          "output_type": "stream",
          "name": "stdout",
          "text": [
            "Appending to Data-Augmentation-with-Python/pluto/pluto_chapter_3.py\n"
          ]
        }
      ]
    },
    {
      "cell_type": "code",
      "source": [
        "pluto.draw_image_sunflare(pluto.df_people, flare_roi=(0, 0, 1, 0.5),src_radius=400,bsize=2)"
      ],
      "metadata": {
        "id": "uBybJE-vlvbQ"
      },
      "execution_count": null,
      "outputs": []
    },
    {
      "cell_type": "code",
      "source": [
        "pluto.draw_image_sunflare(pluto.df_people, src_radius=200)"
      ],
      "metadata": {
        "id": "1mEOjGolhytN"
      },
      "execution_count": null,
      "outputs": []
    },
    {
      "cell_type": "code",
      "source": [
        "pluto.draw_image_sunflare(pluto.df_fungi, src_radius=200)"
      ],
      "metadata": {
        "id": "8bX4UICahywT"
      },
      "execution_count": null,
      "outputs": []
    },
    {
      "cell_type": "code",
      "source": [
        "pluto.draw_image_sunflare(pluto.df_fungi, src_radius=120)"
      ],
      "metadata": {
        "id": "4CkXrjukhyzj"
      },
      "execution_count": null,
      "outputs": []
    },
    {
      "cell_type": "code",
      "source": [
        "pluto.draw_image_sunflare(pluto.df_fungi, src_radius=120)"
      ],
      "metadata": {
        "id": "DIyagqiuhy2u"
      },
      "execution_count": null,
      "outputs": []
    },
    {
      "cell_type": "markdown",
      "source": [
        "## Rain"
      ],
      "metadata": {
        "id": "lcp7CgFXv-Py"
      }
    },
    {
      "cell_type": "code",
      "source": [
        "# %%writefile -a {pluto_chapter_3}\n",
        "\n",
        "# prompt: write detail documentation for the following function: draw_image_rain()\n",
        "@add_method(PacktDataAug)\n",
        "def draw_image_rain(self,df,drop_length=20, drop_width=1,blur_value=1,bsize=2):\n",
        "\n",
        "  \"\"\"\n",
        "  Draw an image and its rain augmented versions using albumentations to do image transformation\n",
        "  and display it in batch.\n",
        "\n",
        "  Args:\n",
        "    df (pandas.DataFrame): input dataframe.\n",
        "    drop_length (int, optional): drop length. Defaults to 20.\n",
        "    drop_width (int, optional): drop width. Defaults to 1.\n",
        "    blur_value (int, optional): blur value. Defaults to 1.\n",
        "    bsize (int, optional): batch size. Defaults to 2.\n",
        "\n",
        "  Returns:\n",
        "    None\n",
        "  \"\"\"\n",
        "\n",
        "  aug_album = albumentations.RandomRain(drop_length=drop_length, drop_width=drop_width,\n",
        "    blur_value=blur_value,always_apply=True, p=1.0)\n",
        "  self._draw_image_album(df,aug_album,bsize)\n",
        "  return"
      ],
      "metadata": {
        "id": "meprB6iXv9cS",
        "colab": {
          "base_uri": "https://localhost:8080/"
        },
        "outputId": "7ec7db0c-174c-493f-817f-5edbc8db01ef"
      },
      "execution_count": 26,
      "outputs": [
        {
          "output_type": "stream",
          "name": "stdout",
          "text": [
            "Appending to Data-Augmentation-with-Python/pluto/pluto_chapter_3.py\n"
          ]
        }
      ]
    },
    {
      "cell_type": "code",
      "source": [
        "pluto.draw_image_rain(pluto.df_people, drop_length=20, drop_width=1,blur_value=1)"
      ],
      "metadata": {
        "id": "4ezxTK4Ehy5Q"
      },
      "execution_count": null,
      "outputs": []
    },
    {
      "cell_type": "code",
      "source": [
        "pluto.draw_image_rain(pluto.df_fungi,drop_length=5)"
      ],
      "metadata": {
        "id": "9ldeE8t6hy9G"
      },
      "execution_count": null,
      "outputs": []
    },
    {
      "cell_type": "markdown",
      "source": [
        "## Sepia"
      ],
      "metadata": {
        "id": "Dd-5Q3jJyqkb"
      }
    },
    {
      "cell_type": "code",
      "source": [
        "# %%writefile -a {pluto_chapter_3}\n",
        "\n",
        "# prompt: write detail documentation for the following function: draw_image_sepia\n",
        "@add_method(PacktDataAug)\n",
        "def draw_image_sepia(self,df,bsize=5):\n",
        "\n",
        "  \"\"\"\n",
        "  Draw an image and its sepia augmented versions using albumentations to do image transformation\n",
        "  and display it in batch.\n",
        "\n",
        "  Args:\n",
        "    df (pandas.DataFrame): input dataframe.\n",
        "    bsize (int, optional): batch size. Defaults to 5.\n",
        "\n",
        "  Returns:\n",
        "    None\n",
        "  \"\"\"\n",
        "\n",
        "  aug_album = albumentations.ToSepia(always_apply=True, p=1.0)\n",
        "  self._draw_image_album(df,aug_album,bsize)\n",
        "  return"
      ],
      "metadata": {
        "id": "PAM5pBedyqxH",
        "colab": {
          "base_uri": "https://localhost:8080/"
        },
        "outputId": "158ed1a0-8d85-47b9-a28e-175fd22dd7ce"
      },
      "execution_count": 27,
      "outputs": [
        {
          "output_type": "stream",
          "name": "stdout",
          "text": [
            "Appending to Data-Augmentation-with-Python/pluto/pluto_chapter_3.py\n"
          ]
        }
      ]
    },
    {
      "cell_type": "code",
      "source": [
        "pluto.draw_image_sepia(pluto.df_people)"
      ],
      "metadata": {
        "id": "qKhdnEhoyq0Q"
      },
      "execution_count": null,
      "outputs": []
    },
    {
      "cell_type": "code",
      "source": [
        "pluto.draw_image_sepia(pluto.df_fungi)"
      ],
      "metadata": {
        "id": "mZXrDOEJyq4F"
      },
      "execution_count": null,
      "outputs": []
    },
    {
      "cell_type": "markdown",
      "source": [
        "## FancyPCA"
      ],
      "metadata": {
        "id": "kgZdYdzk0VqC"
      }
    },
    {
      "cell_type": "code",
      "source": [
        "# %%writefile -a {pluto_chapter_3}\n",
        "\n",
        "# prompt: write detail documentation for the following function: draw_image_fancyPCA\n",
        "@add_method(PacktDataAug)\n",
        "def draw_image_fancyPCA(self,df,alpha=0.1,bsize=5):\n",
        "\n",
        "  \"\"\"\n",
        "  Draw an image and its FancyPCA augmented versions using albumentations to do image transformation\n",
        "  and display it in batch.\n",
        "\n",
        "  Args:\n",
        "    df (pandas.DataFrame): input dataframe.\n",
        "    alpha (float, optional): alpha value. Defaults to 0.1.\n",
        "    bsize (int, optional): batch size. Defaults to 5.\n",
        "\n",
        "  Returns:\n",
        "    None\n",
        "  \"\"\"\n",
        "\n",
        "  aug_album = albumentations.FancyPCA(alpha=alpha, always_apply=True, p=1.0)\n",
        "  self._draw_image_album(df,aug_album,bsize)\n",
        "  return"
      ],
      "metadata": {
        "id": "4c-PqTZUyq79",
        "colab": {
          "base_uri": "https://localhost:8080/"
        },
        "outputId": "07aed43e-4f21-433a-c4d5-f7d2d0021fb8"
      },
      "execution_count": 28,
      "outputs": [
        {
          "output_type": "stream",
          "name": "stdout",
          "text": [
            "Appending to Data-Augmentation-with-Python/pluto/pluto_chapter_3.py\n"
          ]
        }
      ]
    },
    {
      "cell_type": "code",
      "source": [
        "pluto.draw_image_fancyPCA(pluto.df_people,alpha=5.0,bsize=2)"
      ],
      "metadata": {
        "id": "O1Go4Ge8yq-k"
      },
      "execution_count": null,
      "outputs": []
    },
    {
      "cell_type": "code",
      "source": [
        "pluto.draw_image_fancyPCA(pluto.df_food,alpha=0.5,bsize=2)"
      ],
      "metadata": {
        "id": "cnZN0JC40Ysi"
      },
      "execution_count": null,
      "outputs": []
    },
    {
      "cell_type": "markdown",
      "source": [
        "# Random Erasing"
      ],
      "metadata": {
        "id": "15uByYkn2LAX"
      }
    },
    {
      "cell_type": "code",
      "source": [
        "# %%writefile -a {pluto_chapter_3}\n",
        "\n",
        "# prompt: write detail documentation for the following function: draw_image_erasing\n",
        "@add_method(PacktDataAug)\n",
        "def draw_image_erasing(self,df,bsize=8,max_count=5):\n",
        "\n",
        "  \"\"\"\n",
        "  Draw an image and its erasing augmented versions using albumentations to do image transformation\n",
        "  and display it in batch.\n",
        "\n",
        "  Args:\n",
        "    df (pandas.DataFrame): input dataframe.\n",
        "    bsize (int, optional): batch size. Defaults to 8.\n",
        "    max_count (int, optional): maximum number of times to erase an image. Defaults to 5.\n",
        "\n",
        "  Returns:\n",
        "    None\n",
        "  \"\"\"\n",
        "\n",
        "  aug = [fastai.vision.augment.RandomErasing(p=1.0,max_count=max_count)]\n",
        "  itfms = fastai.vision.augment.Resize(480)\n",
        "  dsl_org = self._make_data_loader(df, aug,itfms)\n",
        "  dsl_org.show_batch(max_n=bsize)\n",
        "  return dsl_org"
      ],
      "metadata": {
        "id": "I5QNeR_P2LLd",
        "colab": {
          "base_uri": "https://localhost:8080/"
        },
        "outputId": "57019be0-3db5-4ea6-8e13-e45f43a840c5"
      },
      "execution_count": 29,
      "outputs": [
        {
          "output_type": "stream",
          "name": "stdout",
          "text": [
            "Appending to Data-Augmentation-with-Python/pluto/pluto_chapter_3.py\n"
          ]
        }
      ]
    },
    {
      "cell_type": "code",
      "source": [
        "pluto.dls_people = pluto.draw_image_erasing(pluto.df_people,bsize=6, max_count=5)"
      ],
      "metadata": {
        "id": "SUw9X3YO2LOm"
      },
      "execution_count": null,
      "outputs": []
    },
    {
      "cell_type": "code",
      "source": [
        "pluto.dls_food = pluto.draw_image_erasing(pluto.df_food,bsize=6,max_count=4)"
      ],
      "metadata": {
        "id": "V7FgEVbb0YwD"
      },
      "execution_count": null,
      "outputs": []
    },
    {
      "cell_type": "markdown",
      "source": [
        "# Combination"
      ],
      "metadata": {
        "id": "4OMdms3tO4V6"
      }
    },
    {
      "cell_type": "code",
      "source": [
        "#"
      ],
      "metadata": {
        "id": "4QRf0fXy0YzG"
      },
      "execution_count": null,
      "outputs": []
    },
    {
      "cell_type": "markdown",
      "source": [
        "## draw table"
      ],
      "metadata": {
        "id": "pTm8mMAkO-YJ"
      }
    },
    {
      "cell_type": "code",
      "source": [
        "# %%writefile -a {pluto_chapter_3}\n",
        "\n",
        "@add_method(PacktDataAug)\n",
        "def print_safe_parameters(self):\n",
        "\n",
        "  \"\"\"\n",
        "  Prints the safe parameters for the given data type.\n",
        "  The safe parameters are the parameters that are likely to produce good results and do not cause overfitting.\n",
        "  The function default dataset are following:\n",
        "\n",
        "    * `Covid-19`: This is the data type for the COVID-19 dataset.\n",
        "    * `People`: This is the data type for the People dataset.\n",
        "    * `Fungi`: This is the data type for the Fungi dataset.\n",
        "    * `Sea Animal`: This is the data type for the Sea Animal dataset.\n",
        "    * `Food`: This is the data type for the Food dataset.\n",
        "    * `Mall Crowd`: This is the data type for the Mall Crowd dataset.\n",
        "\n",
        "  The table has two columns: `Filter` and `Parameter`.\n",
        "  The `Filter` column lists the different filters that can be used,\n",
        "  and the `Parameter` column lists the safe parameters for each filter.\n",
        "\n",
        "  For example, the following is a sample table that is printed by the function for the `Covid-19` data type:\n",
        "\n",
        "    | Filter              | Parameter |\n",
        "    |---------------------|-----------|\n",
        "    | Horizontal Flip     | Yes |\n",
        "    | Vertical Flip       | Yes |\n",
        "    | Croping and Padding | pad=border |\n",
        "    | Rotation            | max_rotate=25.0 |\n",
        "    | Warping             | magnitude=0.3 |\n",
        "    | Lighting            | brightness=0.2 |\n",
        "    | Grayscale           | Yes |\n",
        "    | Contrast            | contrast=0.1 |\n",
        "    | Saturation          | saturation=3.5 |\n",
        "    | Hue Shifting        | hue=0.15 |\n",
        "    | Noise Injection     | limit=(100.0, 300.0) |\n",
        "    | Sun Flare           | NA |\n",
        "    | Rain                | NA |\n",
        "    | Sepia               | Yes |\n",
        "    | FancyPCA            | alpha=0.5 |\n",
        "    | Random Erasing      | max_count=3 |\n",
        "\n",
        "  \"\"\"\n",
        "  data = [['Horizontal Flip','NA','Yes','Yes','Yes','Yes','Yes',],\n",
        "    ['Vertical Flip','NA','NA','NA','Yes','Yes','NA',],\n",
        "    ['Croping and Padding','NA','pad=border','pad=border','pad=reflection','pad=reflection','pad=zeros',],\n",
        "    ['Rotation','NA','max_rotate=25.0','max_rotate=25.0','max_rotate=180.0','max_rotate=180.0','max_rotate=16.0',],\n",
        "    ['Warping','NA','magnitude=0.3','magnitude=0.3','magnitude=0.4','magnitude=0.4','magnitude=0.3',],\n",
        "    ['Lighting','brightness=0.2','brightness=0.3','brightness=0.3','brightness=0.4','brightness=0.4','brightness=0.3',],\n",
        "    ['Grayscale','NA','NA','NA','NA','NA','Yes',],\n",
        "    ['Contrast','contrast=0.1','contrast=0.3','contrast=0.3','contrast=0.3','contrast=0.4','contrast=0.4',],\n",
        "    ['Saturation','NA','saturation=3.5','saturation=2.0','saturation=3.0','saturation=3.0','saturation=2.5',],\n",
        "    ['Hue Shifting','NA','NA','NA','hue=0.15','hue=0.2','hue=0.2',],\n",
        "    ['Noise Injection','limit=(100.0, 300.0)','limit=(300.0, 500.0)','limit=(200.0, 400.0)','limit=(200.0, 400.0)','limit=(300.0, 400.0)','limit=(300.0, 500.0)',],\n",
        "    ['Sun Flare','NA','NA','radius=200','NA','NA','NA',],\n",
        "    ['Rain','NA','NA','length=20','NA','NA','NA',],\n",
        "    ['Sepia','NA','Yes','NA','NA','NA','NA',],\n",
        "    ['FancyPCA','NA','alpha=0.5','alpha=0.5','alpha=0.5','alpha=0.5','NA',],\n",
        "    ['Random Erasing','NA','max_count=3','max_count=3','max_count=4','max_count=4','NA',]]\n",
        "  # Create the pandas DataFrame\n",
        "  df = pandas.DataFrame(data, columns=['Filter','Covid-19', 'People', 'Fungi', 'Sea Animal', 'Food', 'Mall Crowd'])\n",
        "  #\n",
        "  display(df[['Filter','Covid-19', 'People', 'Fungi']].style.set_table_styles(self._fetch_larger_font()))\n",
        "  display(df[['Filter','Sea Animal', 'Food', 'Mall Crowd']].style.set_table_styles(self._fetch_larger_font()))\n",
        "  return"
      ],
      "metadata": {
        "id": "Rr_qx52jPJ83",
        "colab": {
          "base_uri": "https://localhost:8080/"
        },
        "outputId": "1e405fd6-2f32-4fd2-c87d-a30e9cdcb5e9"
      },
      "execution_count": 30,
      "outputs": [
        {
          "output_type": "stream",
          "name": "stdout",
          "text": [
            "Appending to Data-Augmentation-with-Python/pluto/pluto_chapter_3.py\n"
          ]
        }
      ]
    },
    {
      "cell_type": "code",
      "source": [
        "pluto.print_safe_parameters()"
      ],
      "metadata": {
        "id": "W8t4oN04PKAQ"
      },
      "execution_count": null,
      "outputs": []
    },
    {
      "cell_type": "markdown",
      "source": [
        "## draw augment covid-19"
      ],
      "metadata": {
        "id": "6wTmkF7Slmzf"
      }
    },
    {
      "cell_type": "code",
      "source": [
        "# %%writefile -a {pluto_chapter_3}\n",
        "\n",
        "# prompt: write detail documentation for the following class: AlbumentationsTransform\n",
        "class AlbumentationsTransform(DisplayedTransform):\n",
        "  \"\"\"\n",
        "  This class is used to apply albumentations to the images.\n",
        "\n",
        "  Args:\n",
        "    train_aug (object): This is an object of albumentations that contains the image augmentations.\n",
        "\n",
        "  Attributes:\n",
        "    split_idx (int): This is the index of the dataset split.\n",
        "    order (int): This is the order of the transform in the data augmentation pipeline.\n",
        "\n",
        "  \"\"\"\n",
        "\n",
        "  split_idx, order = 0, 2\n",
        "\n",
        "  def __init__(self, train_aug):\n",
        "    \"\"\"\n",
        "    Initialize the class.\n",
        "\n",
        "    Args:\n",
        "      train_aug (object): This is an object of albumentations that contains the image augmentations.\n",
        "\n",
        "    Returns:\n",
        "      None.\n",
        "\n",
        "    \"\"\"\n",
        "\n",
        "    store_attr()\n",
        "    return\n",
        "\n",
        "  def encodes(self, img: fastai.vision.core.PILImage):\n",
        "    \"\"\"\n",
        "    Encodes the image.\n",
        "\n",
        "    Args:\n",
        "      img (object): This is the input image.\n",
        "\n",
        "    Returns:\n",
        "      The encoded image.\n",
        "\n",
        "    \"\"\"\n",
        "\n",
        "    aug_img = self.train_aug(image=numpy.array(img))['image']\n",
        "    return fastai.vision.core.PILImage.create(aug_img)"
      ],
      "metadata": {
        "id": "w8ykI6QJp4_4",
        "colab": {
          "base_uri": "https://localhost:8080/"
        },
        "outputId": "2c0a0b68-c31f-4cb9-c1da-145b9f398d7c"
      },
      "execution_count": 31,
      "outputs": [
        {
          "output_type": "stream",
          "name": "stdout",
          "text": [
            "Appending to Data-Augmentation-with-Python/pluto/pluto_chapter_3.py\n"
          ]
        }
      ]
    },
    {
      "cell_type": "code",
      "source": [
        "# %%writefile -a {pluto_chapter_3}\n",
        "\n",
        "# prompt: write detail documentation for the following function: _fetch_alumn_covid19()\n",
        "@add_method(PacktDataAug)\n",
        "def _fetch_album_covid19(self):\n",
        "\n",
        "  \"\"\"\n",
        "  This function is used to fetch the albumentation for the COVID-19 dataset.\n",
        "\n",
        "  Args:\n",
        "    None\n",
        "\n",
        "  Returns:\n",
        "    This function returns an albumentation object for the COVID-19 dataset.\n",
        "\n",
        "  \"\"\"\n",
        "\n",
        "  return albumentations.Compose([\n",
        "  albumentations.GaussNoise(var_limit=(100.0, 300.0), p=0.5)\n",
        "  ])\n",
        "#\n",
        "\n",
        "# prompt: write detail documentation for the following function: draw_augment_covid19()\n",
        "@add_method(PacktDataAug)\n",
        "def draw_augment_covid19(self,df,bsize=15):\n",
        "\n",
        "  \"\"\"\n",
        "  This function is used to draw the data loader for the COVID-19 dataset.\n",
        "\n",
        "  Args:\n",
        "    df (pandas.DataFrame): This is a pandas DataFrame that contains the data for the COVID-19 dataset.\n",
        "    bsize (int): This is the batch size for the data loader. Default is 15.\n",
        "\n",
        "  Returns:\n",
        "    fastai.data.DataLoader: returns a data loader for the COVID-19 dataset.\n",
        "  \"\"\"\n",
        "\n",
        "  aug = [\n",
        "    fastai.vision.augment.Brightness(max_lighting=0.3,p=0.5),\n",
        "    fastai.vision.augment.Contrast(max_lighting=0.4, p=0.5),\n",
        "    AlbumentationsTransform(self._fetch_album_covid19())\n",
        "    ]\n",
        "  itfms = fastai.vision.augment.Resize(480)\n",
        "  dsl_org = self._make_data_loader(df, aug,itfms)\n",
        "  dsl_org.show_batch(max_n=bsize)\n",
        "  return dsl_org"
      ],
      "metadata": {
        "id": "tXPcdNSJPKGz",
        "colab": {
          "base_uri": "https://localhost:8080/"
        },
        "outputId": "53bb9206-3054-43c1-f327-309df93f584d"
      },
      "execution_count": 32,
      "outputs": [
        {
          "output_type": "stream",
          "name": "stdout",
          "text": [
            "Appending to Data-Augmentation-with-Python/pluto/pluto_chapter_3.py\n"
          ]
        }
      ]
    },
    {
      "cell_type": "code",
      "source": [
        "pluto.dls_covid19 = pluto.draw_augment_covid19(pluto.df_covid19)"
      ],
      "metadata": {
        "id": "z3x0cf9aPKKD"
      },
      "execution_count": null,
      "outputs": []
    },
    {
      "cell_type": "markdown",
      "source": [
        "## Draw augment People"
      ],
      "metadata": {
        "id": "45nZ61SzeRZ6"
      }
    },
    {
      "cell_type": "code",
      "source": [
        "# %%writefile -a {pluto_chapter_3}\n",
        "\n",
        "# prompt: write detail documentation for the following function: _fetch_album_people()\n",
        "@add_method(PacktDataAug)\n",
        "def _fetch_album_people(self):\n",
        "\n",
        "  \"\"\"\n",
        "  This function is used to fetch the albumentation for the People dataset.\n",
        "\n",
        "  Args:\n",
        "    None\n",
        "\n",
        "  Returns:\n",
        "    This function returns an albumentation objects for the People dataset.\n",
        "\n",
        "  \"\"\"\n",
        "\n",
        "  return albumentations.Compose([\n",
        "  albumentations.ColorJitter(brightness=0.3, contrast=0.4, saturation=3.5,hue=0.0, p=0.5),\n",
        "  albumentations.ToSepia(p=0.5),\n",
        "  albumentations.FancyPCA(alpha=0.5, p=0.5),\n",
        "  albumentations.GaussNoise(var_limit=(300.0, 500.0), p=0.5)\n",
        "  ])\n",
        "#\n",
        "@add_method(PacktDataAug)\n",
        "def draw_augment_people(self,df,bsize=15):\n",
        "\n",
        "  \"\"\"\n",
        "  This function is used to draw the data loader for the People dataset.\n",
        "\n",
        "  Args:\n",
        "    df (pandas.DataFrame): This is a pandas DataFrame that contains the data for the People dataset.\n",
        "    bsize (int): This is the batch size for the data loader. Default is 15.\n",
        "\n",
        "  Returns:\n",
        "    fastai.data.DataLoader: returns a data loader for the People dataset.\n",
        "  \"\"\"\n",
        "\n",
        "  aug = [\n",
        "    fastai.vision.augment.Flip(p=0.5),\n",
        "    fastai.vision.augment.Rotate(25.0,p=0.5,pad_mode='border'),\n",
        "    fastai.vision.augment.Warp(magnitude=0.3, pad_mode='border',p=0.5),\n",
        "    fastai.vision.augment.RandomErasing(p=0.5,max_count=2),\n",
        "    AlbumentationsTransform(self._fetch_album_people())\n",
        "    ]\n",
        "  itfms = fastai.vision.augment.Resize(480)\n",
        "  dsl_org = self._make_data_loader(df, aug,itfms)\n",
        "  dsl_org.show_batch(max_n=bsize)\n",
        "  return dsl_org"
      ],
      "metadata": {
        "id": "nTjOGn50PKNB",
        "colab": {
          "base_uri": "https://localhost:8080/"
        },
        "outputId": "45ab14ad-566c-42b9-b870-862333c53248"
      },
      "execution_count": 33,
      "outputs": [
        {
          "output_type": "stream",
          "name": "stdout",
          "text": [
            "Appending to Data-Augmentation-with-Python/pluto/pluto_chapter_3.py\n"
          ]
        }
      ]
    },
    {
      "cell_type": "code",
      "source": [
        "pluto.dls_people = pluto.draw_augment_people(pluto.df_people)"
      ],
      "metadata": {
        "id": "jE8saIhsPKQM"
      },
      "execution_count": null,
      "outputs": []
    },
    {
      "cell_type": "markdown",
      "source": [
        "## draw augment fungi"
      ],
      "metadata": {
        "id": "I0hBZVpGjLVg"
      }
    },
    {
      "cell_type": "code",
      "source": [
        "# %%writefile -a {pluto_chapter_3}\n",
        "\n",
        "@add_method(PacktDataAug)\n",
        "def _fetch_album_fungi(self):\n",
        "\n",
        "  \"\"\"\n",
        "  This function is used to fetch the albumentation for the Fungi dataset.\n",
        "\n",
        "  Args:\n",
        "    None\n",
        "\n",
        "  Returns:\n",
        "    This function returns an albumentation objects for the Fungi dataset.\n",
        "  \"\"\"\n",
        "\n",
        "  return albumentations.Compose([\n",
        "  albumentations.ColorJitter(brightness=0.3, contrast=0.4, saturation=2.0,hue=0.0, p=0.5),\n",
        "  albumentations.FancyPCA(alpha=0.5, p=0.5),\n",
        "  albumentations.RandomSunFlare(flare_roi=(0, 0, 1, 0.5),src_radius=200, always_apply=True, p=0.5),\n",
        "  albumentations.RandomRain(drop_length=20, drop_width=1.1,blur_value=1.1,always_apply=True, p=0.5),\n",
        "  albumentations.GaussNoise(var_limit=(200.0, 400.0), p=0.5)\n",
        "  ])\n",
        "#\n",
        "@add_method(PacktDataAug)\n",
        "def draw_augment_fungi(self,df,bsize=15):\n",
        "\n",
        "  \"\"\"\n",
        "  This function is used to draw the data loader for the Fungi dataset.\n",
        "\n",
        "  Args:\n",
        "    df (pandas.DataFrame): This is a pandas DataFrame that contains the data for the Fungi dataset.\n",
        "    bsize (int): This is the batch size for the data loader. Default is 15.\n",
        "\n",
        "  Returns:\n",
        "    fastai.data.DataLoader: returns a data loader for the Fungi dataset.\n",
        "  \"\"\"\n",
        "\n",
        "  aug = [\n",
        "    fastai.vision.augment.Flip(p=0.5),\n",
        "    fastai.vision.augment.Rotate(25.0,p=0.5,pad_mode='border'),\n",
        "    fastai.vision.augment.Warp(magnitude=0.3, pad_mode='border',p=0.5),\n",
        "    fastai.vision.augment.RandomErasing(p=0.5,max_count=2),\n",
        "    AlbumentationsTransform(self._fetch_album_fungi())\n",
        "    ]\n",
        "  itfms = fastai.vision.augment.Resize(480)\n",
        "  dsl_org = self._make_data_loader(df, aug,itfms)\n",
        "  dsl_org.show_batch(max_n=bsize)\n",
        "  return dsl_org"
      ],
      "metadata": {
        "id": "5I1RV8eFjLoZ",
        "colab": {
          "base_uri": "https://localhost:8080/"
        },
        "outputId": "55f165a5-5845-4547-b378-adea8b8add33"
      },
      "execution_count": 34,
      "outputs": [
        {
          "output_type": "stream",
          "name": "stdout",
          "text": [
            "Appending to Data-Augmentation-with-Python/pluto/pluto_chapter_3.py\n"
          ]
        }
      ]
    },
    {
      "cell_type": "code",
      "source": [
        "pluto.dls_fungi = pluto.draw_augment_fungi(pluto.df_fungi)"
      ],
      "metadata": {
        "id": "c724mKaZjLr3"
      },
      "execution_count": null,
      "outputs": []
    },
    {
      "cell_type": "markdown",
      "source": [
        "## draw augment sea animal"
      ],
      "metadata": {
        "id": "p1fWrT7AmTo5"
      }
    },
    {
      "cell_type": "code",
      "source": [
        "# %%writefile -a {pluto_chapter_3}\n",
        "\n",
        "@add_method(PacktDataAug)\n",
        "def _fetch_album_sea_animal(self):\n",
        "\n",
        "  \"\"\"\n",
        "  This function is used to fetch the albumentation for the Sea Animal dataset.\n",
        "\n",
        "  Args:\n",
        "    None\n",
        "\n",
        "  Returns:\n",
        "    This function returns an albumentation objects for the Sea Animal dataset.\n",
        "  \"\"\"\n",
        "\n",
        "  return albumentations.Compose([\n",
        "  albumentations.ColorJitter(brightness=0.4, contrast=0.4, saturation=2.0,hue=1.5, p=0.5),\n",
        "  albumentations.FancyPCA(alpha=0.5, p=0.5),\n",
        "  albumentations.GaussNoise(var_limit=(200.0, 400.0), p=0.5)\n",
        "  ])\n",
        "#\n",
        "@add_method(PacktDataAug)\n",
        "def draw_augment_sea_animal(self,df,bsize=15):\n",
        "\n",
        "  \"\"\"\n",
        "  This function is used to draw the data loader for the Sea Animal dataset.\n",
        "\n",
        "  Args:\n",
        "    df (pandas.DataFrame): This is a pandas DataFrame that contains the data for the Sea Animal dataset.\n",
        "    bsize (int): This is the batch size for the data loader. Default is 15.\n",
        "\n",
        "  Returns:\n",
        "    fastai.data.DataLoader: returns a data loader for the Sea Animal dataset.\n",
        "  \"\"\"\n",
        "  aug = [\n",
        "    fastai.vision.augment.Dihedral(p=0.5,pad_mode='reflection'),\n",
        "    fastai.vision.augment.Rotate(180.0,p=0.5,pad_mode='reflection'),\n",
        "    fastai.vision.augment.Warp(magnitude=0.3, pad_mode='reflection',p=0.5),\n",
        "    fastai.vision.augment.RandomErasing(p=0.5,max_count=2),\n",
        "    AlbumentationsTransform(self._fetch_album_sea_animal())\n",
        "    ]\n",
        "  itfms = fastai.vision.augment.Resize(480)\n",
        "  dsl_org = self._make_data_loader(df, aug,itfms)\n",
        "  dsl_org.show_batch(max_n=bsize)\n",
        "  return dsl_org"
      ],
      "metadata": {
        "id": "0fccNxFRjLvM",
        "colab": {
          "base_uri": "https://localhost:8080/"
        },
        "outputId": "5da43e85-e44a-455a-8720-418d4ae8acd6"
      },
      "execution_count": 35,
      "outputs": [
        {
          "output_type": "stream",
          "name": "stdout",
          "text": [
            "Appending to Data-Augmentation-with-Python/pluto/pluto_chapter_3.py\n"
          ]
        }
      ]
    },
    {
      "cell_type": "code",
      "source": [
        "pluto.dls_sea_animal = pluto.draw_augment_sea_animal(pluto.df_sea_animal)"
      ],
      "metadata": {
        "id": "ZAjTmOPXjLyn"
      },
      "execution_count": null,
      "outputs": []
    },
    {
      "cell_type": "markdown",
      "source": [
        "## draw augment food"
      ],
      "metadata": {
        "id": "GEKhlp-HoI15"
      }
    },
    {
      "cell_type": "code",
      "source": [
        "# %%writefile -a {pluto_chapter_3}\n",
        "\n",
        "@add_method(PacktDataAug)\n",
        "def _fetch_album_food(self):\n",
        "\n",
        "  \"\"\"\n",
        "  This function is used to fetch the albumentation for the Vietnam food dataset.\n",
        "\n",
        "  Args:\n",
        "    None\n",
        "\n",
        "  Returns:\n",
        "    This function returns an albumentation objects for the Vietnam good dataset.\n",
        "  \"\"\"\n",
        "\n",
        "  return albumentations.Compose([\n",
        "  albumentations.ColorJitter(brightness=0.4, contrast=0.4, saturation=2.0,hue=1.5, p=0.5),\n",
        "  albumentations.FancyPCA(alpha=0.5, p=0.5),\n",
        "  albumentations.GaussNoise(var_limit=(200.0, 400.0), p=0.5)\n",
        "  ])\n",
        "#\n",
        "@add_method(PacktDataAug)\n",
        "def draw_augment_food(self,df,bsize=15):\n",
        "\n",
        "  \"\"\"\n",
        "  This function is used to draw the data loader for the Vietnam food dataset.\n",
        "\n",
        "  Args:\n",
        "    df (pandas.DataFrame): This is a pandas DataFrame that contains the data for the Vietname food dataset.\n",
        "    bsize (int): This is the batch size for the data loader. Default is 15.\n",
        "\n",
        "  Returns:\n",
        "    fastai.data.DataLoader: returns a data loader for the Vietnam food dataset.\n",
        "  \"\"\"\n",
        "\n",
        "  aug = [\n",
        "    fastai.vision.augment.Dihedral(p=0.5,pad_mode='reflection'),\n",
        "    fastai.vision.augment.Rotate(180.0,p=0.5,pad_mode='reflection'),\n",
        "    fastai.vision.augment.Warp(magnitude=0.3, pad_mode='reflection',p=0.5),\n",
        "    fastai.vision.augment.RandomErasing(p=0.5,max_count=2),\n",
        "    AlbumentationsTransform(self._fetch_album_food())\n",
        "    ]\n",
        "  itfms = fastai.vision.augment.Resize(480)\n",
        "  dsl_org = self._make_data_loader(df, aug,itfms)\n",
        "  dsl_org.show_batch(max_n=bsize)\n",
        "  return dsl_org"
      ],
      "metadata": {
        "id": "tfu5Kv2NoIMP",
        "colab": {
          "base_uri": "https://localhost:8080/"
        },
        "outputId": "c660e5c8-fa5c-4368-bba0-405af30b2581"
      },
      "execution_count": 36,
      "outputs": [
        {
          "output_type": "stream",
          "name": "stdout",
          "text": [
            "Appending to Data-Augmentation-with-Python/pluto/pluto_chapter_3.py\n"
          ]
        }
      ]
    },
    {
      "cell_type": "code",
      "source": [
        "pluto.dls_food = pluto.draw_augment_food(pluto.df_food)"
      ],
      "metadata": {
        "id": "nDi1WY8VjMCA"
      },
      "execution_count": null,
      "outputs": []
    },
    {
      "cell_type": "markdown",
      "source": [
        "## draw augment mall crowd"
      ],
      "metadata": {
        "id": "YQ7m-6tnpIYz"
      }
    },
    {
      "cell_type": "code",
      "source": [
        "# %%writefile -a {pluto_chapter_3}\n",
        "\n",
        "@add_method(PacktDataAug)\n",
        "def _fetch_album_crowd(self):\n",
        "\n",
        "  \"\"\"\n",
        "  This function is used to fetch the albumentation for the Mall Crowd dataset.\n",
        "\n",
        "  Args:\n",
        "    None\n",
        "\n",
        "  Returns:\n",
        "    This function returns an albumentation objects for the Mall Crowd good dataset.\n",
        "  \"\"\"\n",
        "\n",
        "  return albumentations.Compose([\n",
        "  albumentations.ColorJitter(brightness=0.3, contrast=0.4, saturation=3.5,hue=0.0, p=0.5),\n",
        "  albumentations.ToSepia(p=0.5),\n",
        "  albumentations.FancyPCA(alpha=0.5, p=0.5),\n",
        "  albumentations.GaussNoise(var_limit=(300.0, 500.0), p=0.5)\n",
        "  ])\n",
        "#\n",
        "@add_method(PacktDataAug)\n",
        "def draw_augment_crowd(self,df,bsize=15):\n",
        "\n",
        "  \"\"\"\n",
        "  This function is used to draw the data loader for the Mall Crowd dataset.\n",
        "\n",
        "  Args:\n",
        "    df (pandas.DataFrame): This is a pandas DataFrame that contains the data for the Mall Crowd dataset.\n",
        "    bsize (int): This is the batch size for the data loader. Default is 15.\n",
        "\n",
        "  Returns:\n",
        "    fastai.data.DataLoader: returns a data loader for the Mall Crowd dataset.\n",
        "  \"\"\"\n",
        "\n",
        "  aug = [\n",
        "    fastai.vision.augment.Flip(p=0.5),\n",
        "    fastai.vision.augment.Rotate(25.0,p=0.5,pad_mode='zeros'),\n",
        "    fastai.vision.augment.Warp(magnitude=0.3, pad_mode='zeros',p=0.5),\n",
        "    fastai.vision.augment.RandomErasing(p=0.5,max_count=2),\n",
        "    AlbumentationsTransform(self._fetch_album_crowd())\n",
        "    ]\n",
        "  itfms = fastai.vision.augment.Resize(480)\n",
        "  dsl_org = self._make_data_loader(df, aug,itfms)\n",
        "  dsl_org.show_batch(max_n=bsize)\n",
        "  return dsl_org"
      ],
      "metadata": {
        "id": "5OkMjxI0PKTa",
        "colab": {
          "base_uri": "https://localhost:8080/"
        },
        "outputId": "e51f2f62-3092-402d-f79c-e7345aa797a8"
      },
      "execution_count": 37,
      "outputs": [
        {
          "output_type": "stream",
          "name": "stdout",
          "text": [
            "Appending to Data-Augmentation-with-Python/pluto/pluto_chapter_3.py\n"
          ]
        }
      ]
    },
    {
      "cell_type": "code",
      "source": [
        "pluto.dls_crowd = pluto.draw_augment_crowd(pluto.df_crowd)"
      ],
      "metadata": {
        "id": "ZVm0_4ezPKWv"
      },
      "execution_count": null,
      "outputs": []
    },
    {
      "cell_type": "code",
      "source": [
        "# end of chapter 3\n",
        "print('end of chapter 3')"
      ],
      "metadata": {
        "id": "ZKW3Ga3zqUkF"
      },
      "execution_count": null,
      "outputs": []
    },
    {
      "cell_type": "markdown",
      "source": [
        "# (Optional) Teaser functions\n",
        "\n",
        "- These function are for the book teaser method"
      ],
      "metadata": {
        "id": "ACAfFhfxWXUu"
      }
    },
    {
      "cell_type": "code",
      "source": [
        "# %%writefile -a {pluto_chapter_3}\n",
        "\n",
        "# prompt: write detail documentation for the following function: _draw_image_teaser\n",
        "@add_method(PacktDataAug)\n",
        "def _draw_image_teaser(self,df,aug_album,label='augment image'):\n",
        "\n",
        "  \"\"\"\n",
        "  This function is used to draw the image teaser for the book.\n",
        "\n",
        "  Args:\n",
        "    df (pandas.DataFrame): This is a pandas DataFrame that contains the data for the dataset.\n",
        "    aug_album (albumentations.Compose): This is an albumentation object that will be used to\n",
        "      perform the augmentation on the image.\n",
        "    label (str): This is a string that will be used to label the image that has been augmented.\n",
        "      Default is \"augment image\"\n",
        "\n",
        "  Returns:\n",
        "    None\n",
        "  \"\"\"\n",
        "\n",
        "  canvas, pic = matplotlib.pyplot.subplots(1, 2, figsize=(12, 6))\n",
        "  #pics = pic.flatten()\n",
        "  # select random images\n",
        "  samp = df.sample(1)\n",
        "  samp.reset_index(drop=True, inplace=True)\n",
        "  #\n",
        "  orig_img = PIL.Image.open(samp.fname[0])\n",
        "  pic[0].imshow(orig_img)\n",
        "  pic[0].set_title('Original')\n",
        "  #\n",
        "  img_numpy = numpy.array(orig_img)\n",
        "  img = aug_album(image=img_numpy)['image']\n",
        "  pic[1].imshow(img)\n",
        "  pic[1].set_title(label)\n",
        "  #\n",
        "  canvas.tight_layout()\n",
        "  self._drop_image(canvas)\n",
        "  canvas.show()\n",
        "  return"
      ],
      "metadata": {
        "id": "vmqsjZpnW3uc",
        "colab": {
          "base_uri": "https://localhost:8080/"
        },
        "outputId": "3009c329-b6a4-4019-85c1-a140b583ba68"
      },
      "execution_count": 38,
      "outputs": [
        {
          "output_type": "stream",
          "name": "stdout",
          "text": [
            "Appending to Data-Augmentation-with-Python/pluto/pluto_chapter_3.py\n"
          ]
        }
      ]
    },
    {
      "cell_type": "code",
      "source": [
        "# %%writefile -a {pluto_chapter_3}\n",
        "\n",
        "# prompt: write detail documentation for the following function: draw_image_teaser_brightness\n",
        "@add_method(PacktDataAug)\n",
        "def draw_image_teaser_brightness(self,df,brightness=0.2,label='Brightness'):\n",
        "\n",
        "  \"\"\"\n",
        "  This function is used to draw the image teaser for the book.\n",
        "\n",
        "  Args:\n",
        "    df (pandas.DataFrame): This is a pandas DataFrame that contains the data for the dataset.\n",
        "    brightness (float): This is a float that will be used to adjust the brightness of the image.\n",
        "      Default is 0.2.\n",
        "    label (str): This is a string that will be used to label the image that has been augmented.\n",
        "      Default is \"augment image\"\n",
        "\n",
        "  Returns:\n",
        "    None\n",
        "  \"\"\"\n",
        "\n",
        "  aug_album = albumentations.ColorJitter(brightness=brightness,\n",
        "    contrast=0.0, saturation=0.0,hue=0.0,always_apply=True, p=1.0)\n",
        "  self._draw_image_teaser(df,aug_album,label)\n",
        "  return"
      ],
      "metadata": {
        "id": "E-MLsYdPW3zZ",
        "colab": {
          "base_uri": "https://localhost:8080/"
        },
        "outputId": "285c01fc-7835-4d50-b426-8ade00d28b63"
      },
      "execution_count": 39,
      "outputs": [
        {
          "output_type": "stream",
          "name": "stdout",
          "text": [
            "Appending to Data-Augmentation-with-Python/pluto/pluto_chapter_3.py\n"
          ]
        }
      ]
    },
    {
      "cell_type": "code",
      "source": [
        "pluto.draw_image_teaser_brightness(pluto.df_people, brightness=0.8, label='darken')"
      ],
      "metadata": {
        "id": "UdzUi9J1W34L"
      },
      "execution_count": null,
      "outputs": []
    },
    {
      "cell_type": "code",
      "source": [
        "# %%writefile -a {pluto_chapter_3}\n",
        "\n",
        "# prompt: write detail documentation for the following function: draw_image_teaser_flip\n",
        "@add_method(PacktDataAug)\n",
        "def draw_image_teaser_flip(self,df,label='Verticle Flip'):\n",
        "\n",
        "  \"\"\"\n",
        "  This function is used to draw the image teaser for the book.\n",
        "\n",
        "  Args:\n",
        "    df (pandas.DataFrame): This is a pandas DataFrame that contains the data for the dataset.\n",
        "    label (str): This is a string that will be used to label the image that has been augmented.\n",
        "      Default is \"Vericle Flip\"\n",
        "\n",
        "  Returns:\n",
        "    None\n",
        "  \"\"\"\n",
        "\n",
        "  aug_album = albumentations.VerticalFlip(always_apply=True, p=1.0)\n",
        "  self._draw_image_teaser(df,aug_album,label)\n",
        "  return"
      ],
      "metadata": {
        "id": "Yv0DesecW38G",
        "colab": {
          "base_uri": "https://localhost:8080/"
        },
        "outputId": "cb0512c0-1514-4775-df95-6fa92620f60c"
      },
      "execution_count": 40,
      "outputs": [
        {
          "output_type": "stream",
          "name": "stdout",
          "text": [
            "Appending to Data-Augmentation-with-Python/pluto/pluto_chapter_3.py\n"
          ]
        }
      ]
    },
    {
      "cell_type": "code",
      "source": [
        "pluto.draw_image_teaser_flip(pluto.df_people)"
      ],
      "metadata": {
        "id": "2APZJGV5chsv"
      },
      "execution_count": null,
      "outputs": []
    },
    {
      "cell_type": "code",
      "source": [
        "# %%writefile -a {pluto_chapter_3}\n",
        "\n",
        "# prompt: write detail documentation for the following function: draw_image_teaser_crop\n",
        "@add_method(PacktDataAug)\n",
        "def draw_image_teaser_crop(self,df,label='Center Crop'):\n",
        "\n",
        "  \"\"\"\n",
        "  This function is used to draw the image teaser for the book.\n",
        "\n",
        "  Args:\n",
        "    df (pandas.DataFrame): This is a pandas DataFrame that contains the data for the dataset.\n",
        "    label (str): This is a string that will be used to label the image that has been augmented.\n",
        "      Default is \"Center Crop\"\n",
        "\n",
        "  Returns:\n",
        "    None\n",
        "  \"\"\"\n",
        "\n",
        "  aug_album = albumentations.CenterCrop(500, 500, always_apply=True, p=1.0)\n",
        "  self._draw_image_teaser(df,aug_album,label)\n",
        "  return"
      ],
      "metadata": {
        "id": "dIKRorQ4chwe",
        "colab": {
          "base_uri": "https://localhost:8080/"
        },
        "outputId": "5a82c2d5-6835-4bca-c24e-ea2722b45fb4"
      },
      "execution_count": 41,
      "outputs": [
        {
          "output_type": "stream",
          "name": "stdout",
          "text": [
            "Appending to Data-Augmentation-with-Python/pluto/pluto_chapter_3.py\n"
          ]
        }
      ]
    },
    {
      "cell_type": "code",
      "source": [
        "pluto.draw_image_teaser_crop(pluto.df_people)"
      ],
      "metadata": {
        "id": "5KcbUzyFch2_"
      },
      "execution_count": null,
      "outputs": []
    },
    {
      "cell_type": "code",
      "source": [
        "# pluto.fname_id"
      ],
      "metadata": {
        "id": "5Ho5wcmKch6U"
      },
      "execution_count": null,
      "outputs": []
    },
    {
      "cell_type": "code",
      "source": [
        "# %%writefile -a {pluto_chapter_3}\n",
        "\n",
        "# prompt: write detail documentation for the following function: draw_image_teaser_resize\n",
        "\n",
        "@add_method(PacktDataAug)\n",
        "def draw_image_teaser_resize(self,df,label='Resize with squishing mode'):\n",
        "\n",
        "    \"\"\"\n",
        "  This function is used to draw the image teaser for the book.\n",
        "\n",
        "  Args:\n",
        "    df (pandas.DataFrame): This is a pandas DataFrame that contains the data for the dataset.\n",
        "    label (str): This is a string that will be used to label the image that has been augmented.\n",
        "      Default is \"Center Crop\"\n",
        "\n",
        "  Returns:\n",
        "    None\n",
        "  \"\"\"\n",
        "\n",
        "  aug_album = albumentations.Resize(500,500, always_apply=True, p=1.0)\n",
        "  self._draw_image_teaser(df,aug_album,label)\n",
        "  return"
      ],
      "metadata": {
        "id": "6yaLXI-Gch9f",
        "colab": {
          "base_uri": "https://localhost:8080/"
        },
        "outputId": "396406d3-451d-4385-fa40-167836cfc3af"
      },
      "execution_count": 42,
      "outputs": [
        {
          "output_type": "stream",
          "name": "stdout",
          "text": [
            "Appending to Data-Augmentation-with-Python/pluto/pluto_chapter_3.py\n"
          ]
        }
      ]
    },
    {
      "cell_type": "code",
      "source": [
        "pluto.draw_image_teaser_resize(pluto.df_people)"
      ],
      "metadata": {
        "id": "uoRQP6cKciAq"
      },
      "execution_count": null,
      "outputs": []
    },
    {
      "cell_type": "code",
      "source": [
        "# %%writefile -a {pluto_chapter_3}\n",
        "\n",
        "# prompt: write detail documentation for the following function: draw_image_teaser_rotate\n",
        "@add_method(PacktDataAug)\n",
        "def draw_image_teaser_rotate(self,df,label='Rotate and Reflection Padding'):\n",
        "\n",
        "  \"\"\"\n",
        "  This function is used to draw the image teaser for the book.\n",
        "\n",
        "  Args:\n",
        "    df (pandas.DataFrame): This is a pandas DataFrame that contains the data for the dataset.\n",
        "    label (str): This is a string that will be used to label the image that has been augmented.\n",
        "      Default is \"Rotate and Reflection Padding\"\n",
        "\n",
        "  Returns:\n",
        "    None\n",
        "  \"\"\"\n",
        "\n",
        "  aug_album = albumentations.Rotate(limit=(40,70), always_apply=True, p=1.0)\n",
        "  self._draw_image_teaser(df,aug_album,label)\n",
        "  return"
      ],
      "metadata": {
        "id": "-GsJxvoy0BuE",
        "colab": {
          "base_uri": "https://localhost:8080/"
        },
        "outputId": "c22e6cce-c4f9-44a4-962d-3b5dcde53483"
      },
      "execution_count": 43,
      "outputs": [
        {
          "output_type": "stream",
          "name": "stdout",
          "text": [
            "Appending to Data-Augmentation-with-Python/pluto/pluto_chapter_3.py\n"
          ]
        }
      ]
    },
    {
      "cell_type": "code",
      "source": [
        "pluto.draw_image_teaser_rotate(pluto.df_people)"
      ],
      "metadata": {
        "id": "oMcER8vW0Bxq"
      },
      "execution_count": null,
      "outputs": []
    },
    {
      "cell_type": "code",
      "source": [
        "# %%writefile -a {pluto_chapter_3}\n",
        "\n",
        "# prompt: write detail documentation for the following function: draw_image_teaser_noise\n",
        "@add_method(PacktDataAug)\n",
        "def draw_image_teaser_noise(self,df,label='Noice injection using Gaussian method'):\n",
        "\n",
        "  \"\"\"\n",
        "  This function is used to draw the image teaser for the book.\n",
        "\n",
        "  Args:\n",
        "    df (pandas.DataFrame): This is a pandas DataFrame that contains the data for the dataset.\n",
        "    label (str): This is a string that will be used to label the image that has been augmented.\n",
        "      Default is \"Noice injection using Gaussian method\"\n",
        "\n",
        "  Returns:\n",
        "    None\n",
        "  \"\"\"\n",
        "\n",
        "  aug_album = albumentations.GaussNoise((800, 1000), always_apply=True, p=1.0)\n",
        "  self._draw_image_teaser(df,aug_album,label)\n",
        "  return"
      ],
      "metadata": {
        "id": "yi1BG1bZ0B3z",
        "colab": {
          "base_uri": "https://localhost:8080/"
        },
        "outputId": "5b3e93a4-54aa-490e-b71e-3e502dd7c72d"
      },
      "execution_count": 44,
      "outputs": [
        {
          "output_type": "stream",
          "name": "stdout",
          "text": [
            "Appending to Data-Augmentation-with-Python/pluto/pluto_chapter_3.py\n"
          ]
        }
      ]
    },
    {
      "cell_type": "code",
      "source": [
        "pluto.draw_image_teaser_noise(pluto.df_people)"
      ],
      "metadata": {
        "id": "FxoO4aZJ0B6F"
      },
      "execution_count": null,
      "outputs": []
    },
    {
      "cell_type": "code",
      "source": [
        "# pluto.fname_id"
      ],
      "metadata": {
        "id": "0eLZeo120B9V"
      },
      "execution_count": null,
      "outputs": []
    },
    {
      "cell_type": "code",
      "source": [
        "# %%writefile -a {pluto_chapter_3}\n",
        "\n",
        "# prompt: write detail documentation for the following function: draw_image_teaser_hue\n",
        "@add_method(PacktDataAug)\n",
        "def draw_image_teaser_hue(self,df,label='Hue shifting'):\n",
        "\n",
        "  \"\"\"\n",
        "  This function is used to draw the image teaser for the book.\n",
        "\n",
        "  Args:\n",
        "    df (pandas.DataFrame): This is a pandas DataFrame that contains the data for the dataset.\n",
        "    label (str): This is a string that will be used to label the image that has been augmented.\n",
        "      Default is \"Hue shifting\"\n",
        "\n",
        "  Returns:\n",
        "    None\n",
        "  \"\"\"\n",
        "\n",
        "  aug_album = albumentations.ColorJitter(brightness=0.0,\n",
        "    contrast=0.0, saturation=0.0,hue=0.5,always_apply=True, p=1.0)\n",
        "  self._draw_image_teaser(df,aug_album,label)\n",
        "  return"
      ],
      "metadata": {
        "id": "kfDdKtUyCymQ",
        "colab": {
          "base_uri": "https://localhost:8080/"
        },
        "outputId": "ef35cc99-32e0-4b45-eaf4-00a74deb0b8d"
      },
      "execution_count": 45,
      "outputs": [
        {
          "output_type": "stream",
          "name": "stdout",
          "text": [
            "Appending to Data-Augmentation-with-Python/pluto/pluto_chapter_3.py\n"
          ]
        }
      ]
    },
    {
      "cell_type": "code",
      "source": [
        "pluto.draw_image_teaser_hue(pluto.df_people)"
      ],
      "metadata": {
        "id": "arKWUjguCypH"
      },
      "execution_count": null,
      "outputs": []
    },
    {
      "cell_type": "markdown",
      "source": [
        "# Check Doc"
      ],
      "metadata": {
        "id": "0hMqY2Nc6t4H"
      }
    },
    {
      "cell_type": "code",
      "source": [
        "help(pluto)"
      ],
      "metadata": {
        "colab": {
          "base_uri": "https://localhost:8080/"
        },
        "id": "glL23-aY6x3l",
        "outputId": "9f663ef6-0262-4d42-d7fe-44ae5e7c5940"
      },
      "execution_count": 46,
      "outputs": [
        {
          "output_type": "stream",
          "name": "stdout",
          "text": [
            "Help on PacktDataAug in module __main__ object:\n",
            "\n",
            "class PacktDataAug(builtins.object)\n",
            " |  PacktDataAug(name='Pluto', is_verbose=True, *args, **kwargs)\n",
            " |  \n",
            " |  The PacktDataAug class is the based class for the\n",
            " |  \"Data Augmentation with Python\" book.\n",
            " |  \n",
            " |  Methods defined here:\n",
            " |  \n",
            " |  __init__(self, name='Pluto', is_verbose=True, *args, **kwargs)\n",
            " |      This is the constructor function.\n",
            " |      \n",
            " |      Args:\n",
            " |      \n",
            " |       name (str): It requires a name for the object. The default is 'Pluto'\n",
            " |       verbose (bool):  The default value of `verbose` is True. This function prints out the\n",
            " |          name of the object if `is_verbose == True`. This is used to debug\n",
            " |          code. When you are ready to deploy the model, then you should set\n",
            " |          `is_verbose == False` in order to avoid printing out diagnostic\n",
            " |          messages.\n",
            " |      \n",
            " |        Additionally, this function takes any number of other\n",
            " |        parameters. These parameters are stored in `**kwargs` and are\n",
            " |        accessed via the function `get_kwargs()`. See the documentation\n",
            " |        for `get_kwargs()` for more details.\n",
            " |        Note that `__init__()` is\n",
            " |        automatically called when you create a new object.\n",
            " |      \n",
            " |      Returns:\n",
            " |        None.\n",
            " |  \n",
            " |  build_sf_fname(self, df)\n",
            " |      This method builds the file name for a given row in the State Farm DataFrame.\n",
            " |      \n",
            " |      Args:\n",
            " |        df (Pandas DataFrame): The State Farm DataFrame.\n",
            " |      \n",
            " |      Returns:\n",
            " |        None\n",
            " |  \n",
            " |  build_shoe_fname(self, start_path)\n",
            " |      This method builds the file name for a given directory.\n",
            " |      \n",
            " |      Args:\n",
            " |        start_path (str): The starting directory.\n",
            " |      \n",
            " |      Returns:\n",
            " |        DataFrame: The DataFrame containing the file names.\n",
            " |  \n",
            " |  check_spelling(self, df, col_dest='description')\n",
            " |      This method checks the spelling in a column and returns a new column \n",
            " |      \"misspelled\" and \"misspelled_count\".\n",
            " |      \n",
            " |      Args:\n",
            " |        df (DataFrame): The input DataFrame.\n",
            " |        col_dest (str): The column name to be checked, default \"description\"\n",
            " |      \n",
            " |      Returns:\n",
            " |        None\n",
            " |  \n",
            " |  count_word(self, df, col_dest='description')\n",
            " |      This method counts the number of words in a column named \"wordc\"\n",
            " |      \n",
            " |      Args:\n",
            " |        df (DataFrame): The input DataFrame.\n",
            " |        col_dest (str): The column name to be counted, default \"description\"\n",
            " |      \n",
            " |      Returns:\n",
            " |        None\n",
            " |  \n",
            " |  draw_batch(self, df_filenames, disp_max=10, is_shuffle=False, figsize=(16, 8))\n",
            " |      This method draws the images specified in the DataFrame.\n",
            " |      \n",
            " |      Args:\n",
            " |        df_filenames (Pandas DataFrame): The DataFrame containing the file names.\n",
            " |        disp_max (int): The maximum number of images to be drawn. Default is 10.\n",
            " |        is_shuffle (bool): Whether to shuffle the images. Default is False.\n",
            " |        figsize (tuple): The figure size. Default is (16,8).\n",
            " |      \n",
            " |      Returns:\n",
            " |        None\n",
            " |  \n",
            " |  draw_word_count(self, df, wc='wordc', is_stack_verticle=True)\n",
            " |      This method creates two plots:\n",
            " |        1. a boxplot of word count\n",
            " |        2. a histogram of word count\n",
            " |      \n",
            " |      Args:\n",
            " |        df (DataFrame): The input DataFrame.\n",
            " |        wc (str): The column name of word count, default \"wordc\".\n",
            " |        is_stack_verticle (bool): Whether to stack the two plots vertically. Default is True.\n",
            " |      \n",
            " |      Returns:\n",
            " |        None\n",
            " |  \n",
            " |  fetch_df(self, csv, sep=',')\n",
            " |      This method reads and loads a CSV file into a Pandas DataFrame.\n",
            " |      \n",
            " |      Args:\n",
            " |        csv (str): The path to a CSV file.\n",
            " |        sep (str): The column separator character, default is comma \",\".\n",
            " |      \n",
            " |      Returns:\n",
            " |        DataFrame: A pandas DataFrame.\n",
            " |  \n",
            " |  fetch_kaggle_comp_data(self, cname)\n",
            " |      This method downloads and unzip the data from the Competition on Kaggle.\n",
            " |      You need to join the competition before downloading the data.\n",
            " |      \n",
            " |      Args:\n",
            " |        cname (str): The name of the competition on Kaggle.\n",
            " |      \n",
            " |      Returns:\n",
            " |        None\n",
            " |  \n",
            " |  fetch_kaggle_dataset(self, url, dest='kaggle')\n",
            " |      This method downloads the data from the Kaggle's dataset.\n",
            " |      You need NOT to join the competition before downloading the data.\n",
            " |      \n",
            " |      Args:\n",
            " |        url (str): The url of the dataset on Kaggle.\n",
            " |        dest (str): the destination path, default is \"kaggle\" directory.\n",
            " |      \n",
            " |      Returns:\n",
            " |        None\n",
            " |  \n",
            " |  make_dir_dataframe(self, start_path)\n",
            " |      This method builds the file name for a given directory.\n",
            " |      \n",
            " |      Args:\n",
            " |        start_path (str): The starting directory.\n",
            " |      \n",
            " |      Returns:\n",
            " |        DataFrame: The DataFrame containing the file names.\n",
            " |  \n",
            " |  print_batch_text(self, df_orig, disp_max=6, cols=['title', 'description'], is_larger_font=True)\n",
            " |      This method shows a batch of text data.\n",
            " |      \n",
            " |      Args:\n",
            " |        df_orig (DataFrame): The input DataFrame.\n",
            " |        disp_max (int): The maximum number of rows to be displayed. Default is 6.\n",
            " |        cols (list): The list of columns to display. Default is [\"title\", \"description\"].\n",
            " |        is_larger_font (bool): Whether to use larger font. Default is True.\n",
            " |      \n",
            " |      Returns:\n",
            " |        None\n",
            " |  \n",
            " |  remember_kaggle_access_keys(self, username, key)\n",
            " |      This method takes a username and a Kaggle API key as arguments and stores\n",
            " |      them in the class object.\n",
            " |      \n",
            " |      Args:\n",
            " |       username (str): The Kaggle username.\n",
            " |       key (str): The Kaggle API key.\n",
            " |      \n",
            " |      Returns:\n",
            " |       None\n",
            " |  \n",
            " |  say_sys_info(self)\n",
            " |      Print out system information. Useful for\n",
            " |      debugging purposes. Prints out information such as\n",
            " |      the system time, platform, Python version, PyTorch\n",
            " |      version, Pandas version, PIL version, and\n",
            " |      Matplotlib version. Also prints the number of CPU\n",
            " |      cores and the CPU speed.\n",
            " |      \n",
            " |      Note that this function is added to the class `PacktDataAug` via\n",
            " |      the decorator `@add_method()`. This means that you can\n",
            " |      call this function as `p.say_system_info()`,\n",
            " |      where `p` is an instance of `PacktDAtaAug`.\n",
            " |      \n",
            " |      Args:\n",
            " |        None\n",
            " |      \n",
            " |      Returns:\n",
            " |        None\n",
            " |  \n",
            " |  ----------------------------------------------------------------------\n",
            " |  Data descriptors defined here:\n",
            " |  \n",
            " |  __dict__\n",
            " |      dictionary for instance variables (if defined)\n",
            " |  \n",
            " |  __weakref__\n",
            " |      list of weak references to the object (if defined)\n",
            "\n"
          ]
        }
      ]
    },
    {
      "cell_type": "markdown",
      "source": [
        "# Push up all changes (Optional)"
      ],
      "metadata": {
        "id": "LEj7fgaIN9_S"
      }
    },
    {
      "cell_type": "markdown",
      "source": [
        "- username: [your email or username]\n",
        "\n",
        "- password: [use the token]"
      ],
      "metadata": {
        "id": "lHXRf21BT9N8"
      }
    },
    {
      "cell_type": "code",
      "source": [
        "import os\n",
        "f = 'Data-Augmentation-with-Python'\n",
        "os.chdir(f)\n",
        "!git add -A\n",
        "!git config --global user.email \"duc.haba@gmail.com\"\n",
        "!git config --global user.name \"duchaba\"\n",
        "!git commit -m \"add doc to chapter 3\"\n",
        "# do the git push in the xterm console\n",
        "#!git push"
      ],
      "metadata": {
        "id": "eSXJKJFlOEeE",
        "colab": {
          "base_uri": "https://localhost:8080/"
        },
        "outputId": "d2605fb2-454d-4710-ba31-fda5e94b3ae8"
      },
      "execution_count": 47,
      "outputs": [
        {
          "output_type": "stream",
          "name": "stdout",
          "text": [
            "[main e2b70e8] add doc to chapter 3\n",
            " 1 file changed, 1056 insertions(+)\n"
          ]
        }
      ]
    },
    {
      "cell_type": "code",
      "source": [
        "#use the xterm\n",
        "#git push"
      ],
      "metadata": {
        "id": "4gKeXNcuOEhM"
      },
      "execution_count": null,
      "outputs": []
    },
    {
      "cell_type": "markdown",
      "source": [
        "## 🙅\n",
        "- Extra, extra ...\n",
        "- These are page/book clean up routines, so run with extreme caution."
      ],
      "metadata": {
        "id": "iySCULGqxTUv"
      }
    },
    {
      "cell_type": "code",
      "source": [
        "# STEP 1:\n",
        "# prompt: connect to google drive\n",
        "\n",
        "from google.colab import drive\n",
        "drive.mount('/content/drive')"
      ],
      "metadata": {
        "id": "RqGgArNwxT0U",
        "colab": {
          "base_uri": "https://localhost:8080/"
        },
        "outputId": "8bf6013c-b3a2-4d07-bf74-945b6e709ee1"
      },
      "execution_count": null,
      "outputs": [
        {
          "output_type": "stream",
          "name": "stdout",
          "text": [
            "Mounted at /content/drive\n"
          ]
        }
      ]
    },
    {
      "cell_type": "code",
      "source": [
        "# STEP 2:\n",
        "orig_file = 'data_augmentation_with_python_chapter_3_with_output.ipynb'\n",
        "orig_path = '/content/Data-Augmentation-with-Python/Chapter_3/'\n",
        "this_file = f'/content/drive/MyDrive/\"Colab Notebooks\"/{orig_file}'\n",
        "#\n",
        "# Pick one below\n",
        "#\n",
        "local_file=f'{orig_path}data_augmentation_with_python_chapter_3.ipynb'\n",
        "# local_file = f'{orig_path}{orig_file}'\n",
        "# local_file = f'{orig_path}data_augmentation_with_python_chapter_2_with_output.ipynb'"
      ],
      "metadata": {
        "id": "W7yzW7faxT7u"
      },
      "execution_count": null,
      "outputs": []
    },
    {
      "cell_type": "code",
      "source": [
        "# # STEP 3:\n",
        "# # copy latest to google drive so that we can load/open new notebook.\n",
        "# import os\n",
        "# dest = '/content/drive/MyDrive/\"Colab Notebooks\"/book/Data-Augmentation-with-Python'\n",
        "# os.makedirs(dest, exist_ok=True)\n",
        "# src = '/content/Data-Augmentation-with-Python/*'\n",
        "# !cp -fr {src} {dest}"
      ],
      "metadata": {
        "id": "pY_KheRFxT4D"
      },
      "execution_count": null,
      "outputs": []
    },
    {
      "cell_type": "code",
      "source": [
        "# # STEP 4: copy local drive to google drive (this file)\n",
        "# # override so need to reload this page\n",
        "# #\n",
        "# !cp -f {local_file} {this_file}"
      ],
      "metadata": {
        "id": "mkLvKY2kxT_6"
      },
      "execution_count": null,
      "outputs": []
    },
    {
      "cell_type": "code",
      "source": [
        "# STEP 5: copy (this file) to local drive for sync with github.\n",
        "# besure to save the latest first\n",
        "#\n",
        "!cp -f {this_file} {local_file}"
      ],
      "metadata": {
        "id": "HdnqgRYKxxTs"
      },
      "execution_count": null,
      "outputs": []
    },
    {
      "cell_type": "markdown",
      "metadata": {
        "id": "EzO7lDYDWeLz"
      },
      "source": [
        "# Summary"
      ]
    },
    {
      "cell_type": "markdown",
      "metadata": {
        "id": "X2iUPf3EWePd"
      },
      "source": [
        "Every chaper will begin with same base class \"PacktDataAug\".\n",
        "\n",
        "✋ FAIR WARNING:\n",
        "\n",
        "- The coding uses long and complete function path name.\n",
        "\n",
        "- I wrote the code for easy to understand and not for compactness, fast execution, nor cleaverness.\n",
        "\n",
        "- Use Xterm to debug cloud server\n",
        "\n"
      ]
    },
    {
      "cell_type": "code",
      "source": [
        "# !pip install colab-xterm\n",
        "# %load_ext colabxterm\n",
        "# %xterm"
      ],
      "metadata": {
        "id": "vXRG3KaeWbGx"
      },
      "execution_count": null,
      "outputs": []
    }
  ],
  "metadata": {
    "accelerator": "GPU",
    "colab": {
      "provenance": [],
      "toc_visible": true,
      "authorship_tag": "ABX9TyONFSNSAo2KnrkIz6AdgSVG",
      "include_colab_link": true
    },
    "gpuClass": "standard",
    "kernelspec": {
      "display_name": "Python 3",
      "name": "python3"
    },
    "language_info": {
      "name": "python"
    }
  },
  "nbformat": 4,
  "nbformat_minor": 0
}